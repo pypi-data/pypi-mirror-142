{
 "cells": [
  {
   "cell_type": "code",
   "execution_count": null,
   "metadata": {},
   "outputs": [],
   "source": [
    "#currently this notebook is WIP and not working fully\n",
    "#will be sorting out the graphframe import in another update.\n",
    "\n",
    "#TODO:fix graphframes import"
   ]
  },
  {
   "cell_type": "code",
   "execution_count": null,
   "metadata": {},
   "outputs": [],
   "source": [
    "\n",
    "import pyspark\n",
    "from pyspark.context import SparkContext, SparkConf\n",
    "from pyspark.sql import SparkSession\n",
    "from pyspark.sql.window import Window\n",
    "from pyspark.sql.types import *\n",
    "import pyspark.sql.functions as f"
   ]
  },
  {
   "cell_type": "code",
   "execution_count": null,
   "metadata": {},
   "outputs": [],
   "source": [
    "import networkx as nx"
   ]
  },
  {
   "cell_type": "code",
   "execution_count": null,
   "metadata": {},
   "outputs": [],
   "source": [
    "#util functions to find where splink_graph is installed and create a\n",
    "#suitable string to put on spark.jars configuration so graphframes work.\n",
    "\n",
    "from splink_graph.utils import _get_local_site_packages_dir, _create_spark_jars_string\n",
    "\n"
   ]
  },
  {
   "cell_type": "code",
   "execution_count": null,
   "metadata": {},
   "outputs": [],
   "source": [
    "localsite=_get_local_site_packages_dir()\n",
    "localsite"
   ]
  },
  {
   "cell_type": "code",
   "execution_count": null,
   "metadata": {},
   "outputs": [],
   "source": [
    "sjstring = _create_spark_jars_string().replace(\" \", \"\")\n",
    "sjstring"
   ]
  },
  {
   "cell_type": "code",
   "execution_count": null,
   "metadata": {},
   "outputs": [],
   "source": [
    "\n",
    "    \n",
    "\n",
    "spark = (\n",
    "    SparkSession.builder.appName('GraphUtils').master('local[*]')\n",
    "    #change with your spark intallationconfigs here.These are for MOJ AP\n",
    "    \n",
    "    .config(\"spark.jars.ivy\", \"/home/jovyan/.ivy2/\")\n",
    "    \n",
    "    \n",
    "    #these configs are required for splink_graph and graphframes to run properly \n",
    "    .config(\"spark.sql.execution.arrow.pyspark.enabled\", \"true\")\n",
    "    \n",
    "    .config(\"spark.executorEnv.ARROW_PRE_0_15_IPC_FORMAT\", \"1\")\n",
    "    .config('spark.jars',sjstring)\n",
    "    .getOrCreate()\n",
    "  )"
   ]
  },
  {
   "cell_type": "code",
   "execution_count": null,
   "metadata": {},
   "outputs": [],
   "source": [
    "from graphframes import *\n"
   ]
  },
  {
   "cell_type": "code",
   "execution_count": null,
   "metadata": {},
   "outputs": [],
   "source": [
    "# Create a Vertex DataFrame with unique ID column \"id\"\n",
    "v = spark.createDataFrame([\n",
    "  (\"a\", \"Alice\", 34),\n",
    "  (\"b\", \"Bob\", 36),\n",
    "  (\"c\", \"Charlie\", 30),\n",
    "  (\"d\", \"Dennis\", 30),    \n",
    "  (\"e\", \"Ernest\", 30), \n",
    "  (\"f\", \"Ford\", 30),\n",
    "  (\"g\", \"George\", 30), \n",
    "  (\"h\", \"Harry\", 30),\n",
    "  (\"i\", \"Ion\", 30),\n",
    "  (\"j\", \"John\", 30),\n",
    "    \n",
    "], [\"id\", \"name\", \"age\"])\n",
    "# Create an Edge DataFrame with \"src\" and \"dst\" columns\n",
    "e = spark.createDataFrame([\n",
    "  (\"a\", \"b\", 0.4),\n",
    "  (\"b\", \"c\", 0.56),\n",
    " \n",
    "  \n",
    "  (\"d\", \"e\", 0.84),\n",
    "  (\"e\", \"f\", 0.65),\n",
    "  (\"f\", \"d\", 0.67),\n",
    "  (\"f\", \"g\", 0.34),\n",
    "  (\"g\", \"h\", 0.99),\n",
    "  (\"h\", \"i\", 0.5),\n",
    "  (\"h\", \"j\", 0.8),]\n",
    "    \n",
    ", [\"src\", \"dst\", \"similarity\"])\n",
    "# Create a GraphFrame\n",
    "\n",
    "g = GraphFrame(v, e)"
   ]
  },
  {
   "cell_type": "code",
   "execution_count": null,
   "metadata": {},
   "outputs": [],
   "source": []
  },
  {
   "cell_type": "code",
   "execution_count": null,
   "metadata": {},
   "outputs": [],
   "source": [
    "# Check if graphframes library works\n",
    "g.inDegrees.show()"
   ]
  },
  {
   "cell_type": "code",
   "execution_count": null,
   "metadata": {},
   "outputs": [],
   "source": [
    "# create a function to plot a graphframe graph via networkx and matplotlib\n",
    "%matplotlib inline\n",
    "import matplotlib.pyplot as plt\n",
    "\n",
    "def PlotGraph(g):\n",
    "    edge_list = g.edges\n",
    "\n",
    "    Gplot=nx.Graph()\n",
    "    for row in edge_list.select('src','dst','similarity').take(1000):\n",
    "        Gplot.add_edge(row['src'],row['dst'],weight=row['similarity'])\n",
    "        # labels=nx.draw_networkx_labels(Gplot,pos=nx.spring_layout(Gplot))\n",
    "\n",
    "    plt.subplot(121)\n",
    "    nx.draw(Gplot,with_labels=True,font_weight='bold')"
   ]
  },
  {
   "cell_type": "code",
   "execution_count": null,
   "metadata": {},
   "outputs": [],
   "source": [
    "PlotGraph(g)"
   ]
  },
  {
   "cell_type": "code",
   "execution_count": null,
   "metadata": {},
   "outputs": [],
   "source": []
  },
  {
   "cell_type": "code",
   "execution_count": null,
   "metadata": {},
   "outputs": [],
   "source": []
  },
  {
   "cell_type": "code",
   "execution_count": null,
   "metadata": {},
   "outputs": [],
   "source": []
  }
 ],
 "metadata": {
  "kernelspec": {
   "display_name": "data_linkage",
   "language": "python",
   "name": "data_linkage"
  },
  "language_info": {
   "codemirror_mode": {
    "name": "ipython",
    "version": 3
   },
   "file_extension": ".py",
   "mimetype": "text/x-python",
   "name": "python",
   "nbconvert_exporter": "python",
   "pygments_lexer": "ipython3",
   "version": "3.7.6"
  }
 },
 "nbformat": 4,
 "nbformat_minor": 4
}
