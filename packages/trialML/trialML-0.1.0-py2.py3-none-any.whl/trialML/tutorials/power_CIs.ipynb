{
 "cells": [
  {
   "cell_type": "markdown",
   "id": "08fa1742",
   "metadata": {},
   "source": [
    "# Confidence intervals for power from point on ROC curve\n",
    "\n",
    "## (1) Train a model and obtain scores on a test set\n"
   ]
  },
  {
   "cell_type": "code",
   "execution_count": 1,
   "id": "8a1d0221",
   "metadata": {},
   "outputs": [],
   "source": [
    "# Load modules\n",
    "import numpy as np\n",
    "from sklearn.linear_model import LogisticRegression\n",
    "from trialML.power import twosided_classification\n",
    "\n",
    "# Generate data\n",
    "np.random.seed(1)\n",
    "n, p = 150, 10\n",
    "k1, k2 = 50, 100\n",
    "X, y = np.random.randn(n, p), np.random.binomial(1, 0.5, n)\n",
    "X_train, y_train, X_test, y_test = X[:k1], y[:k1], X[k1:k2], y[k1:k2]\n",
    "X_trial, y_trial = X[k1:], y[k1:]\n",
    "mdl = LogisticRegression(penalty='none', solver='lbfgs')\n",
    "mdl.fit(X=X_train, y=y_train)\n",
    "# test set scores\n",
    "s_test = mdl.predict_proba(X_test)[:,1]\n",
    "s_test = np.log(s_test / (1-s_test))  # logit transform"
   ]
  },
  {
   "cell_type": "markdown",
   "id": "0ebed2ca",
   "metadata": {},
   "source": [
    "## (2) Select a point on the ROC curve when sensitivity equals 50%"
   ]
  },
  {
   "cell_type": "code",
   "execution_count": 2,
   "id": "150da1c1",
   "metadata": {},
   "outputs": [],
   "source": [
    "m1 = 'sensitivity'\n",
    "m2 = 'specificity'\n",
    "alpha = 0.05  # type-I error rate for test\n",
    "gamma1 = 0.5  # for sensitivity\n",
    "power_2s = twosided_classification(m1, m2, alpha)\n",
    "power_2s.set_threshold(y=y_test, s=s_test, gamma1=gamma1)"
   ]
  },
  {
   "cell_type": "markdown",
   "id": "f271cffe",
   "metadata": {},
   "source": [
    "## (3) Get performance range on test set"
   ]
  },
  {
   "cell_type": "code",
   "execution_count": 3,
   "id": "4ed756a5",
   "metadata": {},
   "outputs": [
    {
     "data": {
      "text/html": [
       "<div>\n",
       "<style scoped>\n",
       "    .dataframe tbody tr th:only-of-type {\n",
       "        vertical-align: middle;\n",
       "    }\n",
       "\n",
       "    .dataframe tbody tr th {\n",
       "        vertical-align: top;\n",
       "    }\n",
       "\n",
       "    .dataframe thead th {\n",
       "        text-align: right;\n",
       "    }\n",
       "</style>\n",
       "<table border=\"1\" class=\"dataframe\">\n",
       "  <thead>\n",
       "    <tr style=\"text-align: right;\">\n",
       "      <th></th>\n",
       "      <th>cidx</th>\n",
       "      <th>m</th>\n",
       "      <th>gamma_hat</th>\n",
       "      <th>den</th>\n",
       "      <th>ratio</th>\n",
       "      <th>gamma_lb</th>\n",
       "      <th>gamma_ub</th>\n",
       "    </tr>\n",
       "  </thead>\n",
       "  <tbody>\n",
       "    <tr>\n",
       "      <th>0</th>\n",
       "      <td>0</td>\n",
       "      <td>1</td>\n",
       "      <td>0.522</td>\n",
       "      <td>23</td>\n",
       "      <td>0.46</td>\n",
       "      <td>0.306</td>\n",
       "      <td>0.732</td>\n",
       "    </tr>\n",
       "    <tr>\n",
       "      <th>1</th>\n",
       "      <td>1</td>\n",
       "      <td>2</td>\n",
       "      <td>0.481</td>\n",
       "      <td>27</td>\n",
       "      <td>0.54</td>\n",
       "      <td>0.287</td>\n",
       "      <td>0.681</td>\n",
       "    </tr>\n",
       "  </tbody>\n",
       "</table>\n",
       "</div>"
      ],
      "text/plain": [
       "   cidx  m  gamma_hat  den  ratio  gamma_lb  gamma_ub\n",
       "0     0  1      0.522   23   0.46     0.306     0.732\n",
       "1     1  2      0.481   27   0.54     0.287     0.681"
      ]
     },
     "execution_count": 3,
     "metadata": {},
     "output_type": "execute_result"
    }
   ],
   "source": [
    "df_gamma = power_2s.statistic_CI(y=y_test, s=s_test, threshold=power_2s.threshold)\n",
    "df_gamma.round(3)"
   ]
  },
  {
   "cell_type": "markdown",
   "id": "3c0dd0ce",
   "metadata": {},
   "source": [
    "## (4) Estimate power range"
   ]
  },
  {
   "cell_type": "code",
   "execution_count": 4,
   "id": "46f3372c",
   "metadata": {},
   "outputs": [
    {
     "data": {
      "text/html": [
       "<div>\n",
       "<style scoped>\n",
       "    .dataframe tbody tr th:only-of-type {\n",
       "        vertical-align: middle;\n",
       "    }\n",
       "\n",
       "    .dataframe tbody tr th {\n",
       "        vertical-align: top;\n",
       "    }\n",
       "\n",
       "    .dataframe thead th {\n",
       "        text-align: right;\n",
       "    }\n",
       "</style>\n",
       "<table border=\"1\" class=\"dataframe\">\n",
       "  <thead>\n",
       "    <tr style=\"text-align: right;\">\n",
       "      <th></th>\n",
       "      <th>cidx</th>\n",
       "      <th>m</th>\n",
       "      <th>gamma_hat</th>\n",
       "      <th>ratio</th>\n",
       "      <th>gamma_lb</th>\n",
       "      <th>gamma_ub</th>\n",
       "      <th>threshold</th>\n",
       "      <th>gamma0</th>\n",
       "      <th>power_point</th>\n",
       "      <th>power_lb</th>\n",
       "      <th>power_ub</th>\n",
       "    </tr>\n",
       "  </thead>\n",
       "  <tbody>\n",
       "    <tr>\n",
       "      <th>0</th>\n",
       "      <td>0</td>\n",
       "      <td>1</td>\n",
       "      <td>0.522</td>\n",
       "      <td>0.46</td>\n",
       "      <td>0.306</td>\n",
       "      <td>0.732</td>\n",
       "      <td>0.448</td>\n",
       "      <td>0.472</td>\n",
       "      <td>0.167</td>\n",
       "      <td>0.0</td>\n",
       "      <td>0.983</td>\n",
       "    </tr>\n",
       "    <tr>\n",
       "      <th>1</th>\n",
       "      <td>1</td>\n",
       "      <td>2</td>\n",
       "      <td>0.481</td>\n",
       "      <td>0.54</td>\n",
       "      <td>0.287</td>\n",
       "      <td>0.681</td>\n",
       "      <td>0.448</td>\n",
       "      <td>0.431</td>\n",
       "      <td>0.185</td>\n",
       "      <td>0.0</td>\n",
       "      <td>0.985</td>\n",
       "    </tr>\n",
       "  </tbody>\n",
       "</table>\n",
       "</div>"
      ],
      "text/plain": [
       "   cidx  m  gamma_hat  ratio  gamma_lb  gamma_ub  threshold  gamma0  \\\n",
       "0     0  1      0.522   0.46     0.306     0.732      0.448   0.472   \n",
       "1     1  2      0.481   0.54     0.287     0.681      0.448   0.431   \n",
       "\n",
       "   power_point  power_lb  power_ub  \n",
       "0        0.167       0.0     0.983  \n",
       "1        0.185       0.0     0.985  "
      ]
     },
     "execution_count": 4,
     "metadata": {},
     "output_type": "execute_result"
    }
   ],
   "source": [
    "n_trial = len(X_trial)\n",
    "margin = 0.05\n",
    "df_power = power_2s.get_power(n_trial=n_trial, margin=margin, adjust=True)\n",
    "df_power.round(3)"
   ]
  },
  {
   "cell_type": "markdown",
   "id": "c96904ae",
   "metadata": {},
   "source": [
    "## (5) Run trial"
   ]
  },
  {
   "cell_type": "code",
   "execution_count": 5,
   "id": "04339062",
   "metadata": {},
   "outputs": [
    {
     "data": {
      "text/html": [
       "<div>\n",
       "<style scoped>\n",
       "    .dataframe tbody tr th:only-of-type {\n",
       "        vertical-align: middle;\n",
       "    }\n",
       "\n",
       "    .dataframe tbody tr th {\n",
       "        vertical-align: top;\n",
       "    }\n",
       "\n",
       "    .dataframe thead th {\n",
       "        text-align: right;\n",
       "    }\n",
       "</style>\n",
       "<table border=\"1\" class=\"dataframe\">\n",
       "  <thead>\n",
       "    <tr style=\"text-align: right;\">\n",
       "      <th></th>\n",
       "      <th>cidx</th>\n",
       "      <th>m</th>\n",
       "      <th>gamma_hat</th>\n",
       "      <th>den</th>\n",
       "      <th>z</th>\n",
       "      <th>pval</th>\n",
       "      <th>reject</th>\n",
       "    </tr>\n",
       "  </thead>\n",
       "  <tbody>\n",
       "    <tr>\n",
       "      <th>0</th>\n",
       "      <td>0</td>\n",
       "      <td>1</td>\n",
       "      <td>0.532</td>\n",
       "      <td>47</td>\n",
       "      <td>0.826</td>\n",
       "      <td>0.204</td>\n",
       "      <td>False</td>\n",
       "    </tr>\n",
       "    <tr>\n",
       "      <th>1</th>\n",
       "      <td>1</td>\n",
       "      <td>2</td>\n",
       "      <td>0.415</td>\n",
       "      <td>53</td>\n",
       "      <td>-0.241</td>\n",
       "      <td>0.595</td>\n",
       "      <td>False</td>\n",
       "    </tr>\n",
       "  </tbody>\n",
       "</table>\n",
       "</div>"
      ],
      "text/plain": [
       "   cidx  m  gamma_hat  den      z   pval  reject\n",
       "0     0  1      0.532   47  0.826  0.204   False\n",
       "1     1  2      0.415   53 -0.241  0.595   False"
      ]
     },
     "execution_count": 5,
     "metadata": {},
     "output_type": "execute_result"
    }
   ],
   "source": [
    "gamma0 = df_gamma['gamma_hat'] - margin\n",
    "s_trial = mdl.predict_proba(X_trial)[:,1]\n",
    "s_trial = np.log(s_trial / (1-s_trial))  # logit transform\n",
    "df_trial = power_2s.statistic_pval(y=y_trial, s=s_trial, gamma0=gamma0)\n",
    "df_trial.round(3)"
   ]
  }
 ],
 "metadata": {
  "kernelspec": {
   "display_name": "Python 3 (ipykernel)",
   "language": "python",
   "name": "python3"
  },
  "language_info": {
   "codemirror_mode": {
    "name": "ipython",
    "version": 3
   },
   "file_extension": ".py",
   "mimetype": "text/x-python",
   "name": "python",
   "nbconvert_exporter": "python",
   "pygments_lexer": "ipython3",
   "version": "3.9.7"
  }
 },
 "nbformat": 4,
 "nbformat_minor": 5
}
