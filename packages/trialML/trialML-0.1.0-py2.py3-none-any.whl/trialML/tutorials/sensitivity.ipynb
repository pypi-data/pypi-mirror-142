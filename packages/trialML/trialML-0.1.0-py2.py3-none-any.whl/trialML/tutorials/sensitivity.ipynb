{
 "cells": [
  {
   "cell_type": "markdown",
   "id": "bcde4031",
   "metadata": {},
   "source": [
    "# Toy example of model trained on random data"
   ]
  },
  {
   "cell_type": "markdown",
   "id": "31640681",
   "metadata": {},
   "source": [
    "## (1) Train a model and obtain scores on a test set"
   ]
  },
  {
   "cell_type": "code",
   "execution_count": 1,
   "id": "524577db",
   "metadata": {},
   "outputs": [],
   "source": [
    "# Load modules\n",
    "import numpy as np\n",
    "from sklearn.linear_model import LogisticRegression\n",
    "from trialML.trial import classification\n",
    "\n",
    "# Generate data\n",
    "np.random.seed(1)\n",
    "n, p = 150, 10\n",
    "k1, k2 = 50, 100\n",
    "X, y = np.random.randn(n, p), np.random.binomial(1, 0.5, n)\n",
    "X_train, y_train, X_test, y_test = X[:k1], y[:k1], X[k1:k2], y[k1:k2]\n",
    "mdl = LogisticRegression(penalty='none', solver='lbfgs')\n",
    "mdl.fit(X=X_train, y=y_train)\n",
    "# test set scores\n",
    "s_test = mdl.predict_proba(X_test)[:,1]\n",
    "s_test = np.log(s_test / (1-s_test))  # logit transform"
   ]
  },
  {
   "cell_type": "markdown",
   "id": "f6a169b3",
   "metadata": {},
   "source": [
    "## (2) Calibrate operating threshold to achieve 50% sensitivity, 95% of the time"
   ]
  },
  {
   "cell_type": "code",
   "execution_count": 2,
   "id": "a4cbe503",
   "metadata": {},
   "outputs": [
    {
     "name": "stdout",
     "output_type": "stream",
     "text": [
      "Empirical sensitivity on test-set: 69.6%\n"
     ]
    }
   ],
   "source": [
    "gamma = 0.5  # performance measure target\n",
    "alpha = 0.05  # type-I error rate for threshold selection\n",
    "m = 'sensitivity'  # currently supports sensitivity/specificity/precision\n",
    "\n",
    "# Set up statistical tool\n",
    "calibration = classification(gamma=gamma, alpha=alpha, m=m)\n",
    "# Learn threshold\n",
    "calibration.learn_threshold(y=y_test, s=s_test, method='percentile', n_bs=1000, seed=1)\n",
    "# Observe test-set performance\n",
    "gamma_hat_test = calibration.statistic(y=y_test, s=s_test, threshold=calibration.threshold_hat)\n",
    "print('Empirical sensitivity on test-set: %0.1f%%' % (100*gamma_hat_test))"
   ]
  },
  {
   "cell_type": "markdown",
   "id": "289e381b",
   "metadata": {},
   "source": [
    "## (3) Estimate power for trial data\n",
    "\n",
    "By setting threshold in `calculate power`, empirical size of the denominator is used to deflate trial sample size."
   ]
  },
  {
   "cell_type": "code",
   "execution_count": 3,
   "id": "56ec1703",
   "metadata": {},
   "outputs": [
    {
     "name": "stdout",
     "output_type": "stream",
     "text": [
      "Expected trial power for a 5.0% margin is at least 16.9%\n"
     ]
    }
   ],
   "source": [
    "X_trial, y_trial = X[k1:], y[k1:]\n",
    "n_trial = len(X_trial)\n",
    "gamma0 = 0.45\n",
    "spread = gamma - gamma0\n",
    "\n",
    "calibration.calculate_power(spread, n_trial, threshold=calibration.threshold_hat)\n",
    "print('Expected trial power for a %0.1f%% margin is at least %0.1f%%' % (100*spread, 100*calibration.power_hat))"
   ]
  },
  {
   "cell_type": "markdown",
   "id": "2b7bebad",
   "metadata": {},
   "source": [
    "## (4) Run trial\n",
    "\n",
    "Power is a a conservative given threshold is conservative."
   ]
  },
  {
   "cell_type": "code",
   "execution_count": 4,
   "id": "0ca94049",
   "metadata": {},
   "outputs": [
    {
     "name": "stdout",
     "output_type": "stream",
     "text": [
      "Trial sensitivity: 68.1%, trial null-hypothesis: 45.0%, trial p-value: 0.00073\n"
     ]
    }
   ],
   "source": [
    "s_trial = mdl.predict_proba(X_trial)[:,1]\n",
    "s_trial = np.log(s_trial / (1-s_trial))  # logit transform\n",
    "gamma_trial, pval_trial = calibration.statistic(y=y_trial, s=s_trial, gamma0=gamma0, threshold=calibration.threshold_hat)\n",
    "print('Trial sensitivity: %0.1f%%, trial null-hypothesis: %0.1f%%, trial p-value: %0.5f' % (100*gamma_trial, 100*gamma0, pval_trial))"
   ]
  }
 ],
 "metadata": {
  "kernelspec": {
   "display_name": "Python 3 (ipykernel)",
   "language": "python",
   "name": "python3"
  },
  "language_info": {
   "codemirror_mode": {
    "name": "ipython",
    "version": 3
   },
   "file_extension": ".py",
   "mimetype": "text/x-python",
   "name": "python",
   "nbconvert_exporter": "python",
   "pygments_lexer": "ipython3",
   "version": "3.9.7"
  }
 },
 "nbformat": 4,
 "nbformat_minor": 5
}
