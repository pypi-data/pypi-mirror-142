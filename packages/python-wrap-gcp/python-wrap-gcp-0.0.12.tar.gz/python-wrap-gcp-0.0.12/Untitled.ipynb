{
 "cells": [
  {
   "cell_type": "code",
   "execution_count": 3,
   "metadata": {},
   "outputs": [
    {
     "ename": "ModuleNotFoundError",
     "evalue": "No module named 'python_wrap_gcp'",
     "output_type": "error",
     "traceback": [
      "\u001b[0;31m---------------------------------------------------------------------------\u001b[0m",
      "\u001b[0;31mModuleNotFoundError\u001b[0m                       Traceback (most recent call last)",
      "\u001b[0;32m<ipython-input-3-a6988f7d14aa>\u001b[0m in \u001b[0;36m<module>\u001b[0;34m\u001b[0m\n\u001b[1;32m      6\u001b[0m \u001b[0;34m\u001b[0m\u001b[0m\n\u001b[1;32m      7\u001b[0m \u001b[0;32mimport\u001b[0m \u001b[0mjson\u001b[0m\u001b[0;34m\u001b[0m\u001b[0;34m\u001b[0m\u001b[0m\n\u001b[0;32m----> 8\u001b[0;31m \u001b[0;32mfrom\u001b[0m \u001b[0msrc\u001b[0m\u001b[0;34m.\u001b[0m\u001b[0mpython_wrap_gcp\u001b[0m \u001b[0;32mimport\u001b[0m \u001b[0mio\u001b[0m\u001b[0;34m\u001b[0m\u001b[0;34m\u001b[0m\u001b[0m\n\u001b[0m\u001b[1;32m      9\u001b[0m \u001b[0mjson\u001b[0m\u001b[0;34m.\u001b[0m\u001b[0mloads\u001b[0m\u001b[0;34m(\u001b[0m\u001b[0mio\u001b[0m\u001b[0;34m.\u001b[0m\u001b[0memulate_open\u001b[0m\u001b[0;34m(\u001b[0m\u001b[0;34m\"gs://meely-inventory/data/context.json\"\u001b[0m\u001b[0;34m)\u001b[0m\u001b[0;34m)\u001b[0m\u001b[0;34m\u001b[0m\u001b[0;34m\u001b[0m\u001b[0m\n",
      "\u001b[0;32m~/PycharmProjects/python-wrap-gcp/src/python_wrap_gcp/io.py\u001b[0m in \u001b[0;36m<module>\u001b[0;34m\u001b[0m\n\u001b[1;32m      1\u001b[0m \u001b[0;32mfrom\u001b[0m \u001b[0mgoogle\u001b[0m\u001b[0;34m.\u001b[0m\u001b[0mcloud\u001b[0m \u001b[0;32mimport\u001b[0m \u001b[0mstorage\u001b[0m\u001b[0;34m\u001b[0m\u001b[0;34m\u001b[0m\u001b[0m\n\u001b[1;32m      2\u001b[0m \u001b[0;32mimport\u001b[0m \u001b[0mre\u001b[0m\u001b[0;34m,\u001b[0m \u001b[0mos\u001b[0m\u001b[0;34m,\u001b[0m \u001b[0mpickle\u001b[0m\u001b[0;34m,\u001b[0m \u001b[0mjson\u001b[0m\u001b[0;34m\u001b[0m\u001b[0;34m\u001b[0m\u001b[0m\n\u001b[0;32m----> 3\u001b[0;31m \u001b[0;32mfrom\u001b[0m \u001b[0mpython_wrap_gcp\u001b[0m\u001b[0;34m.\u001b[0m\u001b[0mconfig\u001b[0m \u001b[0;32mimport\u001b[0m \u001b[0mFROM_LOCAL\u001b[0m\u001b[0;34m,\u001b[0m \u001b[0mTO_LOCAL\u001b[0m\u001b[0;34m,\u001b[0m \u001b[0mGCSConfig\u001b[0m\u001b[0;34m\u001b[0m\u001b[0;34m\u001b[0m\u001b[0m\n\u001b[0m\u001b[1;32m      4\u001b[0m \u001b[0;34m\u001b[0m\u001b[0m\n\u001b[1;32m      5\u001b[0m \u001b[0;34m\u001b[0m\u001b[0m\n",
      "\u001b[0;31mModuleNotFoundError\u001b[0m: No module named 'python_wrap_gcp'"
     ]
    }
   ],
   "source": [
    "# import pandas as pd\n",
    "# from datetime import datetime\n",
    "# import sys, os, json\n",
    "# from importlib import reload\n",
    "sys.path.append(os.path.abspath('..'))\n",
    "\n",
    "import json, os\n",
    "os.environ['FROM_LOCAL'] = 'false'\n",
    "os.environ['GOOGLE_APPLICATION_CREDENTIALS'] = \"/Users/vadimskritskii/PycharmProjects/report/gcp/rock-embassy-279812-b252be8804df.json\"\n",
    "from python_wrap_gcp import reload_data\n",
    "reload_data.load_gcs_file(\"gs://meely-inventory/data/city_station.prq\")\n",
    "\n",
    "\n",
    "reload_data.load_gcs_file(\"gs://meely-inventory/data/context.json\")\n",
    "\n",
    "\n",
    "from python_wrap_gcp import io\n",
    "json.loads(io.emulate_open(\"gs://meely-inventory/data/context.json\"))\n",
    "\n"
   ]
  },
  {
   "cell_type": "code",
   "execution_count": null,
   "metadata": {},
   "outputs": [],
   "source": [
    "from %%"
   ]
  },
  {
   "cell_type": "code",
   "execution_count": null,
   "metadata": {},
   "outputs": [],
   "source": [
    "open(\"/Users/vadimskritskii/Downloads/\")"
   ]
  },
  {
   "cell_type": "code",
   "execution_count": 4,
   "metadata": {},
   "outputs": [
    {
     "data": {
      "text/plain": [
       "['/Users/vadimskritskii/PycharmProjects/python-wrap-gcp',\n",
       " '/usr/local/anaconda3/lib/python38.zip',\n",
       " '/usr/local/anaconda3/lib/python3.8',\n",
       " '/usr/local/anaconda3/lib/python3.8/lib-dynload',\n",
       " '',\n",
       " '/usr/local/anaconda3/lib/python3.8/site-packages',\n",
       " '/usr/local/anaconda3/lib/python3.8/site-packages/aeosa',\n",
       " '/usr/local/anaconda3/lib/python3.8/site-packages/IPython/extensions',\n",
       " '/Users/vadimskritskii/.ipython',\n",
       " '/Users/vadimskritskii/PycharmProjects']"
      ]
     },
     "execution_count": 4,
     "metadata": {},
     "output_type": "execute_result"
    }
   ],
   "source": [
    "sys.path"
   ]
  }
 ],
 "metadata": {
  "kernelspec": {
   "display_name": "Python 3",
   "language": "python",
   "name": "python3"
  },
  "language_info": {
   "codemirror_mode": {
    "name": "ipython",
    "version": 3
   },
   "file_extension": ".py",
   "mimetype": "text/x-python",
   "name": "python",
   "nbconvert_exporter": "python",
   "pygments_lexer": "ipython3",
   "version": "3.8.3"
  }
 },
 "nbformat": 4,
 "nbformat_minor": 4
}
