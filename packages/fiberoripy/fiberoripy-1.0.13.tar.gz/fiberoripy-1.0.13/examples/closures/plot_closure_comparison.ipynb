{
 "cells": [
  {
   "cell_type": "markdown",
   "metadata": {},
   "source": [
    "# Plotting fiber orientation tensors and closure."
   ]
  },
  {
   "cell_type": "code",
   "execution_count": 1,
   "metadata": {},
   "outputs": [],
   "source": [
    "%matplotlib widget\n",
    "import matplotlib.pyplot as plt\n",
    "import numpy as np\n",
    "from mpl_toolkits.mplot3d import Axes3D\n",
    "\n",
    "from fiberoripy.closures import (\n",
    "    IBOF_closure,\n",
    "    compute_closure,\n",
    "    hybrid_closure,\n",
    "    linear_closure,\n",
    "    quadratic_closure,\n",
    ")\n",
    "from fiberoripy.tensorplot import (\n",
    "    plot_orbit2,\n",
    "    plot_orbit4,\n",
    "    plot_projection2,\n",
    "    plot_projection4,\n",
    ")"
   ]
  },
  {
   "cell_type": "code",
   "execution_count": 2,
   "metadata": {},
   "outputs": [],
   "source": [
    "# define second order fiber orientation tensor\n",
    "a = 1.0 / 3.0 * np.eye(3)\n",
    "\n",
    "# create a fourth order fiber orientation tensor\n",
    "A = compute_closure(a, \"RANDOM\", N=100)\n",
    "\n",
    "# compute a couple of closures\n",
    "A_hybrid = hybrid_closure(a)\n",
    "A_ibof = IBOF_closure(a)\n",
    "A_lin = linear_closure(a)\n",
    "A_quad = quadratic_closure(a)"
   ]
  },
  {
   "cell_type": "code",
   "execution_count": 3,
   "metadata": {},
   "outputs": [
    {
     "data": {
      "application/vnd.jupyter.widget-view+json": {
       "model_id": "cced4abeb1af407cb2c6b691562b1902",
       "version_major": 2,
       "version_minor": 0
      },
      "text/plain": [
       "Canvas(toolbar=Toolbar(toolitems=[('Home', 'Reset original view', 'home', 'home'), ('Back', 'Back to previous …"
      ]
     },
     "metadata": {},
     "output_type": "display_data"
    }
   ],
   "source": [
    "# Second order tensor plot\n",
    "fig = plt.figure(figsize=(12, 8))\n",
    "\n",
    "ax = fig.add_subplot(221, projection=Axes3D.name)\n",
    "plotargs = {\"rstride\":4, \"cstride\":4}\n",
    "plot_orbit2(ax, plotargs, a)\n",
    "\n",
    "ax = fig.add_subplot(222)\n",
    "plot_projection2(ax, \"xy\", a)\n",
    "\n",
    "ax = fig.add_subplot(223)\n",
    "plot_projection2(ax, \"xz\", a)\n",
    "\n",
    "ax = fig.add_subplot(224)\n",
    "plot_projection2(ax, \"yz\", a)\n",
    "\n",
    "plt.show()\n",
    "\n"
   ]
  },
  {
   "cell_type": "code",
   "execution_count": 4,
   "metadata": {},
   "outputs": [
    {
     "data": {
      "application/vnd.jupyter.widget-view+json": {
       "model_id": "80ce4aff8cfe4f20893be21098baed1e",
       "version_major": 2,
       "version_minor": 0
      },
      "text/plain": [
       "Canvas(toolbar=Toolbar(toolitems=[('Home', 'Reset original view', 'home', 'home'), ('Back', 'Back to previous …"
      ]
     },
     "metadata": {},
     "output_type": "display_data"
    }
   ],
   "source": [
    "# Fourth order tensor plot\n",
    "fig = plt.figure(figsize=(12, 8))\n",
    "\n",
    "ax = fig.add_subplot(221, projection=Axes3D.name)\n",
    "plotargs = {\"alpha\":0.1, \"rstride\":4, \"cstride\":4}\n",
    "plot_orbit4(ax, plotargs, A, A_hybrid, A_lin, A_quad, A_ibof)\n",
    "\n",
    "ax = fig.add_subplot(222)\n",
    "plot_projection4(ax, \"xy\", A, A_hybrid, A_lin, A_quad, A_ibof)\n",
    "\n",
    "ax = fig.add_subplot(223)\n",
    "plot_projection4(ax, \"xz\", A, A_hybrid, A_lin, A_quad, A_ibof)\n",
    "\n",
    "ax = fig.add_subplot(224)\n",
    "plot_projection4(ax, \"yz\", A, A_hybrid, A_lin, A_quad, A_ibof)\n",
    "\n",
    "plt.legend([\"Original\", \"Hybrid\", \"Linear\", \"Quadratic\", \"IBOF\"])\n",
    "\n",
    "plt.show()"
   ]
  },
  {
   "cell_type": "code",
   "execution_count": null,
   "metadata": {},
   "outputs": [],
   "source": []
  },
  {
   "cell_type": "code",
   "execution_count": null,
   "metadata": {},
   "outputs": [],
   "source": []
  }
 ],
 "metadata": {
  "kernelspec": {
   "display_name": "Python 3",
   "language": "python",
   "name": "python3"
  },
  "language_info": {
   "codemirror_mode": {
    "name": "ipython",
    "version": 3
   },
   "file_extension": ".py",
   "mimetype": "text/x-python",
   "name": "python",
   "nbconvert_exporter": "python",
   "pygments_lexer": "ipython3",
   "version": "3.9.0"
  }
 },
 "nbformat": 4,
 "nbformat_minor": 4
}
