{
 "cells": [
  {
   "cell_type": "markdown",
   "metadata": {},
   "source": [
    "# PyGSTi CHP Object Test\n",
    "\n",
    "<font color='red'>This notebook is under construction and will have more description in the near future.</font>"
   ]
  },
  {
   "cell_type": "code",
   "execution_count": null,
   "metadata": {},
   "outputs": [],
   "source": [
    "from __future__ import print_function #python 2 & 3 compatibility\n",
    "import pygsti\n",
    "\n",
    "from pygsti.modelmembers.operations import LinearOperator, StaticStandardOp, StochasticNoiseOp, DepolarizeOp, ComposedOp, EmbeddedOp"
   ]
  },
  {
   "cell_type": "markdown",
   "metadata": {},
   "source": [
    "## LinearOperator and StaticStandardOp\n",
    "\n",
    "Now with 'chp' evotype."
   ]
  },
  {
   "cell_type": "code",
   "execution_count": null,
   "metadata": {},
   "outputs": [],
   "source": [
    "Gx = StaticStandardOp('Gxpi', evotype='chp')\n",
    "print(Gx)\n",
    "print(Gx.chp_str)\n",
    "#print(Gx.get_chp_str([2]))"
   ]
  },
  {
   "cell_type": "code",
   "execution_count": null,
   "metadata": {},
   "outputs": [],
   "source": [
    "# Can also make custom CHP operations\n",
    "# Here I'm making a (deterministic) Hadamard on qubit 0 and CNOT on qubits 1 and 2\n",
    "rep = pygsti.evotypes.chp.opreps.OpRep(['h 0', 'c 1 2'], state_space=3)\n",
    "c = LinearOperator(rep, 'chp')"
   ]
  },
  {
   "cell_type": "code",
   "execution_count": null,
   "metadata": {},
   "outputs": [],
   "source": [
    "print(c)\n",
    "print(c.chp_str)"
   ]
  },
  {
   "cell_type": "code",
   "execution_count": null,
   "metadata": {},
   "outputs": [],
   "source": [
    "print(StaticStandardOp('Gc20', evotype='chp'))"
   ]
  },
  {
   "cell_type": "markdown",
   "metadata": {},
   "source": [
    "## StochasticNoiseOp and DepolarizeOp\n",
    "\n",
    "Now with 'chp' evotype"
   ]
  },
  {
   "cell_type": "code",
   "execution_count": null,
   "metadata": {},
   "outputs": [],
   "source": [
    "nqubits = 1\n",
    "scop = StochasticNoiseOp(nqubits, evotype='chp', initial_rates=[0.5, 0.1, 0.1], seed_or_state=2021)\n",
    "print(scop)\n",
    "for _ in range(4): # With seed 2021, pulls Z, I (no output), X, X\n",
    "    print(scop.chp_str)\n",
    "#print(scop.chp_str([1])) # With seed 2021, pulls Z\n",
    "#print(scop.chp_str([2])) # With seed 2021, pulls I (no output)\n",
    "#print(scop.chp_str([3])) # With seed 2021, pulls X\n",
    "#print(scop.chp_str([4])) # With seed 2021, pulls X"
   ]
  },
  {
   "cell_type": "code",
   "execution_count": null,
   "metadata": {},
   "outputs": [],
   "source": [
    "nqubits = 1\n",
    "dop = DepolarizeOp(nqubits, evotype='chp', initial_rate=0.7, seed_or_state=2021)\n",
    "print(dop)\n",
    "for _ in range(4): # With seed 2021, pulls Z, I (no output), X, Y\n",
    "    print(dop.chp_str)\n",
    "#print(dop.chp_str([1])) # With seed 2021, pulls Z\n",
    "#print(dop.chp_str([2])) # With seed 2021, pulls I (no output)\n",
    "#print(dop.chp_str([3])) # With seed 2021, pulls X\n",
    "#print(dop.chp_str([4])) # With seed 2021, pulls Y"
   ]
  },
  {
   "cell_type": "markdown",
   "metadata": {},
   "source": [
    "## ComposedOp + EmbeddedOp"
   ]
  },
  {
   "cell_type": "code",
   "execution_count": null,
   "metadata": {},
   "outputs": [],
   "source": [
    "# ComposedOp\n",
    "Gzx_composed = ComposedOp([StaticStandardOp('Gzpi', evotype='chp'), StaticStandardOp('Gxpi', evotype='chp')])\n",
    "print(Gzx_composed)\n",
    "print(Gzx_composed.chp_str)\n",
    "#print(Gzx_composed.get_chp_str([2]))"
   ]
  },
  {
   "cell_type": "code",
   "execution_count": null,
   "metadata": {},
   "outputs": [],
   "source": [
    "# EmbeddedOp\n",
    "Gxi_embedded = EmbeddedOp(['Q0', 'Q1'], ['Q0'], StaticStandardOp('Gxpi', evotype='chp'))\n",
    "print(Gxi_embedded)\n",
    "print(Gxi_embedded.chp_str)\n",
    "#print(Gxi_embedded.get_chp_str([5,7]))"
   ]
  },
  {
   "cell_type": "code",
   "execution_count": null,
   "metadata": {},
   "outputs": [],
   "source": [
    "Gix_embedded = EmbeddedOp(['Q0', 'Q1'], ['Q1'], StaticStandardOp('Gxpi', evotype='chp'))\n",
    "print(Gix_embedded)\n",
    "print(Gix_embedded.chp_str)\n",
    "#print(Gix_embedded.get_chp_str([5,7]))"
   ]
  },
  {
   "cell_type": "code",
   "execution_count": null,
   "metadata": {},
   "outputs": [],
   "source": [
    "# EmbeddedOp made of ComposedOps\n",
    "Gzx_comp_embed = EmbeddedOp(['Q0', 'Q1', 'Q2', 'Q3'], ['Q1'], Gzx_composed)\n",
    "print(Gzx_comp_embed)\n",
    "print(Gzx_comp_embed.chp_str)\n",
    "#print(Gzx_comp_embed.get_chp_str([5, 6, 7, 8]))"
   ]
  },
  {
   "cell_type": "markdown",
   "metadata": {},
   "source": [
    "## CHPForwardSimulator + Explicit Model"
   ]
  },
  {
   "cell_type": "code",
   "execution_count": null,
   "metadata": {},
   "outputs": [],
   "source": [
    "chpexe = '/Users/sserita/Documents/notebooks/pyGSTi/2021-CHP/chp'\n",
    "sim = pygsti.forwardsims.CHPForwardSimulator(chpexe, shots=1)"
   ]
  },
  {
   "cell_type": "code",
   "execution_count": null,
   "metadata": {},
   "outputs": [],
   "source": [
    "#Initialize an empty Model object\n",
    "model = pygsti.models.ExplicitOpModel(['Q0', 'Q1'], simulator=sim, evotype='chp')\n",
    "\n",
    "def make_2Q_op(name0, name1):\n",
    "    return ComposedOp([\n",
    "        EmbeddedOp(['Q0', 'Q1'], ['Q0'], StaticStandardOp(name0, evotype='chp')),\n",
    "        EmbeddedOp(['Q0', 'Q1'], ['Q1'], StaticStandardOp(name1, evotype='chp')),\n",
    "    ])\n",
    "\n",
    "#Populate the Model object with states, effects, gates\n",
    "# For CHP, prep must be all-zero ComputationalSPAMVec\n",
    "# and povm must be ComputationalBasisPOVM\n",
    "model['rho0'] = pygsti.modelmembers.states.ComputationalBasisState([0, 0], evotype='chp')\n",
    "model['Mdefault'] = pygsti.modelmembers.povms.ComputationalBasisPOVM(2, evotype='chp')\n",
    "\n",
    "model['Gii'] = make_2Q_op('Gi', 'Gi')\n",
    "model['Gxi'] = make_2Q_op('Gxpi', 'Gi')\n",
    "model['Gix'] = make_2Q_op('Gi', 'Gxpi')\n",
    "model['Gxx'] = make_2Q_op('Gxpi', 'Gxpi')\n",
    "model['Gyi'] = make_2Q_op('Gypi', 'Gi')\n",
    "model['Giy'] = make_2Q_op('Gi', 'Gypi')\n",
    "model['Gyy'] = make_2Q_op('Gypi', 'Gypi')\n",
    "\n",
    "print(model)"
   ]
  },
  {
   "cell_type": "code",
   "execution_count": null,
   "metadata": {},
   "outputs": [],
   "source": [
    "circ = pygsti.circuits.Circuit(['Gix'])\n",
    "model.probabilities(circ)"
   ]
  },
  {
   "cell_type": "code",
   "execution_count": null,
   "metadata": {},
   "outputs": [],
   "source": [
    "circ = pygsti.circuits.Circuit(['Gix', 'Gxi'])\n",
    "model.probabilities(circ)"
   ]
  },
  {
   "cell_type": "code",
   "execution_count": null,
   "metadata": {},
   "outputs": [],
   "source": [
    "circ = pygsti.circuits.Circuit(['rho0', 'Gxx', 'Mdefault'])\n",
    "model.probabilities(circ)"
   ]
  },
  {
   "cell_type": "markdown",
   "metadata": {},
   "source": [
    "## Advanced State Prep and Measurement\n",
    "\n",
    "<font color='red'>TODO: This section does not work due to non-CHP related issues. Come back to this once other issues are fixed.</font>\n",
    "\n",
    "### State Prep"
   ]
  },
  {
   "cell_type": "code",
   "execution_count": null,
   "metadata": {},
   "outputs": [],
   "source": [
    "#Initialize an empty Model object\n",
    "#prep01_model = pygsti.models.ExplicitOpModel(['Q0', 'Q1'], simulator=sim, evotype='chp')\n",
    "\n",
    "# Make a ComputationalSPAMVec with one bit in 1 state\n",
    "#model['rho0'] = pygsti.modelmembers.states.ComputationalBasisState([0, 1], evotype='chp')\n",
    "#model['Mdefault'] = pygsti.modelmembers.povms.ComputationalBasisPOVM(2, evotype='chp')\n",
    "\n",
    "#circ = pygsti.circuits.Circuit([])\n",
    "#prep01_model.probabilities(circ)"
   ]
  },
  {
   "cell_type": "code",
   "execution_count": null,
   "metadata": {},
   "outputs": [],
   "source": [
    "#Initialize an empty Model object\n",
    "#prep00noise_model = pygsti.models.ExplicitOpModel(['Q0', 'Q1'], simulator=sim, evotype='chp')\n",
    "\n",
    "# Make a ComposedSPAMVec where second qubit has X error\n",
    "#rho0 = pygsti.obj.ComposedSPAMVec(\n",
    "#    pygsti.obj.ComputationalSPAMVec([0, 0], 'chp', 'prep'), # Pure SPAM vec is 00 state\n",
    "#    make_2Q_op('Gi', 'Gxpi'), 'prep') # Second qubit has X error (flipping up to 1)\n",
    "\n",
    "#prep00noise_model['rho0'] = rho0\n",
    "#prep00noise_model['Mdefault'] = pygsti.obj.ComputationalBasisPOVM(2, 'chp')\n",
    "\n",
    "#circ = pygsti.obj.Circuit([])\n",
    "#prep00noise_model.probabilities(circ)"
   ]
  },
  {
   "cell_type": "code",
   "execution_count": null,
   "metadata": {},
   "outputs": [],
   "source": [
    "#Initialize an empty Model object\n",
    "#prep11noise_model = pygsti.objects.ExplicitOpModel(['Q0', 'Q1'], simulator=sim, evotype='chp')\n",
    "\n",
    "# Make a ComposedSPAMVec where second qubit has X error AND is initialized to 1 state\n",
    "#rho0 = pygsti.obj.ComposedSPAMVec(\n",
    "#    pygsti.obj.ComputationalSPAMVec([1, 1], 'chp', 'prep'), # Pure SPAM vec is 11 state\n",
    "#    make_2Q_op('Gi', 'Gxpi'), 'prep') # Second qubit has X error (flipping back to 0)\n",
    "\n",
    "#prep11noise_model['rho0'] = rho0\n",
    "#prep11noise_model['Mdefault'] = pygsti.obj.ComputationalBasisPOVM(2, 'chp')\n",
    "\n",
    "#circ = pygsti.obj.Circuit([])\n",
    "#prep11noise_model.probabilities(circ)"
   ]
  },
  {
   "cell_type": "code",
   "execution_count": null,
   "metadata": {},
   "outputs": [],
   "source": [
    "#Initialize an empty Model object\n",
    "#tensorprep_model = pygsti.objects.ExplicitOpModel(['Q0', 'Q1'], simulator=sim, evotype='chp')\n",
    "\n",
    "# Make a TensorProdSPAMVec equivalent of prep11noise_model\n",
    "#rho0 = pygsti.obj.TensorProdSPAMVec('prep', [\n",
    "#    pygsti.obj.ComposedSPAMVec([1], StaticStandardOp('Gi', 'chp'), 'prep'), # First qubit to 1 state with no error\n",
    "#    pygsti.obj.ComposedSPAMVec([1], StaticStandardOp('Gxpi', 'chp'), 'prep'), # Second qubit to 1 state with X error\n",
    "#])\n",
    "\n",
    "#tensorprep_model['rho0'] = rho0\n",
    "#tensorprep_model['Mdefault'] = pygsti.obj.ComputationalBasisPOVM(2, 'chp')\n",
    "\n",
    "#circ = pygsti.obj.Circuit([])\n",
    "#tensorprep_model.probabilities(circ)"
   ]
  },
  {
   "cell_type": "code",
   "execution_count": null,
   "metadata": {},
   "outputs": [],
   "source": [
    "# DOES NOT WORK. This was for debugging TensorProdSPAMVec > ComposedSPAMVec > ComposedOp\n",
    "# This was sidestepped for now by not building the TensorProdSPAMVec in create_crosstalk_free_model\n",
    "# #Initialize an empty Model object\n",
    "# tensorprep2_model = pygsti.objects.ExplicitOpModel(['Q0', 'Q1'], simulator=sim, evotype='chp')\n",
    "\n",
    "# # Make a TensorProdSPAMVec equivalent of prep11noise_model\n",
    "# rho0 = pygsti.obj.TensorProdSPAMVec('prep', [\n",
    "#     pygsti.obj.ComposedSPAMVec([1, 1], make_2Q_op('Gi', 'Gxpi'), 'prep')\n",
    "# ])\n",
    "\n",
    "# tensorprep2_model['rho0'] = rho0\n",
    "# tensorprep2_model['Mdefault'] = pygsti.obj.ComputationalBasisPOVM(2, 'chp')\n",
    "\n",
    "# circ = pygsti.obj.Circuit([])\n",
    "# tensorprep2_model.probabilities(circ)"
   ]
  },
  {
   "cell_type": "code",
   "execution_count": null,
   "metadata": {},
   "outputs": [],
   "source": [
    "#prep11noise_model._print_gpindices() # This one works great\n",
    "#tensorprep2_model._print_gpindices() # This one doesn't\n",
    "# the ComposedSPAMVec underneath doesn't know about it's gpindices"
   ]
  },
  {
   "cell_type": "markdown",
   "metadata": {},
   "source": [
    "### Measurement"
   ]
  },
  {
   "cell_type": "code",
   "execution_count": null,
   "metadata": {},
   "outputs": [],
   "source": [
    "#Initialize an empty Model object\n",
    "#povm01_model = pygsti.objects.ExplicitOpModel(['Q0', 'Q1'], simulator=sim, evotype='chp')\n",
    "\n",
    "# Make a measurement with a bitflip error on qubit 1\n",
    "#povm01_model['rho0'] = pygsti.obj.ComputationalSPAMVec([0, 0], 'chp')\n",
    "#povm01_model['Mdefault'] = pygsti.obj.ComposedPOVM(make_2Q_op('Gi', 'Gxpi'), )\n",
    "#povm01_model['Gi', 'Q0'] = StaticStandardOp('Gi', 'chp')\n",
    "#povm01_model['Gi', 'Q1'] = StaticStandardOp('Gi', 'chp')\n",
    "\n",
    "#circ = pygsti.obj.Circuit([])\n",
    "#povm01_model.probabilities(circ)"
   ]
  },
  {
   "cell_type": "code",
   "execution_count": null,
   "metadata": {},
   "outputs": [],
   "source": [
    "# Try marginalized on qubit 0 (should stay in 0 state)\n",
    "#circ = pygsti.obj.Circuit([('Gi', 'Q0')])\n",
    "#povm01_model.probabilities(circ)"
   ]
  },
  {
   "cell_type": "code",
   "execution_count": null,
   "metadata": {},
   "outputs": [],
   "source": [
    "# Try marginalized on qubit 1 (should flip to 1 state due to readout error)\n",
    "#circ = pygsti.obj.Circuit([('Gi', 'Q1')])\n",
    "#povm01_model.probabilities(circ)"
   ]
  },
  {
   "cell_type": "markdown",
   "metadata": {},
   "source": [
    "## CHPForwardSimulator + LocalNoiseModel"
   ]
  },
  {
   "cell_type": "code",
   "execution_count": null,
   "metadata": {},
   "outputs": [],
   "source": [
    "# Step 1: Define stochastic Pauli noise operators\n",
    "# Note that the probabilities here are the \"error rates\" that would be model parameters (currently just static)\n",
    "noise_1q = StochasticNoiseOp(1, evotype='chp', initial_rates=[0.1, 0.01, 0.01], seed_or_state=2021)\n",
    "\n",
    "# Also need two-qubit version\n",
    "# Here we just make it independent stochastic Pauli noise\n",
    "noise_2q = ComposedOp([EmbeddedOp([0, 1], [0], noise_1q), EmbeddedOp([0, 1], [1], noise_1q)])"
   ]
  },
  {
   "cell_type": "code",
   "execution_count": null,
   "metadata": {},
   "outputs": [],
   "source": [
    "# Step 2: Define gate dict of noisy gates\n",
    "# Using equivalent of XYICNOT modelpack\n",
    "gatedict = {}\n",
    "gatedict['Gi'] = noise_1q\n",
    "gatedict['Gx'] = ComposedOp([StaticStandardOp('Gxpi', evotype='chp'), noise_1q])\n",
    "gatedict['Gy'] = ComposedOp([StaticStandardOp('Gypi', evotype='chp'), noise_1q])\n",
    "# Note that first Gcnot is now key in model, whereas second Gcnot is a standard gatename known to CHPOp constructor\n",
    "gatedict['Gcnot'] = ComposedOp([StaticStandardOp('Gcnot', evotype='chp'), noise_2q])"
   ]
  },
  {
   "cell_type": "code",
   "execution_count": null,
   "metadata": {},
   "outputs": [],
   "source": [
    "from pygsti.models.localnoisemodel import LocalNoiseModel\n",
    "from pygsti.modelmembers.states import ComputationalBasisState\n",
    "from pygsti.modelmembers.povms import ComputationalBasisPOVM\n",
    "from pygsti.processors import QubitProcessorSpec\n",
    "\n",
    "pspec = QubitProcessorSpec(4, list(gatedict.keys()), geometry='line',\n",
    "                           availability={'Gcnot': [(0,1),(1,2),(2,3)]})\n",
    "\n",
    "rho0 = ComputationalBasisState([0,]*4, evotype='chp')\n",
    "Mdefault = ComputationalBasisPOVM(4, evotype='chp')\n",
    "\n",
    "ln_model = LocalNoiseModel(pspec, gatedict=gatedict, prep_layers=[rho0], povm_layers=[Mdefault],\n",
    "                           simulator=sim, evotype='chp')"
   ]
  },
  {
   "cell_type": "code",
   "execution_count": null,
   "metadata": {},
   "outputs": [],
   "source": [
    "# Step 4: Profit?? Worked way too quickly...\n",
    "def print_implicit_model_blocks(mdl, showSPAM=False):\n",
    "    if showSPAM:\n",
    "        print('State prep building blocks (.prep_blks):')\n",
    "        for blk_lbl,blk in mdl.prep_blks.items():\n",
    "            print(\" \" + blk_lbl, \": \", ', '.join(map(str,blk.keys())))\n",
    "        print()\n",
    "\n",
    "        print('POVM building blocks (.povm_blks):')\n",
    "        for blk_lbl,blk in mdl.povm_blks.items():\n",
    "            print(\" \"  + blk_lbl, \": \", ', '.join(map(str,blk.keys())))\n",
    "        print()\n",
    "    \n",
    "    print('Operation building blocks (.operation_blks):')\n",
    "    for blk_lbl,blk in mdl.operation_blks.items():\n",
    "        print(\" \" + blk_lbl, \": \", ', '.join(map(str,blk.keys())))\n",
    "    print()\n",
    "\n",
    "print_implicit_model_blocks(ln_model, showSPAM=True)"
   ]
  },
  {
   "cell_type": "code",
   "execution_count": null,
   "metadata": {},
   "outputs": [],
   "source": [
    "print(ln_model.prep_blks['layers']['rho0'])"
   ]
  },
  {
   "cell_type": "code",
   "execution_count": null,
   "metadata": {},
   "outputs": [],
   "source": [
    "print(ln_model.operation_blks['gates']['Gx'])"
   ]
  },
  {
   "cell_type": "code",
   "execution_count": null,
   "metadata": {},
   "outputs": [],
   "source": [
    "Gcnot_layer_op = ln_model.operation_blks['layers']['Gcnot', 1, 2]\n",
    "print(ln_model.operation_blks['layers']['Gcnot', 1, 2])"
   ]
  },
  {
   "cell_type": "code",
   "execution_count": null,
   "metadata": {},
   "outputs": [],
   "source": [
    "# Step 5: Actually run circuits with local noise model\n",
    "circ = pygsti.circuits.Circuit([('Gx', 1)], num_lines=4)\n",
    "ln_model.probabilities(circ)"
   ]
  },
  {
   "cell_type": "code",
   "execution_count": null,
   "metadata": {},
   "outputs": [],
   "source": [
    "circ = pygsti.circuits.Circuit([('Gx', 1), ('Gcnot', 1, 2)], num_lines=4)\n",
    "ln_model.probabilities(circ)"
   ]
  },
  {
   "cell_type": "code",
   "execution_count": null,
   "metadata": {},
   "outputs": [],
   "source": [
    "# Could also define correlated noise for 2-qubit error?\n",
    "pp = pygsti.baseobjs.Basis.cast('pp', 16)\n",
    "rates_2q = [0.01,]*15\n",
    "rates_2q[pp.labels.index('XX')] = 0.1 # Set XX to much higher\n",
    "\n",
    "noise_2q_correlated = StochasticNoiseOp(2, evotype='chp', initial_rates=rates_2q, seed_or_state=2021)\n",
    "\n",
    "gatedict = {}\n",
    "gatedict['Gi'] = noise_1q\n",
    "gatedict['Gx'] = ComposedOp([StaticStandardOp('Gxpi', evotype='chp'), noise_1q])\n",
    "gatedict['Gy'] = ComposedOp([StaticStandardOp('Gypi', evotype='chp'), noise_1q])\n",
    "# Note that first Gcnot is now key in model, whereas second Gcnot is a standard gatename known to CHPOp constructor\n",
    "gatedict['Gcnot'] = ComposedOp([StaticStandardOp('Gcnot', evotype='chp'), noise_2q_correlated])"
   ]
  },
  {
   "cell_type": "code",
   "execution_count": null,
   "metadata": {},
   "outputs": [],
   "source": [
    "rho0 = ComputationalBasisState([0,]*4, evotype='chp')\n",
    "Mdefault = ComputationalBasisPOVM(4, evotype='chp')\n",
    "\n",
    "chpexe = '/Users/sserita/Documents/notebooks/pyGSTi/2021-CHP/chp'\n",
    "sim = pygsti.forwardsims.CHPForwardSimulator(chpexe, shots=100)\n",
    "\n",
    "ln_model_corr = LocalNoiseModel(pspec, gatedict=gatedict, prep_layers=[rho0], povm_layers=[Mdefault],\n",
    "                                simulator=sim, evotype='chp')"
   ]
  },
  {
   "cell_type": "code",
   "execution_count": null,
   "metadata": {},
   "outputs": [],
   "source": [
    "# Now the CNOT gates have a 2-qubit stochastic gate instead of independent 1-qubit ones\n",
    "print(ln_model_corr.operation_blks['layers']['Gcnot', 1, 2])"
   ]
  },
  {
   "cell_type": "code",
   "execution_count": null,
   "metadata": {},
   "outputs": [],
   "source": [
    "circ = pygsti.circuits.Circuit([('Gx', 1)], num_lines=4)\n",
    "ln_model_corr.probabilities(circ)"
   ]
  },
  {
   "cell_type": "code",
   "execution_count": null,
   "metadata": {},
   "outputs": [],
   "source": [
    "circ = pygsti.circuits.Circuit([('Gx', 1), ('Gcnot', 1, 2)], num_lines=4)\n",
    "ln_model_corr.probabilities(circ)"
   ]
  },
  {
   "cell_type": "markdown",
   "metadata": {},
   "source": [
    "## Crosstalk-Free Model Construction"
   ]
  },
  {
   "cell_type": "code",
   "execution_count": null,
   "metadata": {},
   "outputs": [],
   "source": [
    "import pygsti.models.modelconstruction as mc\n",
    "\n",
    "chpexe = '/Users/sserita/Documents/notebooks/pyGSTi/2021-CHP/chp'\n",
    "sim = pygsti.forwardsims.CHPForwardSimulator(chpexe, shots=100)\n",
    "\n",
    "pspec = QubitProcessorSpec(4, ['Gi', 'Gxpi', 'Gypi', 'Gcnot'], availability={'Gcnot': [(0,1),(1,2),(2,3)]})\n",
    "\n",
    "# Use the same 2-qubit stochastic noise for CNOT as above\n",
    "ctf_model = mc.create_crosstalk_free_model(pspec,\n",
    "    depolarization_strengths={'Gi': 0.1, 'Gxpi': 0.1},\n",
    "    stochastic_error_probs={'Gypi': [0.1, 0.1, 0.1], 'Gcnot': rates_2q},\n",
    "    simulator=sim, evotype='chp')\n",
    "\n",
    "print_implicit_model_blocks(ctf_model, showSPAM=True)"
   ]
  },
  {
   "cell_type": "code",
   "execution_count": null,
   "metadata": {},
   "outputs": [],
   "source": [
    "for name, gate in ctf_model.operation_blks['gates'].items():\n",
    "    print(f'Gate {name}')\n",
    "    print(gate)\n",
    "    print()"
   ]
  },
  {
   "cell_type": "code",
   "execution_count": null,
   "metadata": {},
   "outputs": [],
   "source": [
    "circ = pygsti.circuits.Circuit([('Gxpi', 1)], num_lines=4)\n",
    "ctf_model.probabilities(circ)"
   ]
  },
  {
   "cell_type": "code",
   "execution_count": null,
   "metadata": {},
   "outputs": [],
   "source": [
    "circ = pygsti.circuits.Circuit([('Gxpi', 1), ('Gcnot', 1, 2)], num_lines=4)\n",
    "ctf_model.probabilities(circ)"
   ]
  },
  {
   "cell_type": "code",
   "execution_count": null,
   "metadata": {},
   "outputs": [],
   "source": [
    "# Marginalized POVMs now work!\n",
    "circ = pygsti.circuits.Circuit([('Gxpi', 1), ('Gcnot', 1, 2)])\n",
    "ctf_model.probabilities(circ)"
   ]
  },
  {
   "cell_type": "code",
   "execution_count": null,
   "metadata": {},
   "outputs": [],
   "source": [
    "# Let's try a model with only readout error\n",
    "# TODO: This is broken with chp_str no targets change, will fix with other CHP issues later\n",
    "#ctf_prep_model = mc.create_crosstalk_free_model(pspec,\n",
    "#    stochastic_error_probs={'prep': [0.3, 0.0, 0.0]}, # 30% X error on prep\n",
    "#    simulator=sim, evotype='chp')"
   ]
  },
  {
   "cell_type": "code",
   "execution_count": null,
   "metadata": {},
   "outputs": [],
   "source": [
    "#circ = pygsti.circuits.Circuit([])\n",
    "#ctf_prep_model.probabilities(circ)"
   ]
  },
  {
   "cell_type": "code",
   "execution_count": null,
   "metadata": {},
   "outputs": [],
   "source": []
  }
 ],
 "metadata": {
  "kernelspec": {
   "display_name": "Python 3",
   "language": "python",
   "name": "python3"
  },
  "language_info": {
   "codemirror_mode": {
    "name": "ipython",
    "version": 3
   },
   "file_extension": ".py",
   "mimetype": "text/x-python",
   "name": "python",
   "nbconvert_exporter": "python",
   "pygments_lexer": "ipython3",
   "version": "3.8.11"
  }
 },
 "nbformat": 4,
 "nbformat_minor": 4
}
