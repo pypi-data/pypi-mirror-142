{
 "cells": [
  {
   "cell_type": "markdown",
   "source": [
    "# Rules-Based System (RBS) example"
   ],
   "metadata": {}
  },
  {
   "cell_type": "markdown",
   "source": [
    "This is an example of how Iguanas can be used to set up a Rules-Based System (RBS) from scratch. This includes:\n",
    "\n",
    "* Generating new rules\n",
    "* Optimising existing rules\n",
    "* Combining these rules and removing those which are unnecessary\n",
    "* Setting up and optimising the RBS pipeline\n",
    "* Testing the optimised RBS pipeline on a test set\n",
    "\n",
    "In this example, we'll be creating an RBS for a **transaction fraud use case** (i.e. identifying potentially fraudulent transactions). The metric that we'll optimising for will be the **F1 Score**, and we'll just be focusing on **rules to capture fraudulent behaviour** (rather than also including rules which capture good behaviour, which is a relevant methodology to use too)."
   ],
   "metadata": {}
  },
  {
   "cell_type": "markdown",
   "source": [
    "## Requirements"
   ],
   "metadata": {}
  },
  {
   "cell_type": "markdown",
   "source": [
    "To run, you'll need the following:\n",
    "\n",
    "* A raw, labelled dataset."
   ],
   "metadata": {}
  },
  {
   "cell_type": "markdown",
   "source": [
    "---"
   ],
   "metadata": {}
  },
  {
   "cell_type": "markdown",
   "source": [
    "## Table of contents\n",
    "\n",
    "1. [Read/process data](#ReadProcessData)\n",
    "2. [Rule Generation](#RuleGeneration)\n",
    "3. [Rule Optimisation](#RuleOptimisation)\n",
    "4. [Combine rules and remove those which are unnecessary](#CombineRules)\n",
    "5. [Set up the RBS Pipeline](#SetUpPipeline)\n",
    "6. [Optimise the RBS Pipeline](#OptimiseThePipeline)\n",
    "7. [Filter rules for the optimised RBS Pipeline](#FilterRulesForPipeline)\n",
    "8. [Apply the optimised RBS Pipeline to the test set](#ApplyPipeline)\n",
    "9. [Convert generated rule conditions to system-ready](#ConvertGenToSys)\n",
    "10. [Our final rule set and RBS Pipeline](#FinalRuleSet)\n",
    "11. [There's an easier (and better) way!](#BetterWay)"
   ],
   "metadata": {}
  },
  {
   "cell_type": "markdown",
   "source": [
    "----"
   ],
   "metadata": {}
  },
  {
   "cell_type": "markdown",
   "source": [
    "## Import packages"
   ],
   "metadata": {}
  },
  {
   "cell_type": "code",
   "execution_count": 1,
   "source": [
    "from iguanas.rule_generation import RuleGeneratorDT\n",
    "from iguanas.rule_optimisation import BayesianOptimiser\n",
    "from iguanas.metrics.classification import FScore, Precision\n",
    "from iguanas.metrics.pairwise import JaccardSimilarity\n",
    "from iguanas.rules import Rules, ConvertProcessedConditionsToGeneral, ReturnMappings\n",
    "from iguanas.correlation_reduction import AgglomerativeClusteringReducer\n",
    "from iguanas.rule_selection import SimpleFilter, GreedyFilter, CorrelatedFilter\n",
    "from iguanas.rbs import RBSPipeline, RBSOptimiser\n",
    "\n",
    "import pandas as pd\n",
    "import numpy as np\n",
    "from sklearn.model_selection import train_test_split\n",
    "from category_encoders.one_hot import OneHotEncoder\n",
    "from sklearn.ensemble import RandomForestClassifier\n",
    "import pickle\n",
    "from sklearn.metrics import confusion_matrix, ConfusionMatrixDisplay, classification_report\n",
    "import seaborn as sns"
   ],
   "outputs": [],
   "metadata": {}
  },
  {
   "cell_type": "markdown",
   "source": [
    "---"
   ],
   "metadata": {}
  },
  {
   "cell_type": "markdown",
   "source": [
    "## Read/process data <a name=\"ReadProcessData\"></a>"
   ],
   "metadata": {}
  },
  {
   "cell_type": "markdown",
   "source": [
    "### Read in data"
   ],
   "metadata": {}
  },
  {
   "cell_type": "code",
   "execution_count": 2,
   "source": [
    "data = pd.read_csv(\n",
    "    'dummy_data/dummy_pipeline_output_data.csv',\n",
    "    index_col='eid'\n",
    ")"
   ],
   "outputs": [],
   "metadata": {}
  },
  {
   "cell_type": "code",
   "execution_count": 3,
   "source": [
    "data.shape"
   ],
   "outputs": [
    {
     "output_type": "execute_result",
     "data": {
      "text/plain": [
       "(13276, 64)"
      ]
     },
     "metadata": {},
     "execution_count": 3
    }
   ],
   "metadata": {}
  },
  {
   "cell_type": "markdown",
   "source": [
    "Then we can split the data into features (*X*) and the target column (*y*):"
   ],
   "metadata": {}
  },
  {
   "cell_type": "code",
   "execution_count": 4,
   "source": [
    "fraud_column = 'sim_is_fraud'\n",
    "X = data.drop(\n",
    "    fraud_column, \n",
    "    axis=1\n",
    ")\n",
    "y = data[fraud_column]"
   ],
   "outputs": [],
   "metadata": {}
  },
  {
   "cell_type": "markdown",
   "source": [
    "### Process the data"
   ],
   "metadata": {}
  },
  {
   "cell_type": "markdown",
   "source": [
    "#### Train/test split"
   ],
   "metadata": {}
  },
  {
   "cell_type": "markdown",
   "source": [
    "Before applying any data processing steps, we should split the data into training and test sets:"
   ],
   "metadata": {}
  },
  {
   "cell_type": "code",
   "execution_count": 5,
   "source": [
    "X_train, X_test, y_train, y_test = train_test_split(\n",
    "    X, \n",
    "    y, \n",
    "    test_size=0.33, \n",
    "    random_state=0\n",
    ")"
   ],
   "outputs": [],
   "metadata": {}
  },
  {
   "cell_type": "markdown",
   "source": [
    "#### Process data for rule generation"
   ],
   "metadata": {}
  },
  {
   "cell_type": "markdown",
   "source": [
    "When generating new rules, we need to first process the data. The main data processesing steps that need to be applied before using the rule generator are:\n",
    "\n",
    "* Remove uneccessary columns\n",
    "* Impute null values\n",
    "* One hot encode categorical features\n",
    "* Feature selection ***(in this case, the feature set is small, so this step is omitted from the example)***"
   ],
   "metadata": {}
  },
  {
   "cell_type": "markdown",
   "source": [
    "##### Remove unnecessary columns"
   ],
   "metadata": {}
  },
  {
   "cell_type": "markdown",
   "source": [
    "We need to remove those columns which will not be useful or make sense to have in our rules - in this case, this includes any features whose name containis 'sim', 'eid' or any high cardinality columns. Note however that there may be additional columns that you have to remove from your dataset:"
   ],
   "metadata": {}
  },
  {
   "cell_type": "code",
   "execution_count": 6,
   "source": [
    "sim_cols = X_train.filter(regex='sim_').columns.tolist()\n",
    "eid_cols = X_train.filter(regex='eid').columns.tolist()\n",
    "high_card_cols = X_train.select_dtypes(include='object').columns[(X_train.select_dtypes(include='object').nunique() > 50)].tolist()"
   ],
   "outputs": [],
   "metadata": {}
  },
  {
   "cell_type": "code",
   "execution_count": 7,
   "source": [
    "X_train = X_train.drop(sim_cols + eid_cols + high_card_cols, axis=1)\n",
    "X_test = X_test.drop(sim_cols + eid_cols + high_card_cols, axis=1)"
   ],
   "outputs": [],
   "metadata": {}
  },
  {
   "cell_type": "code",
   "execution_count": 8,
   "source": [
    "X_train.shape, X_test.shape"
   ],
   "outputs": [
    {
     "output_type": "execute_result",
     "data": {
      "text/plain": [
       "((8894, 27), (4382, 27))"
      ]
     },
     "metadata": {},
     "execution_count": 8
    }
   ],
   "metadata": {}
  },
  {
   "cell_type": "markdown",
   "source": [
    "##### Impute null values"
   ],
   "metadata": {}
  },
  {
   "cell_type": "markdown",
   "source": [
    "We can now impute the null values. You can use any imputation method you like - here we'll impute using the following methodology:\n",
    "\n",
    "* Impute numeric values with -1.\n",
    "* Impute categorical features with the category 'missing'.\n",
    "* Impute boolean features with 'missing'."
   ],
   "metadata": {}
  },
  {
   "cell_type": "code",
   "execution_count": 9,
   "source": [
    "print(\"Number of null values in X_train:\", X_train.isna().sum().sum())"
   ],
   "outputs": [
    {
     "output_type": "stream",
     "name": "stdout",
     "text": [
      "Number of null values in X_train: 4766\n"
     ]
    }
   ],
   "metadata": {}
  },
  {
   "cell_type": "code",
   "execution_count": 10,
   "source": [
    "num_cols = X_train.select_dtypes(include=np.number).columns.tolist()\n",
    "cat_cols = X_train.select_dtypes(include=object).columns.tolist()\n",
    "bool_cols = X_train.select_dtypes(include=bool).columns.tolist()"
   ],
   "outputs": [],
   "metadata": {}
  },
  {
   "cell_type": "code",
   "execution_count": 11,
   "source": [
    "X_train[bool_cols] = X_train[bool_cols].astype(object)\n",
    "X_test[bool_cols] = X_test[bool_cols].astype(object)"
   ],
   "outputs": [],
   "metadata": {}
  },
  {
   "cell_type": "code",
   "execution_count": 12,
   "source": [
    "X_train.loc[:, num_cols] = X_train.loc[:, num_cols].fillna(-1)\n",
    "X_train.loc[:, cat_cols] = X_train.loc[:, cat_cols].fillna('missing')\n",
    "X_train.loc[:, bool_cols] = X_train.loc[:, bool_cols].fillna('missing')\n",
    "X_test.loc[:, num_cols] = X_test.loc[:, num_cols].fillna(-1)\n",
    "X_test.loc[:, cat_cols] = X_test.loc[:, cat_cols].fillna('missing')\n",
    "X_test.loc[:, bool_cols] = X_test.loc[:, bool_cols].fillna('missing')"
   ],
   "outputs": [],
   "metadata": {}
  },
  {
   "cell_type": "code",
   "execution_count": 13,
   "source": [
    "print(\"Number of null values in X_train:\", X_train.isna().sum().sum())"
   ],
   "outputs": [
    {
     "output_type": "stream",
     "name": "stdout",
     "text": [
      "Number of null values in X_train: 0\n"
     ]
    }
   ],
   "metadata": {}
  },
  {
   "cell_type": "markdown",
   "source": [
    "##### One hot encode categorical features"
   ],
   "metadata": {}
  },
  {
   "cell_type": "markdown",
   "source": [
    "Now we can one hot encode the categorical features:"
   ],
   "metadata": {}
  },
  {
   "cell_type": "code",
   "execution_count": 14,
   "source": [
    "ohe = OneHotEncoder(use_cat_names=True)"
   ],
   "outputs": [],
   "metadata": {}
  },
  {
   "cell_type": "code",
   "execution_count": 15,
   "source": [
    "ohe.fit(X_train)\n",
    "X_train = ohe.transform(X_train)\n",
    "X_test = ohe.transform(X_test)"
   ],
   "outputs": [
    {
     "output_type": "stream",
     "name": "stderr",
     "text": [
      "/Users/jlaidler/venvs/iguanas_os_dev/lib/python3.8/site-packages/category_encoders/utils.py:21: FutureWarning: is_categorical is deprecated and will be removed in a future version.  Use is_categorical_dtype instead\n",
      "  elif pd.api.types.is_categorical(cols):\n"
     ]
    }
   ],
   "metadata": {}
  },
  {
   "cell_type": "code",
   "execution_count": 16,
   "source": [
    "X_train.shape, X_test.shape"
   ],
   "outputs": [
    {
     "output_type": "execute_result",
     "data": {
      "text/plain": [
       "((8894, 29), (4382, 29))"
      ]
     },
     "metadata": {},
     "execution_count": 16
    }
   ],
   "metadata": {}
  },
  {
   "cell_type": "markdown",
   "source": [
    "---"
   ],
   "metadata": {}
  },
  {
   "cell_type": "markdown",
   "source": [
    "## Rule generation <a name=\"RuleGeneration\"></a>"
   ],
   "metadata": {}
  },
  {
   "cell_type": "markdown",
   "source": [
    "Now that we've processed our raw data, we can use this to generate rules. There are two rule generator algorithms in Iguanas:\n",
    "\n",
    "* `RuleGeneratorDT`: Generate rules by extracting the highest performing branches from a tree ensemble model.\n",
    "* `RuleGeneratorOpt`: Generate rules by optimising the thresholds of single features and combining these one condition rules with AND conditions to create more complex rules.\n",
    "\n",
    "**In this example, we'll only use the** `RuleGeneratorDT`**, but you can use the RuleGeneratorOpt instead or additionally.**"
   ],
   "metadata": {}
  },
  {
   "cell_type": "markdown",
   "source": [
    "### Set up class parameters"
   ],
   "metadata": {}
  },
  {
   "cell_type": "markdown",
   "source": [
    "**Please see the class docstring for more information on each parameter**"
   ],
   "metadata": {}
  },
  {
   "cell_type": "code",
   "execution_count": 17,
   "source": [
    "p = Precision()\n",
    "f1 = FScore(beta=1)"
   ],
   "outputs": [],
   "metadata": {}
  },
  {
   "cell_type": "code",
   "execution_count": 18,
   "source": [
    "params = {\n",
    "    'metric': f1.fit,\n",
    "    'n_total_conditions': 4,   \n",
    "    'tree_ensemble': RandomForestClassifier(n_estimators=10, random_state=0),\n",
    "    'target_feat_corr_types': 'Infer',\n",
    "    'num_cores': 4,\n",
    "    'verbose': 1\n",
    "}"
   ],
   "outputs": [],
   "metadata": {}
  },
  {
   "cell_type": "markdown",
   "source": [
    "### Instantiate class and run fit method"
   ],
   "metadata": {}
  },
  {
   "cell_type": "markdown",
   "source": [
    "Once the parameters have been set, we can run the `fit` method to generate the rules:"
   ],
   "metadata": {}
  },
  {
   "cell_type": "code",
   "execution_count": 19,
   "source": [
    "rg = RuleGeneratorDT(**params)"
   ],
   "outputs": [],
   "metadata": {}
  },
  {
   "cell_type": "code",
   "execution_count": 20,
   "source": [
    "X_rules_gen_train = rg.fit(\n",
    "    X=X_train, \n",
    "    y=y_train\n",
    ")"
   ],
   "outputs": [
    {
     "output_type": "stream",
     "name": "stdout",
     "text": [
      "--- Calculating correlation of features with respect to the target ---\n",
      "--- Returning column datatypes ---\n",
      "--- Training tree ensemble ---\n",
      "--- Extracting rules from tree ensemble ---\n",
      "100%|███████████████████████████████████████████████████████████████████████████████████████████████████████████████████████████████████████████████████████████████████████████████████████████████████████| 10/10 [00:03<00:00,  3.04it/s]\n"
     ]
    }
   ],
   "metadata": {}
  },
  {
   "cell_type": "markdown",
   "source": [
    "### Outputs"
   ],
   "metadata": {}
  },
  {
   "cell_type": "markdown",
   "source": [
    "The `fit` method return the binary columns of the generated rules. See the `Attributes` section in the class docstring for a description of each attribute generated:"
   ],
   "metadata": {}
  },
  {
   "cell_type": "code",
   "execution_count": 21,
   "source": [
    "X_rules_gen_train.head()"
   ],
   "outputs": [
    {
     "output_type": "execute_result",
     "data": {
      "text/plain": [
       "                     RGDT_Rule_20211222_0  RGDT_Rule_20211222_1  \\\n",
       "eid                                                               \n",
       "503-0182982-0226911                     0                     0   \n",
       "516-2441570-6696110                     0                     0   \n",
       "475-5982298-4197297                     0                     0   \n",
       "935-3613661-7862154                     0                     0   \n",
       "936-1684183-4550418                     0                     0   \n",
       "\n",
       "                     RGDT_Rule_20211222_2  RGDT_Rule_20211222_3  \\\n",
       "eid                                                               \n",
       "503-0182982-0226911                     0                     0   \n",
       "516-2441570-6696110                     0                     0   \n",
       "475-5982298-4197297                     0                     0   \n",
       "935-3613661-7862154                     0                     0   \n",
       "936-1684183-4550418                     0                     0   \n",
       "\n",
       "                     RGDT_Rule_20211222_4  RGDT_Rule_20211222_5  \\\n",
       "eid                                                               \n",
       "503-0182982-0226911                     0                     0   \n",
       "516-2441570-6696110                     0                     0   \n",
       "475-5982298-4197297                     0                     0   \n",
       "935-3613661-7862154                     0                     0   \n",
       "936-1684183-4550418                     0                     0   \n",
       "\n",
       "                     RGDT_Rule_20211222_6  RGDT_Rule_20211222_7  \\\n",
       "eid                                                               \n",
       "503-0182982-0226911                     0                     0   \n",
       "516-2441570-6696110                     0                     0   \n",
       "475-5982298-4197297                     0                     0   \n",
       "935-3613661-7862154                     0                     0   \n",
       "936-1684183-4550418                     0                     0   \n",
       "\n",
       "                     RGDT_Rule_20211222_8  RGDT_Rule_20211222_9  ...  \\\n",
       "eid                                                              ...   \n",
       "503-0182982-0226911                     0                     0  ...   \n",
       "516-2441570-6696110                     0                     0  ...   \n",
       "475-5982298-4197297                     0                     0  ...   \n",
       "935-3613661-7862154                     0                     0  ...   \n",
       "936-1684183-4550418                     0                     0  ...   \n",
       "\n",
       "                     RGDT_Rule_20211222_19  RGDT_Rule_20211222_20  \\\n",
       "eid                                                                 \n",
       "503-0182982-0226911                      1                      1   \n",
       "516-2441570-6696110                      0                      0   \n",
       "475-5982298-4197297                      0                      0   \n",
       "935-3613661-7862154                      0                      0   \n",
       "936-1684183-4550418                      0                      0   \n",
       "\n",
       "                     RGDT_Rule_20211222_21  RGDT_Rule_20211222_22  \\\n",
       "eid                                                                 \n",
       "503-0182982-0226911                      1                      0   \n",
       "516-2441570-6696110                      0                      0   \n",
       "475-5982298-4197297                      0                      0   \n",
       "935-3613661-7862154                      0                      0   \n",
       "936-1684183-4550418                      0                      0   \n",
       "\n",
       "                     RGDT_Rule_20211222_23  RGDT_Rule_20211222_24  \\\n",
       "eid                                                                 \n",
       "503-0182982-0226911                      0                      0   \n",
       "516-2441570-6696110                      0                      0   \n",
       "475-5982298-4197297                      0                      0   \n",
       "935-3613661-7862154                      0                      0   \n",
       "936-1684183-4550418                      0                      0   \n",
       "\n",
       "                     RGDT_Rule_20211222_25  RGDT_Rule_20211222_26  \\\n",
       "eid                                                                 \n",
       "503-0182982-0226911                      1                      0   \n",
       "516-2441570-6696110                      0                      0   \n",
       "475-5982298-4197297                      0                      0   \n",
       "935-3613661-7862154                      0                      0   \n",
       "936-1684183-4550418                      0                      0   \n",
       "\n",
       "                     RGDT_Rule_20211222_27  RGDT_Rule_20211222_28  \n",
       "eid                                                                \n",
       "503-0182982-0226911                      0                      1  \n",
       "516-2441570-6696110                      0                      0  \n",
       "475-5982298-4197297                      0                      0  \n",
       "935-3613661-7862154                      1                      0  \n",
       "936-1684183-4550418                      0                      0  \n",
       "\n",
       "[5 rows x 29 columns]"
      ],
      "text/html": [
       "<div>\n",
       "<style scoped>\n",
       "    .dataframe tbody tr th:only-of-type {\n",
       "        vertical-align: middle;\n",
       "    }\n",
       "\n",
       "    .dataframe tbody tr th {\n",
       "        vertical-align: top;\n",
       "    }\n",
       "\n",
       "    .dataframe thead th {\n",
       "        text-align: right;\n",
       "    }\n",
       "</style>\n",
       "<table border=\"1\" class=\"dataframe\">\n",
       "  <thead>\n",
       "    <tr style=\"text-align: right;\">\n",
       "      <th></th>\n",
       "      <th>RGDT_Rule_20211222_0</th>\n",
       "      <th>RGDT_Rule_20211222_1</th>\n",
       "      <th>RGDT_Rule_20211222_2</th>\n",
       "      <th>RGDT_Rule_20211222_3</th>\n",
       "      <th>RGDT_Rule_20211222_4</th>\n",
       "      <th>RGDT_Rule_20211222_5</th>\n",
       "      <th>RGDT_Rule_20211222_6</th>\n",
       "      <th>RGDT_Rule_20211222_7</th>\n",
       "      <th>RGDT_Rule_20211222_8</th>\n",
       "      <th>RGDT_Rule_20211222_9</th>\n",
       "      <th>...</th>\n",
       "      <th>RGDT_Rule_20211222_19</th>\n",
       "      <th>RGDT_Rule_20211222_20</th>\n",
       "      <th>RGDT_Rule_20211222_21</th>\n",
       "      <th>RGDT_Rule_20211222_22</th>\n",
       "      <th>RGDT_Rule_20211222_23</th>\n",
       "      <th>RGDT_Rule_20211222_24</th>\n",
       "      <th>RGDT_Rule_20211222_25</th>\n",
       "      <th>RGDT_Rule_20211222_26</th>\n",
       "      <th>RGDT_Rule_20211222_27</th>\n",
       "      <th>RGDT_Rule_20211222_28</th>\n",
       "    </tr>\n",
       "    <tr>\n",
       "      <th>eid</th>\n",
       "      <th></th>\n",
       "      <th></th>\n",
       "      <th></th>\n",
       "      <th></th>\n",
       "      <th></th>\n",
       "      <th></th>\n",
       "      <th></th>\n",
       "      <th></th>\n",
       "      <th></th>\n",
       "      <th></th>\n",
       "      <th></th>\n",
       "      <th></th>\n",
       "      <th></th>\n",
       "      <th></th>\n",
       "      <th></th>\n",
       "      <th></th>\n",
       "      <th></th>\n",
       "      <th></th>\n",
       "      <th></th>\n",
       "      <th></th>\n",
       "      <th></th>\n",
       "    </tr>\n",
       "  </thead>\n",
       "  <tbody>\n",
       "    <tr>\n",
       "      <th>503-0182982-0226911</th>\n",
       "      <td>0</td>\n",
       "      <td>0</td>\n",
       "      <td>0</td>\n",
       "      <td>0</td>\n",
       "      <td>0</td>\n",
       "      <td>0</td>\n",
       "      <td>0</td>\n",
       "      <td>0</td>\n",
       "      <td>0</td>\n",
       "      <td>0</td>\n",
       "      <td>...</td>\n",
       "      <td>1</td>\n",
       "      <td>1</td>\n",
       "      <td>1</td>\n",
       "      <td>0</td>\n",
       "      <td>0</td>\n",
       "      <td>0</td>\n",
       "      <td>1</td>\n",
       "      <td>0</td>\n",
       "      <td>0</td>\n",
       "      <td>1</td>\n",
       "    </tr>\n",
       "    <tr>\n",
       "      <th>516-2441570-6696110</th>\n",
       "      <td>0</td>\n",
       "      <td>0</td>\n",
       "      <td>0</td>\n",
       "      <td>0</td>\n",
       "      <td>0</td>\n",
       "      <td>0</td>\n",
       "      <td>0</td>\n",
       "      <td>0</td>\n",
       "      <td>0</td>\n",
       "      <td>0</td>\n",
       "      <td>...</td>\n",
       "      <td>0</td>\n",
       "      <td>0</td>\n",
       "      <td>0</td>\n",
       "      <td>0</td>\n",
       "      <td>0</td>\n",
       "      <td>0</td>\n",
       "      <td>0</td>\n",
       "      <td>0</td>\n",
       "      <td>0</td>\n",
       "      <td>0</td>\n",
       "    </tr>\n",
       "    <tr>\n",
       "      <th>475-5982298-4197297</th>\n",
       "      <td>0</td>\n",
       "      <td>0</td>\n",
       "      <td>0</td>\n",
       "      <td>0</td>\n",
       "      <td>0</td>\n",
       "      <td>0</td>\n",
       "      <td>0</td>\n",
       "      <td>0</td>\n",
       "      <td>0</td>\n",
       "      <td>0</td>\n",
       "      <td>...</td>\n",
       "      <td>0</td>\n",
       "      <td>0</td>\n",
       "      <td>0</td>\n",
       "      <td>0</td>\n",
       "      <td>0</td>\n",
       "      <td>0</td>\n",
       "      <td>0</td>\n",
       "      <td>0</td>\n",
       "      <td>0</td>\n",
       "      <td>0</td>\n",
       "    </tr>\n",
       "    <tr>\n",
       "      <th>935-3613661-7862154</th>\n",
       "      <td>0</td>\n",
       "      <td>0</td>\n",
       "      <td>0</td>\n",
       "      <td>0</td>\n",
       "      <td>0</td>\n",
       "      <td>0</td>\n",
       "      <td>0</td>\n",
       "      <td>0</td>\n",
       "      <td>0</td>\n",
       "      <td>0</td>\n",
       "      <td>...</td>\n",
       "      <td>0</td>\n",
       "      <td>0</td>\n",
       "      <td>0</td>\n",
       "      <td>0</td>\n",
       "      <td>0</td>\n",
       "      <td>0</td>\n",
       "      <td>0</td>\n",
       "      <td>0</td>\n",
       "      <td>1</td>\n",
       "      <td>0</td>\n",
       "    </tr>\n",
       "    <tr>\n",
       "      <th>936-1684183-4550418</th>\n",
       "      <td>0</td>\n",
       "      <td>0</td>\n",
       "      <td>0</td>\n",
       "      <td>0</td>\n",
       "      <td>0</td>\n",
       "      <td>0</td>\n",
       "      <td>0</td>\n",
       "      <td>0</td>\n",
       "      <td>0</td>\n",
       "      <td>0</td>\n",
       "      <td>...</td>\n",
       "      <td>0</td>\n",
       "      <td>0</td>\n",
       "      <td>0</td>\n",
       "      <td>0</td>\n",
       "      <td>0</td>\n",
       "      <td>0</td>\n",
       "      <td>0</td>\n",
       "      <td>0</td>\n",
       "      <td>0</td>\n",
       "      <td>0</td>\n",
       "    </tr>\n",
       "  </tbody>\n",
       "</table>\n",
       "<p>5 rows × 29 columns</p>\n",
       "</div>"
      ]
     },
     "metadata": {},
     "execution_count": 21
    }
   ],
   "metadata": {}
  },
  {
   "cell_type": "markdown",
   "source": [
    "----"
   ],
   "metadata": {}
  },
  {
   "cell_type": "markdown",
   "source": [
    "## Rule Optimisation <a name=\"RuleOptimisation\"></a>"
   ],
   "metadata": {}
  },
  {
   "cell_type": "markdown",
   "source": [
    "Now we can optimise the existing rules.\n",
    "\n",
    "First, we'll read in the existing rules, which have been stored in the standard Iguanas string format:"
   ],
   "metadata": {}
  },
  {
   "cell_type": "code",
   "execution_count": 22,
   "source": [
    "with open('dummy_data/rule_strings.pkl', 'rb') as f:\n",
    "    rule_strings = pickle.load(f)"
   ],
   "outputs": [],
   "metadata": {}
  },
  {
   "cell_type": "markdown",
   "source": [
    "We can then instantiate the `Rules` class with these rules, so that we can convert them into the standard Iguanas lambda expression format:"
   ],
   "metadata": {}
  },
  {
   "cell_type": "code",
   "execution_count": 23,
   "source": [
    "existing_rules = Rules(rule_strings=rule_strings)"
   ],
   "outputs": [],
   "metadata": {}
  },
  {
   "cell_type": "markdown",
   "source": [
    "To convert the rules, we use the `as_rule_lambdas` method from the instantiated `Rules` class:"
   ],
   "metadata": {}
  },
  {
   "cell_type": "code",
   "execution_count": 24,
   "source": [
    "existing_rule_lambdas = existing_rules.as_rule_lambdas(as_numpy=False, with_kwargs=True)"
   ],
   "outputs": [],
   "metadata": {}
  },
  {
   "cell_type": "markdown",
   "source": [
    "The standard Iguanas lambda expression format allows new values to be injected into the condition string of a rule. This means that the rule's performance can be evaluated with new values (this capability is leveraged in the rule optimisers)."
   ],
   "metadata": {}
  },
  {
   "cell_type": "markdown",
   "source": [
    "We can now use the `BayesianOptimiser` class to optimise the thresholds of these rules."
   ],
   "metadata": {}
  },
  {
   "cell_type": "markdown",
   "source": [
    "### Set up class parameters"
   ],
   "metadata": {}
  },
  {
   "cell_type": "markdown",
   "source": [
    "**Please see the class docstring for more information on each parameter**"
   ],
   "metadata": {}
  },
  {
   "cell_type": "code",
   "execution_count": 25,
   "source": [
    "params = {\n",
    "    'rule_lambdas': existing_rule_lambdas,\n",
    "    'lambda_kwargs': existing_rules.lambda_kwargs,\n",
    "    'metric': f1.fit,\n",
    "    'n_iter': 10,\n",
    "    'num_cores': 4,\n",
    "    'verbose': 1\n",
    "}"
   ],
   "outputs": [],
   "metadata": {}
  },
  {
   "cell_type": "markdown",
   "source": [
    "### Instantiate class and run fit method"
   ],
   "metadata": {}
  },
  {
   "cell_type": "markdown",
   "source": [
    "Once the parameters have been set, we can run the `fit` method to optimise the thresholds of the rules.\n",
    "\n",
    "**Note:** we use the raw, unprocessed data here, as productionised rules will usually run on raw data:"
   ],
   "metadata": {}
  },
  {
   "cell_type": "code",
   "execution_count": 26,
   "source": [
    "ro = BayesianOptimiser(**params)"
   ],
   "outputs": [],
   "metadata": {}
  },
  {
   "cell_type": "code",
   "execution_count": 27,
   "source": [
    "X_rules_opt_train = ro.fit(\n",
    "    X=X.loc[X_train.index], \n",
    "    y=y_train\n",
    ")"
   ],
   "outputs": [
    {
     "output_type": "stream",
     "name": "stdout",
     "text": [
      "--- Checking for rules with features that are missing in `X` ---\n",
      "100%|████████████████████████████████████████████████████████████████████████████████████████████████████████████████████████████████████████████████████████████████████████████████████████████████████| 23/23 [00:00<00:00, 61328.03it/s]\n",
      "--- Checking for rules that exclusively contain non-optimisable conditions ---\n",
      "100%|███████████████████████████████████████████████████████████████████████████████████████████████████████████████████████████████████████████████████████████████████████████████████████████████████| 23/23 [00:00<00:00, 247356.39it/s]"
     ]
    },
    {
     "output_type": "stream",
     "name": "stderr",
     "text": [
      "/Users/jlaidler/Documents/argo/iguanas/rule_optimisation/_base_optimiser.py:218: UserWarning: Rules `Rule2`, `Rule3` have no optimisable conditions - unable to optimise these rules\n",
      "  warnings.warn(\n"
     ]
    },
    {
     "output_type": "stream",
     "name": "stdout",
     "text": [
      "\n",
      "--- Checking for rules that exclusively contain zero-variance features ---\n",
      "100%|███████████████████████████████████████████████████████████████████████████████████████████████████████████████████████████████████████████████████████████████████████████████████████████████████| 23/23 [00:00<00:00, 287967.14it/s]\n",
      "--- Optimising rules ---\n",
      "100%|███████████████████████████████████████████████████████████████████████████████████████████████████████████████████████████████████████████████████████████████████████████████████████████████████████| 21/21 [00:00<00:00, 44.33it/s]\n"
     ]
    }
   ],
   "metadata": {
    "tags": []
   }
  },
  {
   "cell_type": "markdown",
   "source": [
    "### Outputs"
   ],
   "metadata": {}
  },
  {
   "cell_type": "markdown",
   "source": [
    "The `fit` method returns the binary columns of the generated rules. See the `Attributes` section in the class docstring for a description of each attribute generated.\n",
    "\n",
    "**Note the following cases where the rule optimiser will be unable to run:**\n",
    "\n",
    "* Rules that contain features that are missing in `X`.\n",
    "* Rules that contain no optimisable features (e.g. all of the conditions are string-based).\n",
    "* Rules that contain exclusively zero variance features.\n",
    "* Rules that contain a feature that is completely null in `X`."
   ],
   "metadata": {}
  },
  {
   "cell_type": "code",
   "execution_count": 28,
   "source": [
    "X_rules_opt_train.head()"
   ],
   "outputs": [
    {
     "output_type": "execute_result",
     "data": {
      "text/plain": [
       "                     RGDT_Rule137  CreateRuleTest2  RGDT_Rule81  \\\n",
       "eid                                                               \n",
       "503-0182982-0226911             0                1            0   \n",
       "516-2441570-6696110             0                0            0   \n",
       "475-5982298-4197297             0                0            0   \n",
       "935-3613661-7862154             0                0            0   \n",
       "936-1684183-4550418             0                0            0   \n",
       "\n",
       "                     HighFraudTxnPerAccountNum  RGDT_Rule256  RGDT_Rule35  \\\n",
       "eid                                                                         \n",
       "503-0182982-0226911                          1             0            1   \n",
       "516-2441570-6696110                          0             0            0   \n",
       "475-5982298-4197297                          0             0            0   \n",
       "935-3613661-7862154                          0             0            0   \n",
       "936-1684183-4550418                          0             0            0   \n",
       "\n",
       "                     RGDT_Rule193  RGDT_Rule241  RGDT_Rule263  RGDT_Rule313  \\\n",
       "eid                                                                           \n",
       "503-0182982-0226911             0             0             1             1   \n",
       "516-2441570-6696110             0             0             0             0   \n",
       "475-5982298-4197297             0             0             0             0   \n",
       "935-3613661-7862154             0             0             0             0   \n",
       "936-1684183-4550418             0             0             0             0   \n",
       "\n",
       "                     ...  RGDT_Rule153  RGDT_Rule112  RGDT_Rule2  RGDT_Rule65  \\\n",
       "eid                  ...                                                        \n",
       "503-0182982-0226911  ...             0             0           1            0   \n",
       "516-2441570-6696110  ...             0             0           0            0   \n",
       "475-5982298-4197297  ...             0             0           0            0   \n",
       "935-3613661-7862154  ...             0             0           0            0   \n",
       "936-1684183-4550418  ...             0             0           0            0   \n",
       "\n",
       "                     RGDT_Rule45  RGDT_Rule162  RGDT_Rule272  RGDT_Rule24  \\\n",
       "eid                                                                         \n",
       "503-0182982-0226911            0             0             0            0   \n",
       "516-2441570-6696110            0             0             0            0   \n",
       "475-5982298-4197297            0             0             0            0   \n",
       "935-3613661-7862154            0             0             0            0   \n",
       "936-1684183-4550418            0             0             0            0   \n",
       "\n",
       "                     ComplicatedRule  Rule1  \n",
       "eid                                          \n",
       "503-0182982-0226911                0      1  \n",
       "516-2441570-6696110                0      0  \n",
       "475-5982298-4197297                0      0  \n",
       "935-3613661-7862154                0      0  \n",
       "936-1684183-4550418                0      0  \n",
       "\n",
       "[5 rows x 21 columns]"
      ],
      "text/html": [
       "<div>\n",
       "<style scoped>\n",
       "    .dataframe tbody tr th:only-of-type {\n",
       "        vertical-align: middle;\n",
       "    }\n",
       "\n",
       "    .dataframe tbody tr th {\n",
       "        vertical-align: top;\n",
       "    }\n",
       "\n",
       "    .dataframe thead th {\n",
       "        text-align: right;\n",
       "    }\n",
       "</style>\n",
       "<table border=\"1\" class=\"dataframe\">\n",
       "  <thead>\n",
       "    <tr style=\"text-align: right;\">\n",
       "      <th></th>\n",
       "      <th>RGDT_Rule137</th>\n",
       "      <th>CreateRuleTest2</th>\n",
       "      <th>RGDT_Rule81</th>\n",
       "      <th>HighFraudTxnPerAccountNum</th>\n",
       "      <th>RGDT_Rule256</th>\n",
       "      <th>RGDT_Rule35</th>\n",
       "      <th>RGDT_Rule193</th>\n",
       "      <th>RGDT_Rule241</th>\n",
       "      <th>RGDT_Rule263</th>\n",
       "      <th>RGDT_Rule313</th>\n",
       "      <th>...</th>\n",
       "      <th>RGDT_Rule153</th>\n",
       "      <th>RGDT_Rule112</th>\n",
       "      <th>RGDT_Rule2</th>\n",
       "      <th>RGDT_Rule65</th>\n",
       "      <th>RGDT_Rule45</th>\n",
       "      <th>RGDT_Rule162</th>\n",
       "      <th>RGDT_Rule272</th>\n",
       "      <th>RGDT_Rule24</th>\n",
       "      <th>ComplicatedRule</th>\n",
       "      <th>Rule1</th>\n",
       "    </tr>\n",
       "    <tr>\n",
       "      <th>eid</th>\n",
       "      <th></th>\n",
       "      <th></th>\n",
       "      <th></th>\n",
       "      <th></th>\n",
       "      <th></th>\n",
       "      <th></th>\n",
       "      <th></th>\n",
       "      <th></th>\n",
       "      <th></th>\n",
       "      <th></th>\n",
       "      <th></th>\n",
       "      <th></th>\n",
       "      <th></th>\n",
       "      <th></th>\n",
       "      <th></th>\n",
       "      <th></th>\n",
       "      <th></th>\n",
       "      <th></th>\n",
       "      <th></th>\n",
       "      <th></th>\n",
       "      <th></th>\n",
       "    </tr>\n",
       "  </thead>\n",
       "  <tbody>\n",
       "    <tr>\n",
       "      <th>503-0182982-0226911</th>\n",
       "      <td>0</td>\n",
       "      <td>1</td>\n",
       "      <td>0</td>\n",
       "      <td>1</td>\n",
       "      <td>0</td>\n",
       "      <td>1</td>\n",
       "      <td>0</td>\n",
       "      <td>0</td>\n",
       "      <td>1</td>\n",
       "      <td>1</td>\n",
       "      <td>...</td>\n",
       "      <td>0</td>\n",
       "      <td>0</td>\n",
       "      <td>1</td>\n",
       "      <td>0</td>\n",
       "      <td>0</td>\n",
       "      <td>0</td>\n",
       "      <td>0</td>\n",
       "      <td>0</td>\n",
       "      <td>0</td>\n",
       "      <td>1</td>\n",
       "    </tr>\n",
       "    <tr>\n",
       "      <th>516-2441570-6696110</th>\n",
       "      <td>0</td>\n",
       "      <td>0</td>\n",
       "      <td>0</td>\n",
       "      <td>0</td>\n",
       "      <td>0</td>\n",
       "      <td>0</td>\n",
       "      <td>0</td>\n",
       "      <td>0</td>\n",
       "      <td>0</td>\n",
       "      <td>0</td>\n",
       "      <td>...</td>\n",
       "      <td>0</td>\n",
       "      <td>0</td>\n",
       "      <td>0</td>\n",
       "      <td>0</td>\n",
       "      <td>0</td>\n",
       "      <td>0</td>\n",
       "      <td>0</td>\n",
       "      <td>0</td>\n",
       "      <td>0</td>\n",
       "      <td>0</td>\n",
       "    </tr>\n",
       "    <tr>\n",
       "      <th>475-5982298-4197297</th>\n",
       "      <td>0</td>\n",
       "      <td>0</td>\n",
       "      <td>0</td>\n",
       "      <td>0</td>\n",
       "      <td>0</td>\n",
       "      <td>0</td>\n",
       "      <td>0</td>\n",
       "      <td>0</td>\n",
       "      <td>0</td>\n",
       "      <td>0</td>\n",
       "      <td>...</td>\n",
       "      <td>0</td>\n",
       "      <td>0</td>\n",
       "      <td>0</td>\n",
       "      <td>0</td>\n",
       "      <td>0</td>\n",
       "      <td>0</td>\n",
       "      <td>0</td>\n",
       "      <td>0</td>\n",
       "      <td>0</td>\n",
       "      <td>0</td>\n",
       "    </tr>\n",
       "    <tr>\n",
       "      <th>935-3613661-7862154</th>\n",
       "      <td>0</td>\n",
       "      <td>0</td>\n",
       "      <td>0</td>\n",
       "      <td>0</td>\n",
       "      <td>0</td>\n",
       "      <td>0</td>\n",
       "      <td>0</td>\n",
       "      <td>0</td>\n",
       "      <td>0</td>\n",
       "      <td>0</td>\n",
       "      <td>...</td>\n",
       "      <td>0</td>\n",
       "      <td>0</td>\n",
       "      <td>0</td>\n",
       "      <td>0</td>\n",
       "      <td>0</td>\n",
       "      <td>0</td>\n",
       "      <td>0</td>\n",
       "      <td>0</td>\n",
       "      <td>0</td>\n",
       "      <td>0</td>\n",
       "    </tr>\n",
       "    <tr>\n",
       "      <th>936-1684183-4550418</th>\n",
       "      <td>0</td>\n",
       "      <td>0</td>\n",
       "      <td>0</td>\n",
       "      <td>0</td>\n",
       "      <td>0</td>\n",
       "      <td>0</td>\n",
       "      <td>0</td>\n",
       "      <td>0</td>\n",
       "      <td>0</td>\n",
       "      <td>0</td>\n",
       "      <td>...</td>\n",
       "      <td>0</td>\n",
       "      <td>0</td>\n",
       "      <td>0</td>\n",
       "      <td>0</td>\n",
       "      <td>0</td>\n",
       "      <td>0</td>\n",
       "      <td>0</td>\n",
       "      <td>0</td>\n",
       "      <td>0</td>\n",
       "      <td>0</td>\n",
       "    </tr>\n",
       "  </tbody>\n",
       "</table>\n",
       "<p>5 rows × 21 columns</p>\n",
       "</div>"
      ]
     },
     "metadata": {},
     "execution_count": 28
    }
   ],
   "metadata": {}
  },
  {
   "cell_type": "markdown",
   "source": [
    "---"
   ],
   "metadata": {}
  },
  {
   "cell_type": "markdown",
   "source": [
    "## Combine rules and remove those which are unnecessary <a name=\"CombineRules\"></a>"
   ],
   "metadata": {}
  },
  {
   "cell_type": "markdown",
   "source": [
    "We now have two sets of rules:\n",
    "\n",
    "1. Newly generated rules\n",
    "2. Optimised existing rules\n",
    "\n",
    "We can combine these rule sets, then apply correlation reduction and filtering methods to remove those which are unneccesary:"
   ],
   "metadata": {}
  },
  {
   "cell_type": "code",
   "execution_count": 29,
   "source": [
    "# Combine the binary columns of each rule set\n",
    "X_rules_train = pd.concat([\n",
    "    X_rules_gen_train, \n",
    "    X_rules_opt_train\n",
    "], axis=1)"
   ],
   "outputs": [],
   "metadata": {}
  },
  {
   "cell_type": "code",
   "execution_count": 30,
   "source": [
    "X_rules_train.head(2)"
   ],
   "outputs": [
    {
     "output_type": "execute_result",
     "data": {
      "text/plain": [
       "                     RGDT_Rule_20211222_0  RGDT_Rule_20211222_1  \\\n",
       "eid                                                               \n",
       "503-0182982-0226911                     0                     0   \n",
       "516-2441570-6696110                     0                     0   \n",
       "\n",
       "                     RGDT_Rule_20211222_2  RGDT_Rule_20211222_3  \\\n",
       "eid                                                               \n",
       "503-0182982-0226911                     0                     0   \n",
       "516-2441570-6696110                     0                     0   \n",
       "\n",
       "                     RGDT_Rule_20211222_4  RGDT_Rule_20211222_5  \\\n",
       "eid                                                               \n",
       "503-0182982-0226911                     0                     0   \n",
       "516-2441570-6696110                     0                     0   \n",
       "\n",
       "                     RGDT_Rule_20211222_6  RGDT_Rule_20211222_7  \\\n",
       "eid                                                               \n",
       "503-0182982-0226911                     0                     0   \n",
       "516-2441570-6696110                     0                     0   \n",
       "\n",
       "                     RGDT_Rule_20211222_8  RGDT_Rule_20211222_9  ...  \\\n",
       "eid                                                              ...   \n",
       "503-0182982-0226911                     0                     0  ...   \n",
       "516-2441570-6696110                     0                     0  ...   \n",
       "\n",
       "                     RGDT_Rule153  RGDT_Rule112  RGDT_Rule2  RGDT_Rule65  \\\n",
       "eid                                                                        \n",
       "503-0182982-0226911             0             0           1            0   \n",
       "516-2441570-6696110             0             0           0            0   \n",
       "\n",
       "                     RGDT_Rule45  RGDT_Rule162  RGDT_Rule272  RGDT_Rule24  \\\n",
       "eid                                                                         \n",
       "503-0182982-0226911            0             0             0            0   \n",
       "516-2441570-6696110            0             0             0            0   \n",
       "\n",
       "                     ComplicatedRule  Rule1  \n",
       "eid                                          \n",
       "503-0182982-0226911                0      1  \n",
       "516-2441570-6696110                0      0  \n",
       "\n",
       "[2 rows x 50 columns]"
      ],
      "text/html": [
       "<div>\n",
       "<style scoped>\n",
       "    .dataframe tbody tr th:only-of-type {\n",
       "        vertical-align: middle;\n",
       "    }\n",
       "\n",
       "    .dataframe tbody tr th {\n",
       "        vertical-align: top;\n",
       "    }\n",
       "\n",
       "    .dataframe thead th {\n",
       "        text-align: right;\n",
       "    }\n",
       "</style>\n",
       "<table border=\"1\" class=\"dataframe\">\n",
       "  <thead>\n",
       "    <tr style=\"text-align: right;\">\n",
       "      <th></th>\n",
       "      <th>RGDT_Rule_20211222_0</th>\n",
       "      <th>RGDT_Rule_20211222_1</th>\n",
       "      <th>RGDT_Rule_20211222_2</th>\n",
       "      <th>RGDT_Rule_20211222_3</th>\n",
       "      <th>RGDT_Rule_20211222_4</th>\n",
       "      <th>RGDT_Rule_20211222_5</th>\n",
       "      <th>RGDT_Rule_20211222_6</th>\n",
       "      <th>RGDT_Rule_20211222_7</th>\n",
       "      <th>RGDT_Rule_20211222_8</th>\n",
       "      <th>RGDT_Rule_20211222_9</th>\n",
       "      <th>...</th>\n",
       "      <th>RGDT_Rule153</th>\n",
       "      <th>RGDT_Rule112</th>\n",
       "      <th>RGDT_Rule2</th>\n",
       "      <th>RGDT_Rule65</th>\n",
       "      <th>RGDT_Rule45</th>\n",
       "      <th>RGDT_Rule162</th>\n",
       "      <th>RGDT_Rule272</th>\n",
       "      <th>RGDT_Rule24</th>\n",
       "      <th>ComplicatedRule</th>\n",
       "      <th>Rule1</th>\n",
       "    </tr>\n",
       "    <tr>\n",
       "      <th>eid</th>\n",
       "      <th></th>\n",
       "      <th></th>\n",
       "      <th></th>\n",
       "      <th></th>\n",
       "      <th></th>\n",
       "      <th></th>\n",
       "      <th></th>\n",
       "      <th></th>\n",
       "      <th></th>\n",
       "      <th></th>\n",
       "      <th></th>\n",
       "      <th></th>\n",
       "      <th></th>\n",
       "      <th></th>\n",
       "      <th></th>\n",
       "      <th></th>\n",
       "      <th></th>\n",
       "      <th></th>\n",
       "      <th></th>\n",
       "      <th></th>\n",
       "      <th></th>\n",
       "    </tr>\n",
       "  </thead>\n",
       "  <tbody>\n",
       "    <tr>\n",
       "      <th>503-0182982-0226911</th>\n",
       "      <td>0</td>\n",
       "      <td>0</td>\n",
       "      <td>0</td>\n",
       "      <td>0</td>\n",
       "      <td>0</td>\n",
       "      <td>0</td>\n",
       "      <td>0</td>\n",
       "      <td>0</td>\n",
       "      <td>0</td>\n",
       "      <td>0</td>\n",
       "      <td>...</td>\n",
       "      <td>0</td>\n",
       "      <td>0</td>\n",
       "      <td>1</td>\n",
       "      <td>0</td>\n",
       "      <td>0</td>\n",
       "      <td>0</td>\n",
       "      <td>0</td>\n",
       "      <td>0</td>\n",
       "      <td>0</td>\n",
       "      <td>1</td>\n",
       "    </tr>\n",
       "    <tr>\n",
       "      <th>516-2441570-6696110</th>\n",
       "      <td>0</td>\n",
       "      <td>0</td>\n",
       "      <td>0</td>\n",
       "      <td>0</td>\n",
       "      <td>0</td>\n",
       "      <td>0</td>\n",
       "      <td>0</td>\n",
       "      <td>0</td>\n",
       "      <td>0</td>\n",
       "      <td>0</td>\n",
       "      <td>...</td>\n",
       "      <td>0</td>\n",
       "      <td>0</td>\n",
       "      <td>0</td>\n",
       "      <td>0</td>\n",
       "      <td>0</td>\n",
       "      <td>0</td>\n",
       "      <td>0</td>\n",
       "      <td>0</td>\n",
       "      <td>0</td>\n",
       "      <td>0</td>\n",
       "    </tr>\n",
       "  </tbody>\n",
       "</table>\n",
       "<p>2 rows × 50 columns</p>\n",
       "</div>"
      ]
     },
     "metadata": {},
     "execution_count": 30
    }
   ],
   "metadata": {}
  },
  {
   "cell_type": "code",
   "execution_count": 31,
   "source": [
    "X_rules_train.shape"
   ],
   "outputs": [
    {
     "output_type": "execute_result",
     "data": {
      "text/plain": [
       "(8894, 50)"
      ]
     },
     "metadata": {},
     "execution_count": 31
    }
   ],
   "metadata": {}
  },
  {
   "cell_type": "markdown",
   "source": [
    "### Standard filter"
   ],
   "metadata": {}
  },
  {
   "cell_type": "markdown",
   "source": [
    "We can use the `SimpleFilter` class from the `rule_selection` module to filter out rules whose performance is below a desired threshold. In this example, we'll filter out rules with an F1 score below 0.01:"
   ],
   "metadata": {}
  },
  {
   "cell_type": "code",
   "execution_count": 32,
   "source": [
    "fr = SimpleFilter(\n",
    "    threshold=0.01,\n",
    "    operator='>=',\n",
    "    metric=f1.fit,\n",
    ")"
   ],
   "outputs": [],
   "metadata": {}
  },
  {
   "cell_type": "markdown",
   "source": [
    "Now we can run the `fit_transform` method to remove the rules which do not meet the filter requirements:"
   ],
   "metadata": {}
  },
  {
   "cell_type": "code",
   "execution_count": 33,
   "source": [
    "X_rules_train = fr.fit_transform(\n",
    "    X_rules=X_rules_train, \n",
    "    y=y_train\n",
    ")"
   ],
   "outputs": [],
   "metadata": {}
  },
  {
   "cell_type": "markdown",
   "source": [
    "#### Outputs"
   ],
   "metadata": {}
  },
  {
   "cell_type": "markdown",
   "source": [
    "The `fit_transform` method returns a dataframe containing the filtered rule binary columns. See the `Attributes` section in the class docstring for a description of each attribute generated."
   ],
   "metadata": {}
  },
  {
   "cell_type": "code",
   "execution_count": 34,
   "source": [
    "X_rules_train.shape"
   ],
   "outputs": [
    {
     "output_type": "execute_result",
     "data": {
      "text/plain": [
       "(8894, 49)"
      ]
     },
     "metadata": {},
     "execution_count": 34
    }
   ],
   "metadata": {}
  },
  {
   "cell_type": "markdown",
   "source": [
    "### Remove correlated rules"
   ],
   "metadata": {}
  },
  {
   "cell_type": "markdown",
   "source": [
    "We can use the `CorrelatedFilter` class from the `rule_selection` module along with a correlation reduction class to remove correlated rules - see the `correlation_reduction` module for more information on these classes. \n",
    "\n",
    "In this example, we'll be using the `AgglomerativeClusteringReducer` class from that module. To instantiate this class, we also need to define a similarity function - see the `metrics.pairwise` module for more information. In this example, we'll use the Jaccard similarity:"
   ],
   "metadata": {}
  },
  {
   "cell_type": "code",
   "execution_count": 35,
   "source": [
    "js = JaccardSimilarity()"
   ],
   "outputs": [],
   "metadata": {}
  },
  {
   "cell_type": "code",
   "execution_count": 36,
   "source": [
    "acfr = AgglomerativeClusteringReducer(\n",
    "    threshold=0.75,\n",
    "    strategy='bottom_up', \n",
    "    similarity_function=js.fit, \n",
    "    metric=f1.fit\n",
    ")"
   ],
   "outputs": [],
   "metadata": {}
  },
  {
   "cell_type": "markdown",
   "source": [
    "Now we can instantiate the `CorrelatedFilter` class, and run the `fit_transform` method to remove correlated rules:"
   ],
   "metadata": {}
  },
  {
   "cell_type": "code",
   "execution_count": 37,
   "source": [
    "fcr = CorrelatedFilter(correlation_reduction_class=acfr)"
   ],
   "outputs": [],
   "metadata": {}
  },
  {
   "cell_type": "code",
   "execution_count": 38,
   "source": [
    "X_rules_train = fcr.fit_transform(\n",
    "    X_rules=X_rules_train,\n",
    "    y=y_train\n",
    ")"
   ],
   "outputs": [],
   "metadata": {}
  },
  {
   "cell_type": "markdown",
   "source": [
    "#### Outputs"
   ],
   "metadata": {}
  },
  {
   "cell_type": "markdown",
   "source": [
    "The `fit_transform` method returns a dataframe containing the binary columns of the uncorrelated rules. See the `Attributes` section in the class docstring for a description of each attribute generated."
   ],
   "metadata": {}
  },
  {
   "cell_type": "code",
   "execution_count": 39,
   "source": [
    "X_rules_train.shape"
   ],
   "outputs": [
    {
     "output_type": "execute_result",
     "data": {
      "text/plain": [
       "(8894, 35)"
      ]
     },
     "metadata": {},
     "execution_count": 39
    }
   ],
   "metadata": {}
  },
  {
   "cell_type": "markdown",
   "source": [
    "### Greedy filter"
   ],
   "metadata": {}
  },
  {
   "cell_type": "markdown",
   "source": [
    "We can use the `GreedyFilter` class from the `rule_selection` module to sort the rules by a given metric (e.g. precision), then iterate through the rules and calculate the combined performance of the top n number of rules. Here, we'll sort the rules by precision, then calculate the F1 score of the top n combined rules:"
   ],
   "metadata": {}
  },
  {
   "cell_type": "code",
   "execution_count": 40,
   "source": [
    "gf = GreedyFilter(\n",
    "    metric=f1.fit, \n",
    "    sorting_metric=p.fit,\n",
    "    verbose=1\n",
    ")"
   ],
   "outputs": [],
   "metadata": {}
  },
  {
   "cell_type": "code",
   "execution_count": 41,
   "source": [
    "X_rules_train = gf.fit_transform(\n",
    "    X_rules=X_rules_train, \n",
    "    y=y_train\n",
    ")"
   ],
   "outputs": [
    {
     "output_type": "stream",
     "name": "stdout",
     "text": [
      "--- Calculating performance of top n rules ---\n",
      "100%|█████████████████████████████████████████████████████████████████████████████████████████████████████████████████████████████████████████████████████████████████████████████████████████████████████| 35/35 [00:00<00:00, 1897.04it/s]\n"
     ]
    }
   ],
   "metadata": {}
  },
  {
   "cell_type": "markdown",
   "source": [
    "We can also plot the combined performance of the top *n* rules (calculated from running the `fit` method) on the training set using the `plot_top_n_performance_on_train` method:"
   ],
   "metadata": {}
  },
  {
   "cell_type": "code",
   "execution_count": 42,
   "source": [
    "gf.plot_top_n_performance_on_train()"
   ],
   "outputs": [
    {
     "output_type": "display_data",
     "data": {
      "text/plain": [
       "<Figure size 720x360 with 1 Axes>"
      ],
      "image/png": "[encoded data removed]"
     },
     "metadata": {}
    }
   ],
   "metadata": {}
  },
  {
   "cell_type": "markdown",
   "source": [
    "The graph shows that when the rules are sorted by precision, then the F1 score is calculated for the top n combined rules, the combined performance begins to plateau/drop. So the algorithm will only keep those rules that deliver the maximum combined performance (and drop the rest)."
   ],
   "metadata": {}
  },
  {
   "cell_type": "markdown",
   "source": [
    "#### Outputs"
   ],
   "metadata": {}
  },
  {
   "cell_type": "markdown",
   "source": [
    "The `fit_transform` method returns a dataframe containing the filtered rule binary columns. See the `Attributes` section in the class docstring for a description of each attribute generated."
   ],
   "metadata": {}
  },
  {
   "cell_type": "code",
   "execution_count": 43,
   "source": [
    "X_rules_train.shape"
   ],
   "outputs": [
    {
     "output_type": "execute_result",
     "data": {
      "text/plain": [
       "(8894, 21)"
      ]
     },
     "metadata": {},
     "execution_count": 43
    }
   ],
   "metadata": {}
  },
  {
   "cell_type": "markdown",
   "source": [
    "----"
   ],
   "metadata": {}
  },
  {
   "cell_type": "markdown",
   "source": [
    "## Set up the RBS Pipeline <a name=\"SetUpPipeline\"></a>"
   ],
   "metadata": {}
  },
  {
   "cell_type": "markdown",
   "source": [
    "Now, let's set up our RBS Pipeline using our combined, filtered rule set. In this case, we'll go for a simple approach:\n",
    "\n",
    "1. If any rules trigger, reject the transaction.\n",
    "2. If no rules trigger, approve any remaining transactions.\n",
    "\n",
    "To set up the pipeline using the logic above, we first need to create the `config` parameter. This is just a list which outlines the stages of the pipeline. Each stage should be defined using a tuple of two elements: \n",
    "\n",
    "1. The first element should be an integer which corresponds to the decision made at that stage (either `0` or `1`).\n",
    "2. The second element should be a list that dictates which rules should trigger for that decision to be made.\n",
    "\n",
    "In our example, the config will be:"
   ],
   "metadata": {}
  },
  {
   "cell_type": "code",
   "execution_count": 44,
   "source": [
    "config = [\n",
    "    (1, X_rules_train.columns.tolist())\n",
    "]"
   ],
   "outputs": [],
   "metadata": {}
  },
  {
   "cell_type": "markdown",
   "source": [
    "Here, the first stage is configured via the tuple in the first element of the list. This says to apply a decision of `1` (i.e. reject) to transactions where the any of the rules have triggered.\n",
    "\n",
    "We also need to specify the final decision to be made if no rules are triggered - this is set via the `final_decision` parameter. In our case this should be `0`, as we want to approve any remaining transactions:"
   ],
   "metadata": {}
  },
  {
   "cell_type": "code",
   "execution_count": 45,
   "source": [
    "final_decision = 0"
   ],
   "outputs": [],
   "metadata": {}
  },
  {
   "cell_type": "markdown",
   "source": [
    "With these parameters configured, we can now instantiate our `RBSPipeline` class:"
   ],
   "metadata": {}
  },
  {
   "cell_type": "code",
   "execution_count": 46,
   "source": [
    "rbsp = RBSPipeline(\n",
    "    config=config,\n",
    "    final_decision=final_decision\n",
    ")"
   ],
   "outputs": [],
   "metadata": {}
  },
  {
   "cell_type": "markdown",
   "source": [
    "---"
   ],
   "metadata": {}
  },
  {
   "cell_type": "markdown",
   "source": [
    "## Optimise the RBS Pipeline <a name=\"OptimiseThePipeline\"></a>"
   ],
   "metadata": {}
  },
  {
   "cell_type": "markdown",
   "source": [
    "Now that we have our RBS Pipeline set up, we can optimise it using the RBS Optimiser. Here, we just pass the instatiated pipeline class to the `pipeline` parameter:"
   ],
   "metadata": {}
  },
  {
   "cell_type": "code",
   "execution_count": 47,
   "source": [
    "rbso = RBSOptimiser(\n",
    "    pipeline=rbsp, \n",
    "    metric=f1.fit,\n",
    "    n_iter=60, \n",
    "    verbose=1\n",
    ")"
   ],
   "outputs": [],
   "metadata": {}
  },
  {
   "cell_type": "markdown",
   "source": [
    "Then we run the `fit_transform` method to optimise the pipeline using the given dataset, then apply it to the dataset:"
   ],
   "metadata": {}
  },
  {
   "cell_type": "code",
   "execution_count": 48,
   "source": [
    "pipe_pred_train = rbso.fit_predict(\n",
    "    X_rules=X_rules_train, \n",
    "    y=y_train\n",
    ")"
   ],
   "outputs": [
    {
     "output_type": "stream",
     "name": "stdout",
     "text": [
      "100%|████████████████████████████████████████████████████████████████████████████████████████████████████████████████████████████████████████████████████████████████████| 60/60 [00:01<00:00, 33.68trial/s, best loss: -0.9959349593495934]\n"
     ]
    }
   ],
   "metadata": {}
  },
  {
   "cell_type": "markdown",
   "source": [
    "### Outputs"
   ],
   "metadata": {}
  },
  {
   "cell_type": "markdown",
   "source": [
    "The `fit_transform` method optimises the pipeline and returns the prediction of the optimised pipeline by applying it to the given dataset. See the `Attributes` section in the class docstring for a description of each attribute generated."
   ],
   "metadata": {}
  },
  {
   "cell_type": "code",
   "execution_count": 49,
   "source": [
    "rbso.config"
   ],
   "outputs": [
    {
     "output_type": "execute_result",
     "data": {
      "text/plain": [
       "[(1,\n",
       "  ['RGDT_Rule256',\n",
       "   'RGDT_Rule35',\n",
       "   'RGDT_Rule112',\n",
       "   'RGDT_Rule241',\n",
       "   'RGDT_Rule313',\n",
       "   'RGDT_Rule24',\n",
       "   'RGDT_Rule_20211222_24',\n",
       "   'RGDT_Rule137',\n",
       "   'HighFraudTxnPerAccountNum'])]"
      ]
     },
     "metadata": {},
     "execution_count": 49
    }
   ],
   "metadata": {}
  },
  {
   "cell_type": "markdown",
   "source": [
    "We can also use Sklearn's *classification_report* and *confusion_matrix* functions to generate some performance metrics for the pipeline:"
   ],
   "metadata": {}
  },
  {
   "cell_type": "code",
   "execution_count": 50,
   "source": [
    "print(\n",
    "    classification_report(\n",
    "        y_true=y_train, \n",
    "        y_pred=pipe_pred_train, \n",
    "        digits=4\n",
    "    )\n",
    ")"
   ],
   "outputs": [
    {
     "output_type": "stream",
     "name": "stdout",
     "text": [
      "              precision    recall  f1-score   support\n",
      "\n",
      "         0.0     1.0000    0.9998    0.9999      8649\n",
      "         1.0     0.9919    1.0000    0.9959       245\n",
      "\n",
      "    accuracy                         0.9998      8894\n",
      "   macro avg     0.9960    0.9999    0.9979      8894\n",
      "weighted avg     0.9998    0.9998    0.9998      8894\n",
      "\n"
     ]
    }
   ],
   "metadata": {}
  },
  {
   "cell_type": "code",
   "execution_count": 51,
   "source": [
    "sns.set_style('white')"
   ],
   "outputs": [],
   "metadata": {}
  },
  {
   "cell_type": "code",
   "execution_count": 52,
   "source": [
    "cm = ConfusionMatrixDisplay(\n",
    "    confusion_matrix(\n",
    "        y_true=y_train, \n",
    "        y_pred=pipe_pred_train\n",
    "    )\n",
    ")\n",
    "cm.plot()"
   ],
   "outputs": [
    {
     "output_type": "execute_result",
     "data": {
      "text/plain": [
       "<sklearn.metrics._plot.confusion_matrix.ConfusionMatrixDisplay at 0x7fb789269370>"
      ]
     },
     "metadata": {},
     "execution_count": 52
    },
    {
     "output_type": "display_data",
     "data": {
      "text/plain": [
       "<Figure size 432x288 with 2 Axes>"
      ],
      "image/png": "[encoded data removed]"
     },
     "metadata": {}
    }
   ],
   "metadata": {}
  },
  {
   "cell_type": "markdown",
   "source": [
    "----"
   ],
   "metadata": {}
  },
  {
   "cell_type": "markdown",
   "source": [
    "## Filter rules for the optimised RBS Pipeline <a name=\"FilterRulesForPipeline\"></a>"
   ],
   "metadata": {}
  },
  {
   "cell_type": "markdown",
   "source": [
    "Now that we know which rules we need for our final, optimised RBS Pipeline, we can filter our original generated and optimised rule sets to include only those rules which are required."
   ],
   "metadata": {}
  },
  {
   "cell_type": "code",
   "execution_count": 53,
   "source": [
    "rbs_rule_names_gen = [rule for rule in rbso.rules_to_keep if rule in rg.rule_names]\n",
    "rbs_rule_names_opt = [rule for rule in rbso.rules_to_keep if rule in ro.rule_names]"
   ],
   "outputs": [],
   "metadata": {}
  },
  {
   "cell_type": "markdown",
   "source": [
    "Finally, we filter the original generated and optimised rule sets:"
   ],
   "metadata": {}
  },
  {
   "cell_type": "code",
   "execution_count": 55,
   "source": [
    "rg.filter_rules(include=rbs_rule_names_gen)\n",
    "ro.filter_rules(include=rbs_rule_names_opt)"
   ],
   "outputs": [],
   "metadata": {}
  },
  {
   "cell_type": "markdown",
   "source": [
    "----"
   ],
   "metadata": {}
  },
  {
   "cell_type": "markdown",
   "source": [
    "## Apply the optimised RBS Pipeline to the test set <a name=\"ApplyPipeline\"></a>"
   ],
   "metadata": {
    "tags": []
   }
  },
  {
   "cell_type": "markdown",
   "source": [
    "To apply our optimised RBS Pipeline to the test set, we first need to apply our filtered generated and optimised rules to the test set:"
   ],
   "metadata": {}
  },
  {
   "cell_type": "code",
   "execution_count": 57,
   "source": [
    "# Generated rules\n",
    "X_rules_gen_test = rg.transform(X=X_test)\n",
    "# Optimised rules (note we using the raw, unprocessed data here)\n",
    "X_rules_opt_test = ro.transform(X=X.loc[X_test.index])"
   ],
   "outputs": [],
   "metadata": {}
  },
  {
   "cell_type": "markdown",
   "source": [
    "Now we can combine these binary columns into one set:"
   ],
   "metadata": {}
  },
  {
   "cell_type": "code",
   "execution_count": 58,
   "source": [
    "X_rules_test = pd.concat([\n",
    "    X_rules_gen_test, \n",
    "    X_rules_opt_test\n",
    "], axis=1)"
   ],
   "outputs": [],
   "metadata": {}
  },
  {
   "cell_type": "markdown",
   "source": [
    "Then, using these binary columns, apply our optimised RBS Pipeline to the test set, using the `predict` method:"
   ],
   "metadata": {}
  },
  {
   "cell_type": "code",
   "execution_count": 60,
   "source": [
    "opt_pipe_pred_test = rbso.predict(X_rules=X_rules_test)"
   ],
   "outputs": [],
   "metadata": {}
  },
  {
   "cell_type": "markdown",
   "source": [
    "### Outputs"
   ],
   "metadata": {}
  },
  {
   "cell_type": "markdown",
   "source": [
    "The `predict` method returns the prediction of the optimised pipeline by applying it to the given dataset."
   ],
   "metadata": {}
  },
  {
   "cell_type": "markdown",
   "source": [
    "We can also use Sklearn's *classification_report* and *confusion_matrix* functions to generate some performance metrics for the pipeline:"
   ],
   "metadata": {}
  },
  {
   "cell_type": "code",
   "execution_count": 61,
   "source": [
    "print(\n",
    "    classification_report(\n",
    "        y_true=y_test, \n",
    "        y_pred=opt_pipe_pred_test, \n",
    "        digits=4\n",
    "    )\n",
    ")"
   ],
   "outputs": [
    {
     "output_type": "stream",
     "name": "stdout",
     "text": [
      "              precision    recall  f1-score   support\n",
      "\n",
      "         0.0     1.0000    0.9998    0.9999      4268\n",
      "         1.0     0.9913    1.0000    0.9956       114\n",
      "\n",
      "    accuracy                         0.9998      4382\n",
      "   macro avg     0.9957    0.9999    0.9978      4382\n",
      "weighted avg     0.9998    0.9998    0.9998      4382\n",
      "\n"
     ]
    }
   ],
   "metadata": {}
  },
  {
   "cell_type": "code",
   "execution_count": 62,
   "source": [
    "cm = ConfusionMatrixDisplay(\n",
    "    confusion_matrix(\n",
    "        y_true=y_test, \n",
    "        y_pred=opt_pipe_pred_test\n",
    "    )\n",
    ")\n",
    "cm.plot()"
   ],
   "outputs": [
    {
     "output_type": "execute_result",
     "data": {
      "text/plain": [
       "<sklearn.metrics._plot.confusion_matrix.ConfusionMatrixDisplay at 0x7fb78948f790>"
      ]
     },
     "metadata": {},
     "execution_count": 62
    },
    {
     "output_type": "display_data",
     "data": {
      "text/plain": [
       "<Figure size 432x288 with 2 Axes>"
      ],
      "image/png": "[encoded data removed]"
     },
     "metadata": {}
    }
   ],
   "metadata": {}
  },
  {
   "cell_type": "code",
   "execution_count": 63,
   "source": [
    "rbso.config"
   ],
   "outputs": [
    {
     "output_type": "execute_result",
     "data": {
      "text/plain": [
       "[(1,\n",
       "  ['RGDT_Rule256',\n",
       "   'RGDT_Rule35',\n",
       "   'RGDT_Rule112',\n",
       "   'RGDT_Rule241',\n",
       "   'RGDT_Rule313',\n",
       "   'RGDT_Rule24',\n",
       "   'RGDT_Rule_20211222_24',\n",
       "   'RGDT_Rule137',\n",
       "   'HighFraudTxnPerAccountNum'])]"
      ]
     },
     "metadata": {},
     "execution_count": 63
    }
   ],
   "metadata": {}
  },
  {
   "cell_type": "markdown",
   "source": [
    "### Compare to initial RBS pipeline performance"
   ],
   "metadata": {}
  },
  {
   "cell_type": "markdown",
   "source": [
    "If we assume that, for our initial RBS pipeline:\n",
    "\n",
    "* Only the **original, existing rules** were used (since these are likely to be the rules that are currently productionised).\n",
    "* The RBS pipeline was set up in a similar way to our optimised RBS Pipeline (i.e. if any rules trigger, reject the transaction; else, approve the transaction).\n",
    "\n",
    "then we can calculate the performance of the initial RBS Pipeline and compare it to our optimised pipeline.\n",
    "\n",
    "To set up the initial RBS Pipeline, we follow a similar process as before. First, we need the names of the **original, existing rules** that are used to reject transactions:"
   ],
   "metadata": {}
  },
  {
   "cell_type": "code",
   "execution_count": 64,
   "source": [
    "existing_rule_names = list(existing_rules.rule_strings.keys())"
   ],
   "outputs": [],
   "metadata": {}
  },
  {
   "cell_type": "markdown",
   "source": [
    "Then we can create our `config` using these rule names:"
   ],
   "metadata": {}
  },
  {
   "cell_type": "code",
   "execution_count": 65,
   "source": [
    "config = [\n",
    "    (1, existing_rule_names)\n",
    "]"
   ],
   "outputs": [],
   "metadata": {}
  },
  {
   "cell_type": "markdown",
   "source": [
    "Now, we need to apply the original, existing rules to the test set:"
   ],
   "metadata": {}
  },
  {
   "cell_type": "code",
   "execution_count": 66,
   "source": [
    "X_rules_existing_test = existing_rules.transform(X=X.loc[X_test.index])"
   ],
   "outputs": [],
   "metadata": {}
  },
  {
   "cell_type": "markdown",
   "source": [
    "Then instantiate the `RBSPipeline` class using `config` we created above, keeping the other parameters the same:"
   ],
   "metadata": {}
  },
  {
   "cell_type": "code",
   "execution_count": 67,
   "source": [
    "rbsp_initial = RBSPipeline(\n",
    "    config=config,\n",
    "    final_decision=0\n",
    ")"
   ],
   "outputs": [],
   "metadata": {}
  },
  {
   "cell_type": "markdown",
   "source": [
    "Now we can apply the initial RBS pipeline to the test set:"
   ],
   "metadata": {}
  },
  {
   "cell_type": "code",
   "execution_count": 68,
   "source": [
    "init_pipe_pred_test = rbsp_initial.predict(X_rules=X_rules_existing_test)"
   ],
   "outputs": [],
   "metadata": {}
  },
  {
   "cell_type": "markdown",
   "source": [
    "#### Performance comparison"
   ],
   "metadata": {}
  },
  {
   "cell_type": "markdown",
   "source": [
    "Finally, we can compare the performance of the initial RBS Pipeline and the optimised RBS Pipeline:"
   ],
   "metadata": {}
  },
  {
   "cell_type": "code",
   "execution_count": 69,
   "source": [
    "# F1 Score\n",
    "init_pipe_f1 = f1.fit(init_pipe_pred_test, y_test)\n",
    "opt_pipe_f1 = f1.fit(opt_pipe_pred_test, y_test)\n",
    "print(f'The F1 score of the initial RBS Pipeline is: {round(init_pipe_f1, 3)}')\n",
    "print(f'The F1 score of the optimised RBS Pipeline is: {round(opt_pipe_f1, 3)}')\n",
    "print(f'% improvement in F1 score is: {round(100*(opt_pipe_f1-init_pipe_f1)/init_pipe_f1)}%')"
   ],
   "outputs": [
    {
     "output_type": "stream",
     "name": "stdout",
     "text": [
      "The F1 score of the initial RBS Pipeline is: 0.092\n",
      "The F1 score of the optimised RBS Pipeline is: 0.996\n",
      "% improvement in F1 score is: 978%\n"
     ]
    }
   ],
   "metadata": {}
  },
  {
   "cell_type": "code",
   "execution_count": 70,
   "source": [
    "# Get confusion matrices for initial and optimised pipelines\n",
    "initial_conf_matrix = confusion_matrix(y_true=y_test, y_pred=init_pipe_pred_test)\n",
    "opt_conf_matrix = confusion_matrix(y_true=y_test, y_pred=opt_pipe_pred_test)"
   ],
   "outputs": [],
   "metadata": {}
  },
  {
   "cell_type": "code",
   "execution_count": 71,
   "source": [
    "conf_matrix_diff = opt_conf_matrix - initial_conf_matrix"
   ],
   "outputs": [],
   "metadata": {}
  },
  {
   "cell_type": "code",
   "execution_count": 72,
   "source": [
    "print(f'Absolute change in true positives: {conf_matrix_diff[1, 1]}')\n",
    "print(f'Absolute change in false positives: {conf_matrix_diff[0, 1]}')\n",
    "print(f'Absolute change in true negatives: {conf_matrix_diff[0, 0]}')\n",
    "print(f'Absolute change in false negatives: {conf_matrix_diff[1, 0]}')"
   ],
   "outputs": [
    {
     "output_type": "stream",
     "name": "stdout",
     "text": [
      "Absolute change in true positives: 0\n",
      "Absolute change in false positives: -2240\n",
      "Absolute change in true negatives: 2240\n",
      "Absolute change in false negatives: 0\n"
     ]
    }
   ],
   "metadata": {}
  },
  {
   "cell_type": "markdown",
   "source": [
    "---"
   ],
   "metadata": {}
  },
  {
   "cell_type": "markdown",
   "source": [
    "## Convert generated rule conditions to system-ready <a name=\"ConvertGenToSys\"></a>"
   ],
   "metadata": {}
  },
  {
   "cell_type": "markdown",
   "source": [
    "Now that we have our final rule set and our optimised RBS Pipeline, we can convert the conditions of the generated rules to work on raw, unprocessed data (which is usually the type of data seen in a production system) - this involves the following:\n",
    "\n",
    "* Adding a null condition if the generated condition covered imputed null values.\n",
    "* Converting generated conditions with One Hot Encoded features into conditions that flag that specific category.\n",
    "\n",
    "For example:\n",
    "\n",
    "- If a numeric rule condition initially had a threshold such that the imputed null values were included in the condition, the converted condition has an additional condition to check whether the feature is also null. \n",
    "    - E.g. If a rule initially had the logic `(X['num_items']<=1)` (which included the imputed value of 0), then the converted rule logic would be `((X['num_items']<=1)|(X['num_items'].isna()))`, with an additional condition to check for nulls.\n",
    "- If a categorical rule condition checks whether the value is the imputed null category, the converted condition is such that it will explicitly check for null values. \n",
    "    - E.g. If a rule initially had the logic `(X['country_missing']==True)`, then the converted rule logic would be `(X['country'].isna())`, such that it explicitly checks for null values.\n",
    "- For categorical rule conditions, the converted condition is such that it will explicitly check for the category. \n",
    "    - E.g. If a rule initially had the logic `(X['country_US']==False)`, then the converted rule logic would be `(X['country']!='US')`, such that it explicitly checks whether the 'country' column is not equal to the 'US' category.\n",
    "\n",
    "To do this, we can use the `ConvertProcessedConditionsToGeneral` class from the `iguanas.rules` module. Note that we only need to apply this process to the generated rules, since those are the only rules which reference the processed data.\n",
    "\n",
    "Before we can use this class, we need to provide the following:\n",
    "\n",
    "* A dictionary of the value used to impute nulls for each feature in the original, unprocessed dataset.\n",
    "* A dictionary of the category linked to each One Hot Encoded column.\n",
    "\n",
    "To get these dictionaries, we can use the `ReturnMappings` class from the `iguanas.rules` module:"
   ],
   "metadata": {}
  },
  {
   "cell_type": "code",
   "execution_count": 73,
   "source": [
    "rm = ReturnMappings()"
   ],
   "outputs": [],
   "metadata": {}
  },
  {
   "cell_type": "code",
   "execution_count": 74,
   "source": [
    "imputed_values_mapping = rm.return_imputed_values_mapping(\n",
    "    [num_cols, -1], \n",
    "    [cat_cols, 'missing'], \n",
    "    [bool_cols, 'missing']\n",
    ")"
   ],
   "outputs": [],
   "metadata": {}
  },
  {
   "cell_type": "code",
   "execution_count": 75,
   "source": [
    "ohe_categories_mapping = rm.return_ohe_categories_mapping(\n",
    "    pre_ohe_cols=X.columns, \n",
    "    post_ohe_cols=X_train.columns, \n",
    "    pre_ohe_dtypes=X.dtypes\n",
    ")"
   ],
   "outputs": [],
   "metadata": {}
  },
  {
   "cell_type": "markdown",
   "source": [
    "Now that we have our mapping dictionaries for imputed values and one hot encoded values, we can convert the logic of our generated rules to make them production-ready:"
   ],
   "metadata": {}
  },
  {
   "cell_type": "code",
   "execution_count": 76,
   "source": [
    "conv_gen_rules = ConvertProcessedConditionsToGeneral(\n",
    "    imputed_values=imputed_values_mapping, \n",
    "    ohe_categories=ohe_categories_mapping\n",
    ")"
   ],
   "outputs": [],
   "metadata": {}
  },
  {
   "cell_type": "code",
   "execution_count": 78,
   "source": [
    "conv_gen_rule_strings = conv_gen_rules.convert(\n",
    "    rule_strings=rg.rule_strings, \n",
    "    X=X_train\n",
    ")"
   ],
   "outputs": [],
   "metadata": {}
  },
  {
   "cell_type": "markdown",
   "source": [
    "### Outputs"
   ],
   "metadata": {}
  },
  {
   "cell_type": "markdown",
   "source": [
    "The `convert` method returns a dictionary containing the set of rules which account for imputed/OHE variables, defined using the standard Iguanas string format (values) and their names (keys). See the `Attributes` section in the class docstring for a description of each attribute generated."
   ],
   "metadata": {}
  },
  {
   "cell_type": "markdown",
   "source": [
    "---"
   ],
   "metadata": {}
  },
  {
   "cell_type": "markdown",
   "source": [
    "## Our final rule set and RBS Pipeline <a name=\"FinalRuleSet\"></a>"
   ],
   "metadata": {}
  },
  {
   "cell_type": "markdown",
   "source": [
    "We can now (finally!) create the rule set that we'll use in our optimised RBS pipeline. All we need to do is add our generated rules (that were reformatted for raw data) to our optimised rules:"
   ],
   "metadata": {}
  },
  {
   "cell_type": "code",
   "execution_count": 80,
   "source": [
    "rbs_rule_strings = {}\n",
    "rbs_rule_strings.update(conv_gen_rule_strings)\n",
    "rbs_rule_strings.update(ro.rule_strings)"
   ],
   "outputs": [],
   "metadata": {}
  },
  {
   "cell_type": "markdown",
   "source": [
    "Then we can create an instance of the `Rules` class using these rules (we can use this class to change between representations of the rules, if required):"
   ],
   "metadata": {}
  },
  {
   "cell_type": "code",
   "execution_count": 81,
   "source": [
    "rbs_rules = Rules(rule_strings=rbs_rule_strings)"
   ],
   "outputs": [],
   "metadata": {}
  },
  {
   "cell_type": "markdown",
   "source": [
    "**Our final rules (in the standard Iguanas string format):**"
   ],
   "metadata": {}
  },
  {
   "cell_type": "code",
   "execution_count": 82,
   "source": [
    "rbs_rules.rule_strings"
   ],
   "outputs": [
    {
     "output_type": "execute_result",
     "data": {
      "text/plain": [
       "{'RGDT_Rule_20211222_24': \"(X['account_number_num_fraud_transactions_per_account_number_7day']>=1)&(X['account_number_num_order_items_per_account_number_30day']>=6)&(X['account_number_sum_order_total_per_account_number_7day']>1032.375)\",\n",
       " 'RGDT_Rule137': \"((X['account_number_avg_order_total_per_account_number_7day']<=317.69)|(X['account_number_avg_order_total_per_account_number_7day'].isna()))&(X['account_number_num_fraud_transactions_per_account_number_1day']>=1.0)&(X['account_number_num_fraud_transactions_per_account_number_90day']>=1.0)&((X['account_number_sum_order_total_per_account_number_1day']<=782.375)|(X['account_number_sum_order_total_per_account_number_1day'].isna()))\",\n",
       " 'HighFraudTxnPerAccountNum': \"(X['account_number_num_fraud_transactions_per_account_number_1day']>=1.0)\",\n",
       " 'RGDT_Rule256': \"(X['account_number_num_fraud_transactions_per_account_number_1day']>=1.0)&((X['account_number_sum_order_total_per_account_number_90day']<=950.89999)|(X['account_number_sum_order_total_per_account_number_90day'].isna()))&(X['is_billing_shipping_city_same']==False)\",\n",
       " 'RGDT_Rule35': \"(X['account_number_num_fraud_transactions_per_account_number_7day']>=1.0)&(X['account_number_num_fraud_transactions_per_account_number_lifetime']>=1.0)&((X['account_number_num_order_items_per_account_number_lifetime']<=5.0)|(X['account_number_num_order_items_per_account_number_lifetime'].isna()))&(X['is_existing_user']==True)\",\n",
       " 'RGDT_Rule241': \"(X['account_number_avg_order_total_per_account_number_90day']>153.949)&(X['account_number_num_fraud_transactions_per_account_number_1day']>=1.0)&((X['account_number_sum_order_total_per_account_number_1day']<=623.10999)|(X['account_number_sum_order_total_per_account_number_1day'].isna()))&(X['account_number_sum_order_total_per_account_number_30day']>329.12)\",\n",
       " 'RGDT_Rule313': \"(X['account_number_num_fraud_transactions_per_account_number_1day']>=1.0)&(X['account_number_sum_order_total_per_account_number_30day']>957.84998)&(X['account_number_sum_order_total_per_account_number_90day']>622.19)&(X['is_existing_user']==True)\",\n",
       " 'RGDT_Rule112': \"(X['account_number_num_distinct_transaction_per_account_number_90day']>=2)&(X['account_number_num_fraud_transactions_per_account_number_30day']>=2)&(X['account_number_num_fraud_transactions_per_account_number_lifetime']>=0)&((X['account_number_num_order_items_per_account_number_90day']<=7)|(X['account_number_num_order_items_per_account_number_90day'].isna()))\",\n",
       " 'RGDT_Rule24': \"(X['account_number_avg_order_total_per_account_number_90day']>373.3460500280737)&(X['account_number_num_fraud_transactions_per_account_number_lifetime']>=2)&((X['account_number_num_order_items_per_account_number_lifetime']<=11)|(X['account_number_num_order_items_per_account_number_lifetime'].isna()))&((X['account_number_sum_order_total_per_account_number_7day']<=3411.7488220243436)|(X['account_number_sum_order_total_per_account_number_7day'].isna()))\"}"
      ]
     },
     "metadata": {},
     "execution_count": 82
    }
   ],
   "metadata": {}
  },
  {
   "cell_type": "markdown",
   "source": [
    "**Our optimised RBS Pipeline configuration:**"
   ],
   "metadata": {}
  },
  {
   "cell_type": "code",
   "execution_count": 83,
   "source": [
    "rbso.config"
   ],
   "outputs": [
    {
     "output_type": "execute_result",
     "data": {
      "text/plain": [
       "[(1,\n",
       "  ['RGDT_Rule256',\n",
       "   'RGDT_Rule35',\n",
       "   'RGDT_Rule112',\n",
       "   'RGDT_Rule241',\n",
       "   'RGDT_Rule313',\n",
       "   'RGDT_Rule24',\n",
       "   'RGDT_Rule_20211222_24',\n",
       "   'RGDT_Rule137',\n",
       "   'HighFraudTxnPerAccountNum'])]"
      ]
     },
     "metadata": {},
     "execution_count": 83
    }
   ],
   "metadata": {}
  },
  {
   "cell_type": "markdown",
   "source": [
    "---"
   ],
   "metadata": {}
  },
  {
   "cell_type": "markdown",
   "source": [
    "## There's an easier (and better) way! <a name=\"BetterWay\"></a>"
   ],
   "metadata": {}
  },
  {
   "cell_type": "markdown",
   "source": [
    "This example was created to show how the main modules in Iguanas can be applied to a real life use case. However, there are some concerns:\n",
    "\n",
    "* We set the hyperparameters of the classes that preceeded the `RBSOptimiser` without knowing which values would produce the best performance for the optimised `RBSPipeline`.\n",
    "* The process was relatively complex and time consuming to code.\n",
    "\n",
    "This is where the `LinearPipeline` and `BayesSearchCV` classes come in. The `LienarPipleine` allows a user to define a sequence of steps to apply to a dataset. The `BayesSearchCV` then optimises the hyperparameters of each step in the pipeline to produce the best possible RBS performance. \n",
    "\n",
    "See the `bayes_search_cv_example.ipynb` notebook in the `iguanas.rule_selection` module to find out more!"
   ],
   "metadata": {}
  },
  {
   "cell_type": "markdown",
   "source": [
    "---"
   ],
   "metadata": {}
  }
 ],
 "metadata": {
  "interpreter": {
   "hash": "6a5a22224d030f6805b27da964f50b3905be89918ca593f843e32c3b2a80fa84"
  },
  "kernelspec": {
   "display_name": "iguanas_os_dev",
   "language": "python",
   "name": "iguanas_os_dev"
  },
  "language_info": {
   "codemirror_mode": {
    "name": "ipython",
    "version": 3
   },
   "file_extension": ".py",
   "mimetype": "text/x-python",
   "name": "python",
   "nbconvert_exporter": "python",
   "pygments_lexer": "ipython3",
   "version": "3.8.9"
  }
 },
 "nbformat": 4,
 "nbformat_minor": 4
}