{
 "cells": [
  {
   "cell_type": "markdown",
   "source": [
    "# Rules Example"
   ],
   "metadata": {}
  },
  {
   "cell_type": "markdown",
   "source": [
    "The Rules class is used to define a set of rules using one of two representations. Once defined, we can switch between the different representations.\n",
    "\n",
    "A rule set can be defined using one of the two following representations:\n",
    "\n",
    "- Dictionary representation - here each joining condition (defined using the key `condition`) and each rule condition (defined using the keys `feature`, `operator` and `value`) of each rule are defined in a dictionary.\n",
    "- String representation - here each rule is defined using the Pandas syntax, stored as a string. Python's built in `eval()` function can be used to evaluate the rule using this representation on a dataset.\n",
    "\n",
    "We can also convert either of the above representations to the lambda expression format. This format allows different values to be injected into the rule string, which can then be evaluated on a dataset. This is very useful for when we optimise existing rules on a dataset."
   ],
   "metadata": {}
  },
  {
   "cell_type": "markdown",
   "source": [
    "----"
   ],
   "metadata": {}
  },
  {
   "cell_type": "markdown",
   "source": [
    "## Import packages"
   ],
   "metadata": {}
  },
  {
   "cell_type": "code",
   "execution_count": 2,
   "source": [
    "from iguanas.rules import Rules\n",
    "\n",
    "import pandas as pd\n",
    "import numpy as np"
   ],
   "outputs": [],
   "metadata": {}
  },
  {
   "cell_type": "markdown",
   "source": [
    "## Create dummy dataset"
   ],
   "metadata": {}
  },
  {
   "cell_type": "code",
   "execution_count": 3,
   "source": [
    "np.random.seed(0)\n",
    "X = pd.DataFrame(\n",
    "    {\n",
    "        'payer_id_sum_approved_txn_amt_per_paypalid_1day': np.random.uniform(0, 1000, 1000),\n",
    "        'payer_id_sum_approved_txn_amt_per_paypalid_7day': np.random.uniform(0, 7000, 1000),\n",
    "        'payer_id_sum_approved_txn_amt_per_paypalid_30day': np.random.uniform(0, 30000, 1000),\n",
    "        'num_items': np.random.randint(0, 10, 1000),\n",
    "        'ml_cc_v0': np.random.uniform(0, 1, 1000),\n",
    "        'method_clean': ['checkout', 'login', 'bad_login', 'bad_checkout', 'fraud_login', 'fraud_checkout', 'signup', 'bad_signup', 'fraud_signup', np.nan] * 100,\n",
    "        'ip_address': ['192.168.0.1', np.nan] * 500,\n",
    "        'ip_isp': ['BT', np.nan, '', ''] * 250        \n",
    "    }\n",
    ")\n",
    "y = pd.Series(np.random.randint(0, 2, 1000))"
   ],
   "outputs": [],
   "metadata": {}
  },
  {
   "cell_type": "markdown",
   "source": [
    "----"
   ],
   "metadata": {}
  },
  {
   "cell_type": "markdown",
   "source": [
    "## Instantiate Rule class"
   ],
   "metadata": {}
  },
  {
   "cell_type": "markdown",
   "source": [
    "### Using dictionary representation"
   ],
   "metadata": {}
  },
  {
   "cell_type": "markdown",
   "source": [
    "As mentioned above, we can define a rule set using one of the two following representations - Dictionary or String. \n",
    "\n",
    "Let's first define a set of rules using the dictionary representation:"
   ],
   "metadata": {}
  },
  {
   "cell_type": "code",
   "execution_count": 4,
   "source": [
    "rule_dicts = {\n",
    "    'Rule1': {\n",
    "        'condition': 'AND',\n",
    "        'rules': [{\n",
    "            'condition': 'OR',\n",
    "            'rules': [{\n",
    "                'field': 'payer_id_sum_approved_txn_amt_per_paypalid_1day',\n",
    "                'operator': 'greater_or_equal',\n",
    "                'value': 60.0\n",
    "            },\n",
    "                {\n",
    "                'field': 'payer_id_sum_approved_txn_amt_per_paypalid_7day',\n",
    "                'operator': 'greater',\n",
    "                'value': 120.0\n",
    "            },\n",
    "                {\n",
    "                'field': 'payer_id_sum_approved_txn_amt_per_paypalid_30day',\n",
    "                'operator': 'less_or_equal',\n",
    "                'value': 500.0\n",
    "            }\n",
    "            ]},\n",
    "            {\n",
    "                'field': 'num_items',\n",
    "            'operator': 'equal',\n",
    "            'value': 1.0\n",
    "        }\n",
    "        ]},\n",
    "    'Rule2': {\n",
    "        'condition': 'AND',\n",
    "        'rules': [{\n",
    "            'field': 'ml_cc_v0',\n",
    "            'operator': 'less',\n",
    "            'value': 0.315\n",
    "        },\n",
    "            {\n",
    "                'condition': 'OR',\n",
    "                'rules': [{\n",
    "                    'field': 'method_clean',\n",
    "                    'operator': 'equal',\n",
    "                    'value': 'checkout'\n",
    "                },\n",
    "                    {\n",
    "                    'field': 'method_clean',\n",
    "                    'operator': 'begins_with',\n",
    "                    'value': 'checkout'\n",
    "                },\n",
    "                    {\n",
    "                    'field': 'method_clean',\n",
    "                    'operator': 'ends_with',\n",
    "                    'value': 'checkout'\n",
    "                },\n",
    "                    {\n",
    "                    'field': 'method_clean',\n",
    "                    'operator': 'contains',\n",
    "                    'value': 'checkout'\n",
    "                },\n",
    "                    {\n",
    "                    'field': 'ip_address',\n",
    "                    'operator': 'is_not_null',\n",
    "                    'value': None\n",
    "                },\n",
    "                    {\n",
    "                    'field': 'ip_isp',\n",
    "                    'operator': 'is_not_empty',\n",
    "                    'value': None\n",
    "                }]\n",
    "        }]\n",
    "    }\n",
    "}"
   ],
   "outputs": [],
   "metadata": {}
  },
  {
   "cell_type": "markdown",
   "source": [
    "Now that we have defined our rule set using the dictionary representation, we can instantiate the `Rules` class."
   ],
   "metadata": {}
  },
  {
   "cell_type": "code",
   "execution_count": 5,
   "source": [
    "rules = Rules(rule_dicts=rule_dicts)"
   ],
   "outputs": [],
   "metadata": {}
  },
  {
   "cell_type": "markdown",
   "source": [
    "Once the class is instantiated, we can switch to the string representation using the `as_rule_strings` method:"
   ],
   "metadata": {}
  },
  {
   "cell_type": "code",
   "execution_count": 6,
   "source": [
    "rule_strings = rules.as_rule_strings(as_numpy=False)"
   ],
   "outputs": [],
   "metadata": {}
  },
  {
   "cell_type": "markdown",
   "source": [
    "#### Outputs"
   ],
   "metadata": {}
  },
  {
   "cell_type": "markdown",
   "source": [
    "The `as_rule_strings` method returns a dictionary of the set of rules defined using the standard Iguanas string format (values) and their names (keys). It also saves this dictionary as the class attribute `rule_strings`."
   ],
   "metadata": {}
  },
  {
   "cell_type": "code",
   "execution_count": 7,
   "source": [
    "rule_strings"
   ],
   "outputs": [
    {
     "output_type": "execute_result",
     "data": {
      "text/plain": [
       "{'Rule1': \"((X['payer_id_sum_approved_txn_amt_per_paypalid_1day']>=60.0)|(X['payer_id_sum_approved_txn_amt_per_paypalid_7day']>120.0)|(X['payer_id_sum_approved_txn_amt_per_paypalid_30day']<=500.0))&(X['num_items']==1.0)\",\n",
       " 'Rule2': \"(X['ml_cc_v0']<0.315)&((X['method_clean']=='checkout')|(X['method_clean'].str.startswith('checkout', na=False))|(X['method_clean'].str.endswith('checkout', na=False))|(X['method_clean'].str.contains('checkout', na=False, regex=False))|(~X['ip_address'].isna())|(X['ip_isp'].fillna('')!=''))\"}"
      ]
     },
     "metadata": {},
     "execution_count": 7
    }
   ],
   "metadata": {}
  },
  {
   "cell_type": "markdown",
   "source": [
    "### Using string representation"
   ],
   "metadata": {}
  },
  {
   "cell_type": "markdown",
   "source": [
    "Now let's instead define the same set of rules using the string representation:"
   ],
   "metadata": {}
  },
  {
   "cell_type": "code",
   "execution_count": 8,
   "source": [
    "rule_strings = {\n",
    "    'Rule1': \"((X['payer_id_sum_approved_txn_amt_per_paypalid_1day']>=60.0)|(X['payer_id_sum_approved_txn_amt_per_paypalid_7day']>120.0)|(X['payer_id_sum_approved_txn_amt_per_paypalid_30day']<=500.0))&(X['num_items']==1.0)\",\n",
    "    'Rule2': \"(X['ml_cc_v0']<0.315)&((X['method_clean']=='checkout')|(X['method_clean'].str.startswith('checkout', na=False))|(X['method_clean'].str.endswith('checkout', na=False))|(X['method_clean'].str.contains('checkout', na=False))|(~X['ip_address'].isna())|(X['ip_isp'].fillna('')!=''))\"\n",
    "}"
   ],
   "outputs": [],
   "metadata": {}
  },
  {
   "cell_type": "markdown",
   "source": [
    "Now that we have defined our rule set using the string representation, we can instantiate the `Rules` class."
   ],
   "metadata": {}
  },
  {
   "cell_type": "code",
   "execution_count": 9,
   "source": [
    "rules = Rules(rule_strings=rule_strings)"
   ],
   "outputs": [],
   "metadata": {}
  },
  {
   "cell_type": "markdown",
   "source": [
    "Once the class is instantiated, we can switch to the dictionary representation using the `as_rule_dicts` method:"
   ],
   "metadata": {}
  },
  {
   "cell_type": "code",
   "execution_count": 10,
   "source": [
    "rule_dicts = rules.as_rule_dicts()"
   ],
   "outputs": [],
   "metadata": {}
  },
  {
   "cell_type": "markdown",
   "source": [
    "#### Outputs"
   ],
   "metadata": {}
  },
  {
   "cell_type": "markdown",
   "source": [
    "The `as_rule_dicts` method returns a dictionary of the set of rules defined using the standard Iguanas dictionary format (values) and their names (keys). It also saves this dictionary as the class attribute `rule_dicts`."
   ],
   "metadata": {}
  },
  {
   "cell_type": "code",
   "execution_count": 11,
   "source": [
    "rule_dicts"
   ],
   "outputs": [
    {
     "output_type": "execute_result",
     "data": {
      "text/plain": [
       "{'Rule1': {'condition': 'AND',\n",
       "  'rules': [{'condition': 'OR',\n",
       "    'rules': [{'field': 'payer_id_sum_approved_txn_amt_per_paypalid_1day',\n",
       "      'operator': 'greater_or_equal',\n",
       "      'value': 60.0},\n",
       "     {'field': 'payer_id_sum_approved_txn_amt_per_paypalid_7day',\n",
       "      'operator': 'greater',\n",
       "      'value': 120.0},\n",
       "     {'field': 'payer_id_sum_approved_txn_amt_per_paypalid_30day',\n",
       "      'operator': 'less_or_equal',\n",
       "      'value': 500.0}]},\n",
       "   {'field': 'num_items', 'operator': 'equal', 'value': 1.0}]},\n",
       " 'Rule2': {'condition': 'AND',\n",
       "  'rules': [{'field': 'ml_cc_v0', 'operator': 'less', 'value': 0.315},\n",
       "   {'condition': 'OR',\n",
       "    'rules': [{'field': 'method_clean',\n",
       "      'operator': 'equal',\n",
       "      'value': 'checkout'},\n",
       "     {'field': 'method_clean', 'operator': 'begins_with', 'value': 'checkout'},\n",
       "     {'field': 'method_clean', 'operator': 'ends_with', 'value': 'checkout'},\n",
       "     {'field': 'method_clean', 'operator': 'contains', 'value': 'checkout'},\n",
       "     {'field': 'ip_address', 'operator': 'is_not_null', 'value': None},\n",
       "     {'field': 'ip_isp', 'operator': 'is_not_empty', 'value': None}]}]}}"
      ]
     },
     "metadata": {},
     "execution_count": 11
    }
   ],
   "metadata": {}
  },
  {
   "cell_type": "markdown",
   "source": [
    "----"
   ],
   "metadata": {}
  },
  {
   "cell_type": "markdown",
   "source": [
    "## Converting to lambda expressions"
   ],
   "metadata": {}
  },
  {
   "cell_type": "markdown",
   "source": [
    "Once a rule set has been defined using one of the two representations, it can be converted to the lambda expression format. This format allows different values to be injected into the rule string, which can then be evaluated on a dataset. This is very useful for when we optimise existing rules on a dataset."
   ],
   "metadata": {}
  },
  {
   "cell_type": "markdown",
   "source": [
    "We can use the above instantiated Rules class along with the `as_rule_lambdas` method to convert the rules to the lambda expression format. The lambda expressions can be created such that they receive either keyword arguments as inputs, or positional arguments as inputs."
   ],
   "metadata": {}
  },
  {
   "cell_type": "markdown",
   "source": [
    "### with_kwargs = True"
   ],
   "metadata": {}
  },
  {
   "cell_type": "markdown",
   "source": [
    "Let's first convert the rule set to lambda expressions that receive keyword arguments as inputs:"
   ],
   "metadata": {}
  },
  {
   "cell_type": "code",
   "execution_count": 12,
   "source": [
    "rule_lambdas = rules.as_rule_lambdas(\n",
    "    as_numpy=False, \n",
    "    with_kwargs=True\n",
    ")"
   ],
   "outputs": [],
   "metadata": {}
  },
  {
   "cell_type": "markdown",
   "source": [
    "#### Outputs"
   ],
   "metadata": {}
  },
  {
   "cell_type": "markdown",
   "source": [
    "The `as_rule_lambdas` method returns a dictionary of the set of rules defined using the standard Iguanas lambda expression format (values) and their names (keys). It also saves this dictionary as the class attribute `rule_lambdas`.\n",
    "\n",
    "Three useful attributes created by running the `as_rule_lambdas` method are:\n",
    "\n",
    "- `lambda_kwargs` (dict): For each rule (keys), a dictionary containing the features used in the rule (keys) and the current values (values). Only populates when `as_rule_lambdas` is used with the keyword argument `with_kwargs`=True.\n",
    "- `lambda_args` (dict): For each rule (keys), a list containing the current values used in the rule. Only populates when `as_rule_lambdas` is used with the keyword argument `with_kwargs`=False.\n",
    "- `rule_features` (dict): For each rule (keys), a list containing the features used in the rule. Only populates when `as_rule_lambdas` is used with the keyword argument `with_kwargs`=False."
   ],
   "metadata": {}
  },
  {
   "cell_type": "code",
   "execution_count": 13,
   "source": [
    "rule_lambdas"
   ],
   "outputs": [
    {
     "output_type": "execute_result",
     "data": {
      "text/plain": [
       "{'Rule1': <function iguanas.rules._convert_rule_dicts_to_rule_strings._ConvertRuleDictsToRuleStrings._convert_to_lambda.<locals>._make_lambda.<locals>.<lambda>(**kwargs)>,\n",
       " 'Rule2': <function iguanas.rules._convert_rule_dicts_to_rule_strings._ConvertRuleDictsToRuleStrings._convert_to_lambda.<locals>._make_lambda.<locals>.<lambda>(**kwargs)>}"
      ]
     },
     "metadata": {},
     "execution_count": 13
    }
   ],
   "metadata": {}
  },
  {
   "cell_type": "code",
   "execution_count": 14,
   "source": [
    "rules.lambda_kwargs"
   ],
   "outputs": [
    {
     "output_type": "execute_result",
     "data": {
      "text/plain": [
       "{'Rule1': {'payer_id_sum_approved_txn_amt_per_paypalid_1day': 60.0,\n",
       "  'payer_id_sum_approved_txn_amt_per_paypalid_7day': 120.0,\n",
       "  'payer_id_sum_approved_txn_amt_per_paypalid_30day': 500.0,\n",
       "  'num_items': 1.0},\n",
       " 'Rule2': {'ml_cc_v0': 0.315}}"
      ]
     },
     "metadata": {},
     "execution_count": 14
    }
   ],
   "metadata": {}
  },
  {
   "cell_type": "markdown",
   "source": [
    "Across both rules, we have the following features: \n",
    "\n",
    "* payer_id_sum_approved_txn_amt_per_paypalid_1day\n",
    "* payer_id_sum_approved_txn_amt_per_paypalid_7day\n",
    "* payer_id_sum_approved_txn_amt_per_paypalid_30day\n",
    "* num_items\n",
    "* ml_cc_v0\n",
    "* method_clean \n",
    "* ip_address\n",
    "* ip_isp\n",
    "\n",
    "**A few points to note:**\n",
    "\n",
    "- When the same feature is used more than once in a given rule, a suffix with the format '%\\<n\\>' will be added, where *n* is a counter used to distinguish the conditions.\n",
    "- The values of some of these features cannot be changed, since the conditions related to these features do not have values - 'ip_address' is checked for nulls and 'ip_isp' is checked for empty cells. These are omitted from the `lambda_kwargs` class attribute (as seen above).\n",
    "\n",
    "So we can construct a dictionary for each rule, for the features whose values can be changed. The keys of each dictionary are the features, with the values being the new values that we want to try in the rule:"
   ],
   "metadata": {}
  },
  {
   "cell_type": "code",
   "execution_count": 15,
   "source": [
    "new_values = {\n",
    "    'Rule1': {\n",
    "        'payer_id_sum_approved_txn_amt_per_paypalid_1day': 100.0,\n",
    "        'payer_id_sum_approved_txn_amt_per_paypalid_7day': 200.0,\n",
    "        'payer_id_sum_approved_txn_amt_per_paypalid_30day': 600.0,     \n",
    "        'num_items': 2.0\n",
    "    },\n",
    "    'Rule2': {\n",
    "        'ml_cc_v0': 0.5,\n",
    "        'method_clean': 'login',\n",
    "        'method_clean%0': 'bad_',\n",
    "        'method_clean%1': '_bad',\n",
    "        'method_clean%2': 'fraud'\n",
    "    }\n",
    "}"
   ],
   "outputs": [],
   "metadata": {}
  },
  {
   "cell_type": "markdown",
   "source": [
    "Then we can loop through the rules, inject the new values into the lambda expression and evaluate it (with the new values) on the dataset:"
   ],
   "metadata": {}
  },
  {
   "cell_type": "code",
   "execution_count": 16,
   "source": [
    "X_rules = {}\n",
    "for rule_name, rule_lambda in rules.rule_lambdas.items():\n",
    "    new_values_for_rule = new_values[rule_name]\n",
    "    X_rules[rule_name] = eval(rule_lambda(**new_values_for_rule))\n",
    "X_rules = pd.DataFrame(X_rules, index=X.index)"
   ],
   "outputs": [],
   "metadata": {}
  },
  {
   "cell_type": "code",
   "execution_count": 17,
   "source": [
    "X_rules.sum()"
   ],
   "outputs": [
    {
     "output_type": "execute_result",
     "data": {
      "text/plain": [
       "Rule1     99\n",
       "Rule2    352\n",
       "dtype: int64"
      ]
     },
     "metadata": {},
     "execution_count": 17
    }
   ],
   "metadata": {}
  },
  {
   "cell_type": "markdown",
   "source": [
    "We can also use the `lambda_kwargs` class attribute to inject the original values into the lambda expression and evaluate it on the dataset:"
   ],
   "metadata": {}
  },
  {
   "cell_type": "code",
   "execution_count": 18,
   "source": [
    "X_rules = {}\n",
    "for rule_name, rule_lambda in rules.rule_lambdas.items():\n",
    "    X_rules[rule_name] = eval(rule_lambda(**rules.lambda_kwargs[rule_name]))\n",
    "X_rules = pd.DataFrame(X_rules, index=X.index)"
   ],
   "outputs": [],
   "metadata": {}
  },
  {
   "cell_type": "code",
   "execution_count": 19,
   "source": [
    "X_rules.sum()"
   ],
   "outputs": [
    {
     "output_type": "execute_result",
     "data": {
      "text/plain": [
       "Rule1     96\n",
       "Rule2    233\n",
       "dtype: int64"
      ]
     },
     "metadata": {},
     "execution_count": 19
    }
   ],
   "metadata": {}
  },
  {
   "cell_type": "markdown",
   "source": [
    "### with_kwargs = False"
   ],
   "metadata": {}
  },
  {
   "cell_type": "markdown",
   "source": [
    "Now let's convert the rule set to lambda expressions that receive positions arguments as inputs:"
   ],
   "metadata": {}
  },
  {
   "cell_type": "code",
   "execution_count": 20,
   "source": [
    "rule_lambdas = rules.as_rule_lambdas(\n",
    "    as_numpy=False, \n",
    "    with_kwargs=False\n",
    ")"
   ],
   "outputs": [],
   "metadata": {}
  },
  {
   "cell_type": "markdown",
   "source": [
    "#### Outputs"
   ],
   "metadata": {}
  },
  {
   "cell_type": "markdown",
   "source": [
    "The `as_rule_lambdas` method returns a dictionary of the set of rules defined using the standard Iguanas lambda expression format (values) and their names (keys). It also saves this dictionary as the class attribute *rule_lambdas*.\n",
    "\n",
    "Three useful attributes created by running the `as_rule_lambdas` method are:\n",
    "\n",
    "- `lambda_kwargs` (dict): For each rule (keys), a dictionary containing the features used in the rule (keys) and the current values (values). Only populates when `as_rule_lambdas` is used with the keyword argument `with_kwargs`=True.\n",
    "- `lambda_args` (dict): For each rule (keys), a list containing the current values used in the rule. Only populates when `as_rule_lambdas` is used with the keyword argument `with_kwargs`=False.\n",
    "- `rule_features` (dict): For each rule (keys), a list containing the features used in the rule. Only populates when `as_rule_lambdas` is used with the keyword argument `with_kwargs`=False."
   ],
   "metadata": {}
  },
  {
   "cell_type": "code",
   "execution_count": 21,
   "source": [
    "rule_lambdas"
   ],
   "outputs": [
    {
     "output_type": "execute_result",
     "data": {
      "text/plain": [
       "{'Rule1': <function iguanas.rules._convert_rule_dicts_to_rule_strings._ConvertRuleDictsToRuleStrings._convert_to_lambda.<locals>._make_lambda.<locals>.<lambda>(*args)>,\n",
       " 'Rule2': <function iguanas.rules._convert_rule_dicts_to_rule_strings._ConvertRuleDictsToRuleStrings._convert_to_lambda.<locals>._make_lambda.<locals>.<lambda>(*args)>}"
      ]
     },
     "metadata": {},
     "execution_count": 21
    }
   ],
   "metadata": {}
  },
  {
   "cell_type": "code",
   "execution_count": 22,
   "source": [
    "rules.lambda_args"
   ],
   "outputs": [
    {
     "output_type": "execute_result",
     "data": {
      "text/plain": [
       "{'Rule1': [60.0, 120.0, 500.0, 1.0], 'Rule2': [0.315]}"
      ]
     },
     "metadata": {},
     "execution_count": 22
    }
   ],
   "metadata": {}
  },
  {
   "cell_type": "code",
   "execution_count": 23,
   "source": [
    "rules.rule_features"
   ],
   "outputs": [
    {
     "output_type": "execute_result",
     "data": {
      "text/plain": [
       "{'Rule1': ['payer_id_sum_approved_txn_amt_per_paypalid_1day',\n",
       "  'payer_id_sum_approved_txn_amt_per_paypalid_7day',\n",
       "  'payer_id_sum_approved_txn_amt_per_paypalid_30day',\n",
       "  'num_items'],\n",
       " 'Rule2': ['ml_cc_v0']}"
      ]
     },
     "metadata": {},
     "execution_count": 23
    }
   ],
   "metadata": {}
  },
  {
   "cell_type": "markdown",
   "source": [
    "Across both rules, we have the following features: \n",
    "\n",
    "* payer_id_sum_approved_txn_amt_per_paypalid_1day\n",
    "* payer_id_sum_approved_txn_amt_per_paypalid_7day\n",
    "* payer_id_sum_approved_txn_amt_per_paypalid_30day \n",
    "* num_items\n",
    "* ml_cc_v0\n",
    "* method_clean\n",
    "* ip_address\n",
    "* ip_isp\n",
    "\n",
    "**Note:** the values of some of these features cannot be changed, since the conditions related to these features do not have values - 'ip_address' is checked for nulls and 'ip_isp' is checked for empty cells. These are omitted from the `lambda_args` class attribute (as seen above).\n",
    "\n",
    "So we can construct a list for each rule, for the features whose values can be changed. The values of the list are new values that we want to try in the rules. We can use the `rule_features` class attribute to ensure we use the correct order:"
   ],
   "metadata": {}
  },
  {
   "cell_type": "code",
   "execution_count": 24,
   "source": [
    "new_values = {\n",
    "    'Rule1': [100.0, 200.0, 600.0, 2.0],\n",
    "    'Rule2': [0.5, 'login', 'bad_', '_bad', 'fraud']\n",
    "}"
   ],
   "outputs": [],
   "metadata": {}
  },
  {
   "cell_type": "markdown",
   "source": [
    "Then we can loop through the rules, inject the new values into the lambda expression and evaluate it (with the new values) on the dataset:"
   ],
   "metadata": {}
  },
  {
   "cell_type": "code",
   "execution_count": 25,
   "source": [
    "X_rules = {}\n",
    "for rule_name, rule_lambda in rules.rule_lambdas.items():\n",
    "    new_values_for_rule = new_values[rule_name]\n",
    "    X_rules[rule_name] = eval(rule_lambda(*new_values_for_rule))\n",
    "X_rules = pd.DataFrame(X_rules, index=X.index)"
   ],
   "outputs": [],
   "metadata": {}
  },
  {
   "cell_type": "code",
   "execution_count": 26,
   "source": [
    "X_rules.sum()"
   ],
   "outputs": [
    {
     "output_type": "execute_result",
     "data": {
      "text/plain": [
       "Rule1     99\n",
       "Rule2    352\n",
       "dtype: int64"
      ]
     },
     "metadata": {},
     "execution_count": 26
    }
   ],
   "metadata": {}
  },
  {
   "cell_type": "markdown",
   "source": [
    "We can also use the `lambda_args` class attribute to inject the original values into the lambda expression and evaluate it on the dataset:"
   ],
   "metadata": {}
  },
  {
   "cell_type": "code",
   "execution_count": 27,
   "source": [
    "X_rules = {}\n",
    "for rule_name, rule_lambda in rules.rule_lambdas.items():\n",
    "    X_rules[rule_name] = eval(rule_lambda(*rules.lambda_args[rule_name]))\n",
    "X_rules = pd.DataFrame(X_rules, index=X.index)"
   ],
   "outputs": [],
   "metadata": {}
  },
  {
   "cell_type": "code",
   "execution_count": 28,
   "source": [
    "X_rules.sum()"
   ],
   "outputs": [
    {
     "output_type": "execute_result",
     "data": {
      "text/plain": [
       "Rule1     96\n",
       "Rule2    233\n",
       "dtype: int64"
      ]
     },
     "metadata": {},
     "execution_count": 28
    }
   ],
   "metadata": {}
  },
  {
   "cell_type": "markdown",
   "source": [
    "----"
   ],
   "metadata": {}
  },
  {
   "cell_type": "markdown",
   "source": [
    "## Filtering rules"
   ],
   "metadata": {}
  },
  {
   "cell_type": "markdown",
   "source": [
    "We can use the `filter_rules` method to filter a ruleset based on their names. Let's say we define the following rule set, which consists of three rules:"
   ],
   "metadata": {}
  },
  {
   "cell_type": "code",
   "execution_count": 29,
   "source": [
    "rule_strings = {\n",
    "    'Rule1': \"(X['payer_id_sum_approved_txn_amt_per_paypalid_1day']>=60.0)\",\n",
    "    'Rule2': \"(X['payer_id_sum_approved_txn_amt_per_paypalid_7day']>120.0)\",\n",
    "    'Rule3': \"(X['payer_id_sum_approved_txn_amt_per_paypalid_30day']<=500.0)\"\n",
    "}"
   ],
   "outputs": [],
   "metadata": {}
  },
  {
   "cell_type": "code",
   "execution_count": 30,
   "source": [
    "rules = Rules(rule_strings=rule_strings)"
   ],
   "outputs": [],
   "metadata": {}
  },
  {
   "cell_type": "code",
   "execution_count": 31,
   "source": [
    "rules.rule_strings"
   ],
   "outputs": [
    {
     "output_type": "execute_result",
     "data": {
      "text/plain": [
       "{'Rule1': \"(X['payer_id_sum_approved_txn_amt_per_paypalid_1day']>=60.0)\",\n",
       " 'Rule2': \"(X['payer_id_sum_approved_txn_amt_per_paypalid_7day']>120.0)\",\n",
       " 'Rule3': \"(X['payer_id_sum_approved_txn_amt_per_paypalid_30day']<=500.0)\"}"
      ]
     },
     "metadata": {},
     "execution_count": 31
    }
   ],
   "metadata": {}
  },
  {
   "cell_type": "markdown",
   "source": [
    "Now we can filter the rule set to include or exclude those rules stated:"
   ],
   "metadata": {}
  },
  {
   "cell_type": "code",
   "execution_count": 32,
   "source": [
    "rules.filter_rules(\n",
    "    include=['Rule1'], \n",
    "    exclude=None\n",
    ")"
   ],
   "outputs": [],
   "metadata": {}
  },
  {
   "cell_type": "markdown",
   "source": [
    "### Outputs"
   ],
   "metadata": {}
  },
  {
   "cell_type": "markdown",
   "source": [
    "The `filter_rules` method does not return a value, however it does filter the rules within the class, based on the rules that were included or excluded:"
   ],
   "metadata": {}
  },
  {
   "cell_type": "code",
   "execution_count": 33,
   "source": [
    "rules.rule_strings"
   ],
   "outputs": [
    {
     "output_type": "execute_result",
     "data": {
      "text/plain": [
       "{'Rule1': \"(X['payer_id_sum_approved_txn_amt_per_paypalid_1day']>=60.0)\"}"
      ]
     },
     "metadata": {},
     "execution_count": 33
    }
   ],
   "metadata": {}
  },
  {
   "cell_type": "markdown",
   "source": [
    "---"
   ],
   "metadata": {}
  },
  {
   "cell_type": "markdown",
   "source": [
    "## Returning the features in each rule"
   ],
   "metadata": {}
  },
  {
   "cell_type": "markdown",
   "source": [
    "We can use the `get_rule_features` method to return the unique set of features related to each rule. Let's say we define the following rule set, which consists of three rules:"
   ],
   "metadata": {}
  },
  {
   "cell_type": "code",
   "execution_count": 34,
   "source": [
    "rule_strings = {\n",
    "    'Rule1': \"(X['payer_id_sum_approved_txn_amt_per_paypalid_1day']>=60.0)&(X['payer_id_sum_approved_txn_amt_per_paypalid_7day']>120.0)\",\n",
    "    'Rule2': \"(X['num_order_items']>20)|((X['payer_id_sum_approved_txn_amt_per_paypalid_7day']<100.0)&(X['num_order_items']>10))\",\n",
    "    'Rule3': \"(X['payer_id_sum_approved_txn_amt_per_paypalid_30day']<=500.0)\"\n",
    "}"
   ],
   "outputs": [],
   "metadata": {}
  },
  {
   "cell_type": "code",
   "execution_count": 35,
   "source": [
    "rules = Rules(rule_strings=rule_strings)"
   ],
   "outputs": [],
   "metadata": {}
  },
  {
   "cell_type": "markdown",
   "source": [
    "Now we can return the unique set of features related to each rule:"
   ],
   "metadata": {}
  },
  {
   "cell_type": "code",
   "execution_count": 36,
   "source": [
    "rule_features = rules.get_rule_features()"
   ],
   "outputs": [],
   "metadata": {}
  },
  {
   "cell_type": "markdown",
   "source": [
    "### Outputs"
   ],
   "metadata": {}
  },
  {
   "cell_type": "markdown",
   "source": [
    "The `get_rule_features` method return a dictionary of the unique set of features (values) related to each rule (keys):"
   ],
   "metadata": {}
  },
  {
   "cell_type": "code",
   "execution_count": 37,
   "source": [
    "rule_features"
   ],
   "outputs": [
    {
     "output_type": "execute_result",
     "data": {
      "text/plain": [
       "{'Rule1': {'payer_id_sum_approved_txn_amt_per_paypalid_1day',\n",
       "  'payer_id_sum_approved_txn_amt_per_paypalid_7day'},\n",
       " 'Rule2': {'num_order_items',\n",
       "  'payer_id_sum_approved_txn_amt_per_paypalid_7day'},\n",
       " 'Rule3': {'payer_id_sum_approved_txn_amt_per_paypalid_30day'}}"
      ]
     },
     "metadata": {},
     "execution_count": 37
    }
   ],
   "metadata": {}
  },
  {
   "cell_type": "markdown",
   "source": [
    "---"
   ],
   "metadata": {}
  },
  {
   "cell_type": "markdown",
   "source": [
    "## Applying rules to a dataset"
   ],
   "metadata": {}
  },
  {
   "cell_type": "markdown",
   "source": [
    "Use the `transform` method to apply the rules to a dataset:"
   ],
   "metadata": {}
  },
  {
   "cell_type": "code",
   "execution_count": 38,
   "source": [
    "rule_strings = {\n",
    "    'Rule1': \"(X['payer_id_sum_approved_txn_amt_per_paypalid_1day']>=60.0)&(X['payer_id_sum_approved_txn_amt_per_paypalid_7day']>120.0)\",\n",
    "    'Rule2': \"(X['num_items']>20)|((X['payer_id_sum_approved_txn_amt_per_paypalid_7day']<100.0)&(X['num_items']>10))\",\n",
    "    'Rule3': \"(X['payer_id_sum_approved_txn_amt_per_paypalid_30day']<=500.0)\"\n",
    "}"
   ],
   "outputs": [],
   "metadata": {}
  },
  {
   "cell_type": "code",
   "execution_count": 40,
   "source": [
    "rules = Rules(rule_strings=rule_strings)"
   ],
   "outputs": [],
   "metadata": {}
  },
  {
   "cell_type": "code",
   "execution_count": 42,
   "source": [
    "X_rules = rules.transform(X=X)"
   ],
   "outputs": [],
   "metadata": {}
  },
  {
   "cell_type": "markdown",
   "source": [
    "### Outputs"
   ],
   "metadata": {}
  },
  {
   "cell_type": "markdown",
   "source": [
    "The `transform` method returns a dataframe giving the binary columns of the rules as applied to the given dataset:"
   ],
   "metadata": {}
  },
  {
   "cell_type": "code",
   "execution_count": 43,
   "source": [
    "X_rules.head()"
   ],
   "outputs": [
    {
     "output_type": "execute_result",
     "data": {
      "text/plain": [
       "   Rule1  Rule2  Rule3\n",
       "0      1      0      0\n",
       "1      0      0      0\n",
       "2      1      0      0\n",
       "3      1      0      0\n",
       "4      1      0      0"
      ],
      "text/html": [
       "<div>\n",
       "<style scoped>\n",
       "    .dataframe tbody tr th:only-of-type {\n",
       "        vertical-align: middle;\n",
       "    }\n",
       "\n",
       "    .dataframe tbody tr th {\n",
       "        vertical-align: top;\n",
       "    }\n",
       "\n",
       "    .dataframe thead th {\n",
       "        text-align: right;\n",
       "    }\n",
       "</style>\n",
       "<table border=\"1\" class=\"dataframe\">\n",
       "  <thead>\n",
       "    <tr style=\"text-align: right;\">\n",
       "      <th></th>\n",
       "      <th>Rule1</th>\n",
       "      <th>Rule2</th>\n",
       "      <th>Rule3</th>\n",
       "    </tr>\n",
       "  </thead>\n",
       "  <tbody>\n",
       "    <tr>\n",
       "      <th>0</th>\n",
       "      <td>1</td>\n",
       "      <td>0</td>\n",
       "      <td>0</td>\n",
       "    </tr>\n",
       "    <tr>\n",
       "      <th>1</th>\n",
       "      <td>0</td>\n",
       "      <td>0</td>\n",
       "      <td>0</td>\n",
       "    </tr>\n",
       "    <tr>\n",
       "      <th>2</th>\n",
       "      <td>1</td>\n",
       "      <td>0</td>\n",
       "      <td>0</td>\n",
       "    </tr>\n",
       "    <tr>\n",
       "      <th>3</th>\n",
       "      <td>1</td>\n",
       "      <td>0</td>\n",
       "      <td>0</td>\n",
       "    </tr>\n",
       "    <tr>\n",
       "      <th>4</th>\n",
       "      <td>1</td>\n",
       "      <td>0</td>\n",
       "      <td>0</td>\n",
       "    </tr>\n",
       "  </tbody>\n",
       "</table>\n",
       "</div>"
      ]
     },
     "metadata": {},
     "execution_count": 43
    }
   ],
   "metadata": {}
  },
  {
   "cell_type": "markdown",
   "source": [
    "---"
   ],
   "metadata": {}
  }
 ],
 "metadata": {
  "kernelspec": {
   "display_name": "iguanas_os_dev",
   "language": "python",
   "name": "iguanas_os_dev"
  },
  "language_info": {
   "codemirror_mode": {
    "name": "ipython",
    "version": 3
   },
   "file_extension": ".py",
   "mimetype": "text/x-python",
   "name": "python",
   "nbconvert_exporter": "python",
   "pygments_lexer": "ipython3",
   "version": "3.8.9"
  }
 },
 "nbformat": 4,
 "nbformat_minor": 4
}