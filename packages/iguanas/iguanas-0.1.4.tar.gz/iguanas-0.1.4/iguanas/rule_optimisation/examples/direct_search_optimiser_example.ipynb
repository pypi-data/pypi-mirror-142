{
 "cells": [
  {
   "cell_type": "markdown",
   "metadata": {},
   "source": [
    "# Direct Search Optimiser Example"
   ]
  },
  {
   "cell_type": "markdown",
   "metadata": {},
   "source": [
    "The Direct Search Optimiser module is used to optimise the thresholds of an existing set of rules, given a labelled dataset, using Direct Search-type Optimisation algorithms."
   ]
  },
  {
   "cell_type": "markdown",
   "metadata": {},
   "source": [
    "## Requirements"
   ]
  },
  {
   "cell_type": "markdown",
   "metadata": {},
   "source": [
    "To run, you'll need the following:\n",
    "\n",
    "* A rule set stored in the standard Iguanas lambda expression format, along with the keyword arguments for each lambda expression (more information on how to do this later)\n",
    "* A labelled dataset containing the features present in the rule set."
   ]
  },
  {
   "cell_type": "markdown",
   "metadata": {},
   "source": [
    "----"
   ]
  },
  {
   "cell_type": "markdown",
   "metadata": {},
   "source": [
    "### Import packages"
   ]
  },
  {
   "cell_type": "code",
   "execution_count": 1,
   "metadata": {},
   "outputs": [],
   "source": [
    "from iguanas.rule_optimisation import DirectSearchOptimiser\n",
    "from iguanas.rules import Rules\n",
    "from iguanas.rule_application import RuleApplier\n",
    "from iguanas.metrics.classification import FScore\n",
    "\n",
    "import pandas as pd\n",
    "from sklearn.model_selection import train_test_split"
   ]
  },
  {
   "cell_type": "markdown",
   "metadata": {},
   "source": [
    "### Read in data"
   ]
  },
  {
   "cell_type": "markdown",
   "metadata": {},
   "source": [
    "Firstly, we need to read in the raw data containing the features and the fraud label:"
   ]
  },
  {
   "cell_type": "code",
   "execution_count": 2,
   "metadata": {},
   "outputs": [],
   "source": [
    "data = pd.read_csv(\n",
    "    'dummy_data/dummy_pipeline_output_data.csv', \n",
    "    index_col='eid'\n",
    ")"
   ]
  },
  {
   "cell_type": "markdown",
   "metadata": {},
   "source": [
    "Then we need to split out the dataset into the features (`X`) and the target column (`y`):"
   ]
  },
  {
   "cell_type": "code",
   "execution_count": 3,
   "metadata": {},
   "outputs": [],
   "source": [
    "fraud_column = 'sim_is_fraud'\n",
    "X = data.drop(fraud_column, axis=1)\n",
    "y = data[fraud_column]"
   ]
  },
  {
   "cell_type": "markdown",
   "metadata": {},
   "source": [
    "Finally, we can split the features and target column into training and test sets:"
   ]
  },
  {
   "cell_type": "code",
   "execution_count": 4,
   "metadata": {},
   "outputs": [],
   "source": [
    "X_train, X_test, y_train, y_test = train_test_split(\n",
    "    X, \n",
    "    y, \n",
    "    test_size=0.33, \n",
    "    random_state=0\n",
    ")"
   ]
  },
  {
   "cell_type": "markdown",
   "metadata": {},
   "source": [
    "## Read in the rules"
   ]
  },
  {
   "cell_type": "markdown",
   "metadata": {},
   "source": [
    "In this example, we'll read in the rule conditions from a pickle file, where they are stored in the standard Iguanas string format. However, you can use any Iguanas-ready rule format - see the example notebook in the `rules` module."
   ]
  },
  {
   "cell_type": "code",
   "execution_count": 5,
   "metadata": {},
   "outputs": [],
   "source": [
    "import pickle\n",
    "with open('dummy_data/rule_strings.pkl', 'rb') as f:\n",
    "    rule_strings = pickle.load(f)"
   ]
  },
  {
   "cell_type": "markdown",
   "metadata": {},
   "source": [
    "Now we can instantiate the `Rules` class with these rules:"
   ]
  },
  {
   "cell_type": "code",
   "execution_count": 6,
   "metadata": {},
   "outputs": [],
   "source": [
    "rules = Rules(rule_strings=rule_strings)"
   ]
  },
  {
   "cell_type": "markdown",
   "metadata": {},
   "source": [
    "We now need to convert the rules into the standard Iguanas lambda expression format. This format allows new threshold values to be injected into the rule condition before being evaluated - this is how the Bayesian Optimiser finds the optimal threshold values:"
   ]
  },
  {
   "cell_type": "code",
   "execution_count": 7,
   "metadata": {},
   "outputs": [],
   "source": [
    "rule_lambdas = rules.as_rule_lambdas(\n",
    "    as_numpy=False, \n",
    "    with_kwargs=True\n",
    ")"
   ]
  },
  {
   "cell_type": "markdown",
   "metadata": {},
   "source": [
    "By converting the rule conditions to the standard Iguanas lambda expression format, we also generate a dictionary which gives the keyword arguments to each lambda expression (this dictionary is saved as the class attribute `lambda_kwargs`). Using these keyword arguments as inputs to the lambda expressions will convert them into the standard Iguanas string format."
   ]
  },
  {
   "cell_type": "markdown",
   "metadata": {},
   "source": [
    "----"
   ]
  },
  {
   "cell_type": "markdown",
   "metadata": {},
   "source": [
    "## Optimise rules"
   ]
  },
  {
   "cell_type": "markdown",
   "metadata": {},
   "source": [
    "### Set up class parameters"
   ]
  },
  {
   "cell_type": "markdown",
   "metadata": {},
   "source": [
    "Now we can set our class parameters for the Direct Search Optimiser. \n",
    "\n",
    "Here we're using the F1 score as the optimisation function (you can choose a different function from the `metrics` module or create your own - see the `classification.ipynb` example notebook in the `metrics` module).\n",
    "\n",
    "**Note that if you're using the FScore, Precision or Recall score as the optimisation function, use the *FScore*, *Precision* or *Recall* classes in the *metrics.classification* module rather than the same functions from Sklearn's *metrics* module, as the former are ~100 times faster on larger datasets.**\n",
    "\n",
    "We're also using the `Nelder-Mead` algorithm, which often benefits from setting the optional `initial_simplex` parameter. This is set through the `options` keyword argument. Here, we'll generate the initial simplex of each rule using the `create_initial_simplexes` method (but you can create your own if required).\n",
    "\n",
    "**Please see the class docstring for more information on each parameter.**"
   ]
  },
  {
   "cell_type": "code",
   "execution_count": 8,
   "metadata": {},
   "outputs": [],
   "source": [
    "f1 = FScore(beta=1)"
   ]
  },
  {
   "cell_type": "code",
   "execution_count": 9,
   "metadata": {},
   "outputs": [],
   "source": [
    "initial_simplexes = DirectSearchOptimiser.create_initial_simplexes(\n",
    "    X=X_train, \n",
    "    lambda_kwargs=rules.lambda_kwargs, \n",
    "    shape='Minimum-based'\n",
    ")"
   ]
  },
  {
   "cell_type": "code",
   "execution_count": 10,
   "metadata": {},
   "outputs": [],
   "source": [
    "params = {\n",
    "    'rule_lambdas': rule_lambdas,\n",
    "    'lambda_kwargs': rules.lambda_kwargs,\n",
    "    'metric': f1.fit,\n",
    "    'method': 'Nelder-Mead',\n",
    "    'options': initial_simplexes,\n",
    "    'verbose': 1,\n",
    "}"
   ]
  },
  {
   "cell_type": "markdown",
   "metadata": {},
   "source": [
    "### Instantiate class and run fit method"
   ]
  },
  {
   "cell_type": "markdown",
   "metadata": {},
   "source": [
    "Once the parameters have been set, we can run the `fit` method to optimise the rules."
   ]
  },
  {
   "cell_type": "code",
   "execution_count": 11,
   "metadata": {},
   "outputs": [],
   "source": [
    "ro = DirectSearchOptimiser(**params)"
   ]
  },
  {
   "cell_type": "code",
   "execution_count": 12,
   "metadata": {
    "tags": []
   },
   "outputs": [
    {
     "name": "stdout",
     "output_type": "stream",
     "text": [
      "--- Checking for rules with features that are missing in `X` ---\n",
      "100%|██████████████████████████████████████████████████████████████████████████████████████████████████████████████████████████████████████████████████████████████████████████████████████████████████████████████████████████████████████████████████████████████████████████████████| 19/19 [00:00<00:00, 30996.41it/s]\n",
      "--- Checking for rules that exclusively contain non-optimisable conditions ---\n",
      "100%|█████████████████████████████████████████████████████████████████████████████████████████████████████████████████████████████████████████████████████████████████████████████████████████████████████████████████████████████████████████████████████████████████████████████████| 19/19 [00:00<00:00, 129369.77it/s]\n",
      "--- Checking for rules that exclusively contain zero-variance features ---\n",
      "100%|██████████████████████████████████████████████████████████████████████████████████████████████████████████████████████████████████████████████████████████████████████████████████████████████████████████████████████████████████████████████████████████████████████████████████| 19/19 [00:00<00:00, 76406.30it/s]\n",
      "--- Optimising rules ---\n",
      "100%|█████████████████████████████████████████████████████████████████████████████████████████████████████████████████████████████████████████████████████████████████████████████████████████████████████████████████████████████████████████████████████████████████████████████████████| 19/19 [00:04<00:00,  4.03it/s]\n"
     ]
    }
   ],
   "source": [
    "X_rules = ro.fit(\n",
    "    X=X_train, \n",
    "    y=y_train,\n",
    "    sample_weight=None\n",
    ")"
   ]
  },
  {
   "cell_type": "markdown",
   "metadata": {},
   "source": [
    "### Outputs"
   ]
  },
  {
   "cell_type": "markdown",
   "metadata": {},
   "source": [
    "The `fit` method returns a dataframe giving the binary columns of the optimised + unoptimisable (but applicable) rules as applied to the training dataset. See the `Attributes` section in the class docstring for a description of each attribute generated:"
   ]
  },
  {
   "cell_type": "code",
   "execution_count": 13,
   "metadata": {},
   "outputs": [
    {
     "data": {
      "text/html": [
       "<div>\n",
       "<style scoped>\n",
       "    .dataframe tbody tr th:only-of-type {\n",
       "        vertical-align: middle;\n",
       "    }\n",
       "\n",
       "    .dataframe tbody tr th {\n",
       "        vertical-align: top;\n",
       "    }\n",
       "\n",
       "    .dataframe thead th {\n",
       "        text-align: right;\n",
       "    }\n",
       "</style>\n",
       "<table border=\"1\" class=\"dataframe\">\n",
       "  <thead>\n",
       "    <tr style=\"text-align: right;\">\n",
       "      <th></th>\n",
       "      <th>RGDT_Rule137</th>\n",
       "      <th>RGDT_Rule81</th>\n",
       "      <th>HighFraudTxnPerAccountNum</th>\n",
       "      <th>RGDT_Rule256</th>\n",
       "      <th>RGDT_Rule35</th>\n",
       "      <th>RGDT_Rule193</th>\n",
       "      <th>RGDT_Rule241</th>\n",
       "      <th>RGDT_Rule263</th>\n",
       "      <th>RGDT_Rule313</th>\n",
       "      <th>RGDT_Rule195</th>\n",
       "      <th>RGDT_Rule153</th>\n",
       "      <th>RGDT_Rule112</th>\n",
       "      <th>RGDT_Rule2</th>\n",
       "      <th>RGDT_Rule65</th>\n",
       "      <th>RGDT_Rule45</th>\n",
       "      <th>RGDT_Rule162</th>\n",
       "      <th>RGDT_Rule272</th>\n",
       "      <th>RGDT_Rule24</th>\n",
       "      <th>ComplicatedRule</th>\n",
       "    </tr>\n",
       "    <tr>\n",
       "      <th>eid</th>\n",
       "      <th></th>\n",
       "      <th></th>\n",
       "      <th></th>\n",
       "      <th></th>\n",
       "      <th></th>\n",
       "      <th></th>\n",
       "      <th></th>\n",
       "      <th></th>\n",
       "      <th></th>\n",
       "      <th></th>\n",
       "      <th></th>\n",
       "      <th></th>\n",
       "      <th></th>\n",
       "      <th></th>\n",
       "      <th></th>\n",
       "      <th></th>\n",
       "      <th></th>\n",
       "      <th></th>\n",
       "      <th></th>\n",
       "    </tr>\n",
       "  </thead>\n",
       "  <tbody>\n",
       "    <tr>\n",
       "      <th>503-0182982-0226911</th>\n",
       "      <td>1</td>\n",
       "      <td>0</td>\n",
       "      <td>1</td>\n",
       "      <td>0</td>\n",
       "      <td>1</td>\n",
       "      <td>1</td>\n",
       "      <td>1</td>\n",
       "      <td>1</td>\n",
       "      <td>1</td>\n",
       "      <td>1</td>\n",
       "      <td>1</td>\n",
       "      <td>1</td>\n",
       "      <td>1</td>\n",
       "      <td>1</td>\n",
       "      <td>1</td>\n",
       "      <td>1</td>\n",
       "      <td>1</td>\n",
       "      <td>1</td>\n",
       "      <td>0</td>\n",
       "    </tr>\n",
       "    <tr>\n",
       "      <th>516-2441570-6696110</th>\n",
       "      <td>0</td>\n",
       "      <td>0</td>\n",
       "      <td>0</td>\n",
       "      <td>0</td>\n",
       "      <td>0</td>\n",
       "      <td>0</td>\n",
       "      <td>0</td>\n",
       "      <td>0</td>\n",
       "      <td>0</td>\n",
       "      <td>0</td>\n",
       "      <td>0</td>\n",
       "      <td>0</td>\n",
       "      <td>0</td>\n",
       "      <td>0</td>\n",
       "      <td>0</td>\n",
       "      <td>0</td>\n",
       "      <td>0</td>\n",
       "      <td>0</td>\n",
       "      <td>0</td>\n",
       "    </tr>\n",
       "    <tr>\n",
       "      <th>475-5982298-4197297</th>\n",
       "      <td>0</td>\n",
       "      <td>0</td>\n",
       "      <td>0</td>\n",
       "      <td>0</td>\n",
       "      <td>0</td>\n",
       "      <td>0</td>\n",
       "      <td>0</td>\n",
       "      <td>0</td>\n",
       "      <td>0</td>\n",
       "      <td>0</td>\n",
       "      <td>0</td>\n",
       "      <td>0</td>\n",
       "      <td>0</td>\n",
       "      <td>0</td>\n",
       "      <td>0</td>\n",
       "      <td>0</td>\n",
       "      <td>0</td>\n",
       "      <td>0</td>\n",
       "      <td>0</td>\n",
       "    </tr>\n",
       "    <tr>\n",
       "      <th>935-3613661-7862154</th>\n",
       "      <td>0</td>\n",
       "      <td>0</td>\n",
       "      <td>0</td>\n",
       "      <td>0</td>\n",
       "      <td>0</td>\n",
       "      <td>0</td>\n",
       "      <td>0</td>\n",
       "      <td>0</td>\n",
       "      <td>0</td>\n",
       "      <td>0</td>\n",
       "      <td>0</td>\n",
       "      <td>0</td>\n",
       "      <td>0</td>\n",
       "      <td>0</td>\n",
       "      <td>0</td>\n",
       "      <td>0</td>\n",
       "      <td>0</td>\n",
       "      <td>0</td>\n",
       "      <td>0</td>\n",
       "    </tr>\n",
       "    <tr>\n",
       "      <th>936-1684183-4550418</th>\n",
       "      <td>0</td>\n",
       "      <td>0</td>\n",
       "      <td>0</td>\n",
       "      <td>0</td>\n",
       "      <td>0</td>\n",
       "      <td>0</td>\n",
       "      <td>0</td>\n",
       "      <td>0</td>\n",
       "      <td>0</td>\n",
       "      <td>0</td>\n",
       "      <td>0</td>\n",
       "      <td>0</td>\n",
       "      <td>0</td>\n",
       "      <td>0</td>\n",
       "      <td>0</td>\n",
       "      <td>0</td>\n",
       "      <td>0</td>\n",
       "      <td>0</td>\n",
       "      <td>0</td>\n",
       "    </tr>\n",
       "  </tbody>\n",
       "</table>\n",
       "</div>"
      ],
      "text/plain": [
       "                     RGDT_Rule137  RGDT_Rule81  HighFraudTxnPerAccountNum  \\\n",
       "eid                                                                         \n",
       "503-0182982-0226911             1            0                          1   \n",
       "516-2441570-6696110             0            0                          0   \n",
       "475-5982298-4197297             0            0                          0   \n",
       "935-3613661-7862154             0            0                          0   \n",
       "936-1684183-4550418             0            0                          0   \n",
       "\n",
       "                     RGDT_Rule256  RGDT_Rule35  RGDT_Rule193  RGDT_Rule241  \\\n",
       "eid                                                                          \n",
       "503-0182982-0226911             0            1             1             1   \n",
       "516-2441570-6696110             0            0             0             0   \n",
       "475-5982298-4197297             0            0             0             0   \n",
       "935-3613661-7862154             0            0             0             0   \n",
       "936-1684183-4550418             0            0             0             0   \n",
       "\n",
       "                     RGDT_Rule263  RGDT_Rule313  RGDT_Rule195  RGDT_Rule153  \\\n",
       "eid                                                                           \n",
       "503-0182982-0226911             1             1             1             1   \n",
       "516-2441570-6696110             0             0             0             0   \n",
       "475-5982298-4197297             0             0             0             0   \n",
       "935-3613661-7862154             0             0             0             0   \n",
       "936-1684183-4550418             0             0             0             0   \n",
       "\n",
       "                     RGDT_Rule112  RGDT_Rule2  RGDT_Rule65  RGDT_Rule45  \\\n",
       "eid                                                                       \n",
       "503-0182982-0226911             1           1            1            1   \n",
       "516-2441570-6696110             0           0            0            0   \n",
       "475-5982298-4197297             0           0            0            0   \n",
       "935-3613661-7862154             0           0            0            0   \n",
       "936-1684183-4550418             0           0            0            0   \n",
       "\n",
       "                     RGDT_Rule162  RGDT_Rule272  RGDT_Rule24  ComplicatedRule  \n",
       "eid                                                                            \n",
       "503-0182982-0226911             1             1            1                0  \n",
       "516-2441570-6696110             0             0            0                0  \n",
       "475-5982298-4197297             0             0            0                0  \n",
       "935-3613661-7862154             0             0            0                0  \n",
       "936-1684183-4550418             0             0            0                0  "
      ]
     },
     "execution_count": 13,
     "metadata": {},
     "output_type": "execute_result"
    }
   ],
   "source": [
    "X_rules.head()"
   ]
  },
  {
   "cell_type": "code",
   "execution_count": 14,
   "metadata": {},
   "outputs": [
    {
     "data": {
      "text/plain": [
       "{'RGDT_Rule137': 0.972972972972973,\n",
       " 'RGDT_Rule81': 0.0632411067193676,\n",
       " 'HighFraudTxnPerAccountNum': 0.9959349593495934,\n",
       " 'RGDT_Rule256': 0.40909090909090906,\n",
       " 'RGDT_Rule35': 0.4217252396166134,\n",
       " 'RGDT_Rule193': 0.9740518962075848,\n",
       " 'RGDT_Rule241': 0.40888888888888886,\n",
       " 'RGDT_Rule263': 0.9839357429718876,\n",
       " 'RGDT_Rule313': 0.4217252396166134,\n",
       " 'RGDT_Rule195': 0.9938900203665988,\n",
       " 'RGDT_Rule153': 0.8376470588235295,\n",
       " 'RGDT_Rule112': 0.9740518962075848,\n",
       " 'RGDT_Rule2': 0.12260536398467435,\n",
       " 'RGDT_Rule65': 0.33532934131736525,\n",
       " 'RGDT_Rule45': 0.9740518962075848,\n",
       " 'RGDT_Rule162': 0.39378238341968913,\n",
       " 'RGDT_Rule272': 0.9818913480885312,\n",
       " 'RGDT_Rule24': 0.972,\n",
       " 'ComplicatedRule': 0.20890688259109313}"
      ]
     },
     "execution_count": 14,
     "metadata": {},
     "output_type": "execute_result"
    }
   ],
   "source": [
    "ro.opt_rule_performances"
   ]
  },
  {
   "cell_type": "markdown",
   "metadata": {},
   "source": [
    "----"
   ]
  },
  {
   "cell_type": "markdown",
   "metadata": {
    "tags": []
   },
   "source": [
    "## Apply rules to a separate dataset"
   ]
  },
  {
   "cell_type": "markdown",
   "metadata": {},
   "source": [
    "Use the `transform` method to apply the optimised rules to a separate dataset:"
   ]
  },
  {
   "cell_type": "code",
   "execution_count": 15,
   "metadata": {},
   "outputs": [],
   "source": [
    "X_rules_test = ro.transform(X=X_test)"
   ]
  },
  {
   "cell_type": "markdown",
   "metadata": {},
   "source": [
    "### Outputs"
   ]
  },
  {
   "cell_type": "markdown",
   "metadata": {},
   "source": [
    "The `transform` method returns a dataframe giving the binary columns of the rules as applied to the given dataset:"
   ]
  },
  {
   "cell_type": "code",
   "execution_count": 16,
   "metadata": {},
   "outputs": [
    {
     "data": {
      "text/html": [
       "<div>\n",
       "<style scoped>\n",
       "    .dataframe tbody tr th:only-of-type {\n",
       "        vertical-align: middle;\n",
       "    }\n",
       "\n",
       "    .dataframe tbody tr th {\n",
       "        vertical-align: top;\n",
       "    }\n",
       "\n",
       "    .dataframe thead th {\n",
       "        text-align: right;\n",
       "    }\n",
       "</style>\n",
       "<table border=\"1\" class=\"dataframe\">\n",
       "  <thead>\n",
       "    <tr style=\"text-align: right;\">\n",
       "      <th></th>\n",
       "      <th>RGDT_Rule137</th>\n",
       "      <th>RGDT_Rule81</th>\n",
       "      <th>HighFraudTxnPerAccountNum</th>\n",
       "      <th>RGDT_Rule256</th>\n",
       "      <th>RGDT_Rule35</th>\n",
       "      <th>RGDT_Rule193</th>\n",
       "      <th>RGDT_Rule241</th>\n",
       "      <th>RGDT_Rule263</th>\n",
       "      <th>RGDT_Rule313</th>\n",
       "      <th>RGDT_Rule195</th>\n",
       "      <th>RGDT_Rule153</th>\n",
       "      <th>RGDT_Rule112</th>\n",
       "      <th>RGDT_Rule2</th>\n",
       "      <th>RGDT_Rule65</th>\n",
       "      <th>RGDT_Rule45</th>\n",
       "      <th>RGDT_Rule162</th>\n",
       "      <th>RGDT_Rule272</th>\n",
       "      <th>RGDT_Rule24</th>\n",
       "      <th>ComplicatedRule</th>\n",
       "    </tr>\n",
       "    <tr>\n",
       "      <th>eid</th>\n",
       "      <th></th>\n",
       "      <th></th>\n",
       "      <th></th>\n",
       "      <th></th>\n",
       "      <th></th>\n",
       "      <th></th>\n",
       "      <th></th>\n",
       "      <th></th>\n",
       "      <th></th>\n",
       "      <th></th>\n",
       "      <th></th>\n",
       "      <th></th>\n",
       "      <th></th>\n",
       "      <th></th>\n",
       "      <th></th>\n",
       "      <th></th>\n",
       "      <th></th>\n",
       "      <th></th>\n",
       "      <th></th>\n",
       "    </tr>\n",
       "  </thead>\n",
       "  <tbody>\n",
       "    <tr>\n",
       "      <th>533-3553708-0918604</th>\n",
       "      <td>0</td>\n",
       "      <td>0</td>\n",
       "      <td>0</td>\n",
       "      <td>0</td>\n",
       "      <td>0</td>\n",
       "      <td>0</td>\n",
       "      <td>0</td>\n",
       "      <td>0</td>\n",
       "      <td>0</td>\n",
       "      <td>0</td>\n",
       "      <td>0</td>\n",
       "      <td>0</td>\n",
       "      <td>0</td>\n",
       "      <td>0</td>\n",
       "      <td>0</td>\n",
       "      <td>0</td>\n",
       "      <td>0</td>\n",
       "      <td>0</td>\n",
       "      <td>0</td>\n",
       "    </tr>\n",
       "    <tr>\n",
       "      <th>455-3498977-3144749</th>\n",
       "      <td>0</td>\n",
       "      <td>0</td>\n",
       "      <td>0</td>\n",
       "      <td>0</td>\n",
       "      <td>0</td>\n",
       "      <td>0</td>\n",
       "      <td>0</td>\n",
       "      <td>0</td>\n",
       "      <td>0</td>\n",
       "      <td>0</td>\n",
       "      <td>0</td>\n",
       "      <td>0</td>\n",
       "      <td>0</td>\n",
       "      <td>0</td>\n",
       "      <td>0</td>\n",
       "      <td>0</td>\n",
       "      <td>0</td>\n",
       "      <td>0</td>\n",
       "      <td>0</td>\n",
       "    </tr>\n",
       "    <tr>\n",
       "      <th>585-6596459-3918216</th>\n",
       "      <td>0</td>\n",
       "      <td>0</td>\n",
       "      <td>0</td>\n",
       "      <td>0</td>\n",
       "      <td>0</td>\n",
       "      <td>0</td>\n",
       "      <td>0</td>\n",
       "      <td>0</td>\n",
       "      <td>0</td>\n",
       "      <td>0</td>\n",
       "      <td>0</td>\n",
       "      <td>0</td>\n",
       "      <td>0</td>\n",
       "      <td>0</td>\n",
       "      <td>0</td>\n",
       "      <td>0</td>\n",
       "      <td>0</td>\n",
       "      <td>0</td>\n",
       "      <td>0</td>\n",
       "    </tr>\n",
       "    <tr>\n",
       "      <th>685-6642742-5806657</th>\n",
       "      <td>0</td>\n",
       "      <td>0</td>\n",
       "      <td>0</td>\n",
       "      <td>0</td>\n",
       "      <td>0</td>\n",
       "      <td>0</td>\n",
       "      <td>0</td>\n",
       "      <td>0</td>\n",
       "      <td>0</td>\n",
       "      <td>0</td>\n",
       "      <td>0</td>\n",
       "      <td>0</td>\n",
       "      <td>0</td>\n",
       "      <td>0</td>\n",
       "      <td>0</td>\n",
       "      <td>0</td>\n",
       "      <td>0</td>\n",
       "      <td>0</td>\n",
       "      <td>0</td>\n",
       "    </tr>\n",
       "    <tr>\n",
       "      <th>956-2823525-9957253</th>\n",
       "      <td>0</td>\n",
       "      <td>0</td>\n",
       "      <td>0</td>\n",
       "      <td>0</td>\n",
       "      <td>0</td>\n",
       "      <td>0</td>\n",
       "      <td>0</td>\n",
       "      <td>0</td>\n",
       "      <td>0</td>\n",
       "      <td>0</td>\n",
       "      <td>0</td>\n",
       "      <td>0</td>\n",
       "      <td>0</td>\n",
       "      <td>0</td>\n",
       "      <td>0</td>\n",
       "      <td>0</td>\n",
       "      <td>0</td>\n",
       "      <td>0</td>\n",
       "      <td>0</td>\n",
       "    </tr>\n",
       "  </tbody>\n",
       "</table>\n",
       "</div>"
      ],
      "text/plain": [
       "                     RGDT_Rule137  RGDT_Rule81  HighFraudTxnPerAccountNum  \\\n",
       "eid                                                                         \n",
       "533-3553708-0918604             0            0                          0   \n",
       "455-3498977-3144749             0            0                          0   \n",
       "585-6596459-3918216             0            0                          0   \n",
       "685-6642742-5806657             0            0                          0   \n",
       "956-2823525-9957253             0            0                          0   \n",
       "\n",
       "                     RGDT_Rule256  RGDT_Rule35  RGDT_Rule193  RGDT_Rule241  \\\n",
       "eid                                                                          \n",
       "533-3553708-0918604             0            0             0             0   \n",
       "455-3498977-3144749             0            0             0             0   \n",
       "585-6596459-3918216             0            0             0             0   \n",
       "685-6642742-5806657             0            0             0             0   \n",
       "956-2823525-9957253             0            0             0             0   \n",
       "\n",
       "                     RGDT_Rule263  RGDT_Rule313  RGDT_Rule195  RGDT_Rule153  \\\n",
       "eid                                                                           \n",
       "533-3553708-0918604             0             0             0             0   \n",
       "455-3498977-3144749             0             0             0             0   \n",
       "585-6596459-3918216             0             0             0             0   \n",
       "685-6642742-5806657             0             0             0             0   \n",
       "956-2823525-9957253             0             0             0             0   \n",
       "\n",
       "                     RGDT_Rule112  RGDT_Rule2  RGDT_Rule65  RGDT_Rule45  \\\n",
       "eid                                                                       \n",
       "533-3553708-0918604             0           0            0            0   \n",
       "455-3498977-3144749             0           0            0            0   \n",
       "585-6596459-3918216             0           0            0            0   \n",
       "685-6642742-5806657             0           0            0            0   \n",
       "956-2823525-9957253             0           0            0            0   \n",
       "\n",
       "                     RGDT_Rule162  RGDT_Rule272  RGDT_Rule24  ComplicatedRule  \n",
       "eid                                                                            \n",
       "533-3553708-0918604             0             0            0                0  \n",
       "455-3498977-3144749             0             0            0                0  \n",
       "585-6596459-3918216             0             0            0                0  \n",
       "685-6642742-5806657             0             0            0                0  \n",
       "956-2823525-9957253             0             0            0                0  "
      ]
     },
     "execution_count": 16,
     "metadata": {},
     "output_type": "execute_result"
    }
   ],
   "source": [
    "X_rules_test.head()"
   ]
  },
  {
   "cell_type": "markdown",
   "metadata": {},
   "source": [
    "---"
   ]
  },
  {
   "cell_type": "markdown",
   "metadata": {},
   "source": [
    "## Plotting the performance uplift"
   ]
  },
  {
   "cell_type": "markdown",
   "metadata": {},
   "source": [
    "We can visualise the performance uplift of the optimised rules using the `plot_performance_uplift` and `plot_performance_uplift_distribution` methods:\n",
    "\n",
    "* `plot_performance_uplift`: Generates a scatterplot showing the performance of each rule before and after optimisation.\n",
    "* `plot_performance_uplift_distribution`: Generates a boxplot showing the distribution of performance uplifts (original rules vs optimised rules)."
   ]
  },
  {
   "cell_type": "markdown",
   "metadata": {},
   "source": [
    "### On the training set"
   ]
  },
  {
   "cell_type": "markdown",
   "metadata": {},
   "source": [
    "To visualise the uplift on the training set, we can use the class attributes `orig_rule_performances` and `opt_rule_performances` in the plotting methods, as these were generated as part of the optimisation process:"
   ]
  },
  {
   "cell_type": "code",
   "execution_count": 17,
   "metadata": {},
   "outputs": [
    {
     "data": {
      "image/png": "[encoded data removed]",
      "text/plain": [
       "<Figure size 720x360 with 1 Axes>"
      ]
     },
     "metadata": {},
     "output_type": "display_data"
    }
   ],
   "source": [
    "ro.plot_performance_uplift(\n",
    "    orig_rule_performances=ro.orig_rule_performances,\n",
    "    opt_rule_performances=ro.opt_rule_performances,\n",
    "    figsize=(10, 5)\n",
    ")"
   ]
  },
  {
   "cell_type": "code",
   "execution_count": 18,
   "metadata": {},
   "outputs": [
    {
     "data": {
      "image/png": "[encoded data removed]",
      "text/plain": [
       "<Figure size 216x504 with 1 Axes>"
      ]
     },
     "metadata": {},
     "output_type": "display_data"
    }
   ],
   "source": [
    "ro.plot_performance_uplift_distribution(\n",
    "    orig_rule_performances=ro.orig_rule_performances,\n",
    "    opt_rule_performances=ro.opt_rule_performances,\n",
    "    figsize=(3, 7)\n",
    ")"
   ]
  },
  {
   "cell_type": "markdown",
   "metadata": {},
   "source": [
    "### On the test set"
   ]
  },
  {
   "cell_type": "markdown",
   "metadata": {},
   "source": [
    "To visualise the uplift on the test set, we first need to generate the `orig_rule_performances` and `opt_rule_performances` parameters used in the plotting methods as these aren't created as part of the optimisation process. To do this, we need to apply both the original rules and the optimised rules to the test set. \n",
    "\n",
    "**Note:** before we apply the original rules, we need to remove those that either have no optimisable conditions, have zero variance features or have features that are missing in `X_train`:"
   ]
  },
  {
   "cell_type": "code",
   "execution_count": 19,
   "metadata": {},
   "outputs": [],
   "source": [
    "# Original rules\n",
    "rules_to_exclude = ro.rule_names_missing_features + ro.rule_names_no_opt_conditions + ro.rule_names_zero_var_features\n",
    "rules.filter_rules(exclude=rules_to_exclude)\n",
    "orig_X_rules = rules.transform(X_test)\n",
    "orig_f1s = f1.fit(orig_X_rules, y_test)\n",
    "orig_rule_performances_test = dict(zip(orig_X_rules.columns.tolist(), orig_f1s))"
   ]
  },
  {
   "cell_type": "code",
   "execution_count": 20,
   "metadata": {},
   "outputs": [],
   "source": [
    "# Optimised rules\n",
    "opt_X_rules = ro.transform(X_test)\n",
    "opt_f1s = f1.fit(opt_X_rules, y_test)\n",
    "opt_rule_performances_test = dict(zip(opt_X_rules.columns.tolist(), opt_f1s))"
   ]
  },
  {
   "cell_type": "code",
   "execution_count": 21,
   "metadata": {},
   "outputs": [
    {
     "data": {
      "image/png": "[encoded data removed]",
      "text/plain": [
       "<Figure size 720x360 with 1 Axes>"
      ]
     },
     "metadata": {},
     "output_type": "display_data"
    }
   ],
   "source": [
    "ro.plot_performance_uplift(\n",
    "    orig_rule_performances=orig_rule_performances_test,\n",
    "    opt_rule_performances=opt_rule_performances_test,\n",
    "    figsize=(10, 5)\n",
    ")"
   ]
  },
  {
   "cell_type": "code",
   "execution_count": 22,
   "metadata": {},
   "outputs": [
    {
     "data": {
      "image/png": "[encoded data removed]",
      "text/plain": [
       "<Figure size 216x504 with 1 Axes>"
      ]
     },
     "metadata": {},
     "output_type": "display_data"
    }
   ],
   "source": [
    "ro.plot_performance_uplift_distribution(\n",
    "    orig_rule_performances=orig_rule_performances_test,\n",
    "    opt_rule_performances=opt_rule_performances_test,\n",
    "    figsize=(3, 7)\n",
    ")"
   ]
  },
  {
   "cell_type": "markdown",
   "metadata": {},
   "source": [
    "----"
   ]
  }
 ],
 "metadata": {
  "interpreter": {
   "hash": "6a5a22224d030f6805b27da964f50b3905be89918ca593f843e32c3b2a80fa84"
  },
  "kernelspec": {
   "display_name": "iguanas_dev",
   "language": "python",
   "name": "iguanas_dev"
  },
  "language_info": {
   "codemirror_mode": {
    "name": "ipython",
    "version": 3
   },
   "file_extension": ".py",
   "mimetype": "text/x-python",
   "name": "python",
   "nbconvert_exporter": "python",
   "pygments_lexer": "ipython3",
   "version": "3.8.9"
  }
 },
 "nbformat": 4,
 "nbformat_minor": 4
}
