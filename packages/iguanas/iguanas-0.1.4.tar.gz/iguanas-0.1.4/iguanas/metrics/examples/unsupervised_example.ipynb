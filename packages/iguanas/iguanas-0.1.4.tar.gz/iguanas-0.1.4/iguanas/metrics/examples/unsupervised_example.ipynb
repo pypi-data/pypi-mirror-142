{
 "cells": [
  {
   "cell_type": "markdown",
   "source": [
    "# Unsupervised Metrics Example"
   ],
   "metadata": {}
  },
  {
   "cell_type": "markdown",
   "source": [
    "Unsupervised metrics are used to measure the performance of binary predictors when access to the binary target is not possible. This example shows how they can be applied and how to create your own."
   ],
   "metadata": {}
  },
  {
   "cell_type": "markdown",
   "source": [
    "## Requirements"
   ],
   "metadata": {}
  },
  {
   "cell_type": "markdown",
   "source": [
    "To run, you'll need the following:\n",
    "\n",
    "* A dataset containing binary predictor columns"
   ],
   "metadata": {}
  },
  {
   "cell_type": "markdown",
   "source": [
    "----"
   ],
   "metadata": {}
  },
  {
   "cell_type": "markdown",
   "source": [
    "## Import packages"
   ],
   "metadata": {}
  },
  {
   "cell_type": "code",
   "execution_count": 1,
   "source": [
    "from iguanas.metrics.unsupervised import AlertsPerDay, PercVolume\n",
    "\n",
    "import pandas as pd\n",
    "import numpy as np"
   ],
   "outputs": [],
   "metadata": {}
  },
  {
   "cell_type": "markdown",
   "source": [
    "## Create data"
   ],
   "metadata": {}
  },
  {
   "cell_type": "markdown",
   "source": [
    "Let's create some dummy predictor columns. For this example, let's assume the dummy predictor columns represent rules that have been applied to a dataset."
   ],
   "metadata": {}
  },
  {
   "cell_type": "code",
   "execution_count": 2,
   "source": [
    "np.random.seed(0)\n",
    "\n",
    "y_pred = pd.Series(np.random.randint(0, 2, 1000), name = 'A')\n",
    "y_preds = pd.DataFrame(np.random.randint(0, 2, (1000, 5)), columns=[i for i in 'ABCDE'])"
   ],
   "outputs": [],
   "metadata": {}
  },
  {
   "cell_type": "markdown",
   "source": [
    "----"
   ],
   "metadata": {}
  },
  {
   "cell_type": "markdown",
   "source": [
    "## Apply optimisation functions"
   ],
   "metadata": {}
  },
  {
   "cell_type": "markdown",
   "source": [
    "There are currently two unsupervised metrics available:\n",
    "\n",
    "* Alerts per day (calculates the negative squared difference between the daily number of records a rule flags vs the targetted daily number of records flagged)\n",
    "* Percentage of volume (calculates the negative squared difference between the percentage of the overall volume that the rule flags vs the targetted percentage of volume flagged)"
   ],
   "metadata": {}
  },
  {
   "cell_type": "markdown",
   "source": [
    "### Instantiate class and run fit method"
   ],
   "metadata": {}
  },
  {
   "cell_type": "markdown",
   "source": [
    "We can run the `fit` method to calculate the optimisation metric for each column in the dataset."
   ],
   "metadata": {}
  },
  {
   "cell_type": "markdown",
   "source": [
    "#### Alerts per day"
   ],
   "metadata": {}
  },
  {
   "cell_type": "code",
   "execution_count": 3,
   "source": [
    "apd = AlertsPerDay(n_alerts_expected_per_day=5, no_of_days_in_file=10)\n",
    "# Single predictor\n",
    "rule_apd = apd.fit(y_preds=y_pred)\n",
    "# Multiple predictors\n",
    "rule_apds = apd.fit(y_preds=y_preds)"
   ],
   "outputs": [],
   "metadata": {}
  },
  {
   "cell_type": "markdown",
   "source": [
    "#### Percentage of volume"
   ],
   "metadata": {}
  },
  {
   "cell_type": "code",
   "execution_count": 4,
   "source": [
    "pv = PercVolume(perc_vol_expected=0.02)\n",
    "# Single predictor\n",
    "rule_pv = pv.fit(y_preds=y_pred)\n",
    "# Multiple predictors\n",
    "rule_pvs = pv.fit(y_preds=y_preds)"
   ],
   "outputs": [],
   "metadata": {}
  },
  {
   "cell_type": "markdown",
   "source": [
    "### Outputs"
   ],
   "metadata": {}
  },
  {
   "cell_type": "markdown",
   "source": [
    "The `fit` method returns the optimisation metric defined by the class:"
   ],
   "metadata": {}
  },
  {
   "cell_type": "code",
   "execution_count": 5,
   "source": [
    "rule_apd, rule_apds"
   ],
   "outputs": [
    {
     "output_type": "execute_result",
     "data": {
      "text/plain": [
       "(-2061.16, array([-2237.29, -1738.89, -2313.61, -2227.84, -2034.01]))"
      ]
     },
     "metadata": {},
     "execution_count": 5
    }
   ],
   "metadata": {}
  },
  {
   "cell_type": "code",
   "execution_count": 6,
   "source": [
    "rule_pv, rule_pvs"
   ],
   "outputs": [
    {
     "output_type": "execute_result",
     "data": {
      "text/plain": [
       "(-0.234256, array([-0.253009, -0.199809, -0.261121, -0.252004, -0.231361]))"
      ]
     },
     "metadata": {},
     "execution_count": 6
    }
   ],
   "metadata": {}
  },
  {
   "cell_type": "markdown",
   "source": [
    "The `fit` method can be fed into various Iguanas modules as an argument (wherever the `metric` parameter appears). For example, in the `BayesianOptimiser` module, you can set the metric used to optimise the rules using this methodology."
   ],
   "metadata": {}
  },
  {
   "cell_type": "markdown",
   "source": [
    "----"
   ],
   "metadata": {}
  }
 ],
 "metadata": {
  "interpreter": {
   "hash": "6a5a22224d030f6805b27da964f50b3905be89918ca593f843e32c3b2a80fa84"
  },
  "kernelspec": {
   "name": "python3",
   "display_name": "Python 3.8.9 64-bit ('iguanas_os_dev': venv)"
  },
  "language_info": {
   "codemirror_mode": {
    "name": "ipython",
    "version": 3
   },
   "file_extension": ".py",
   "mimetype": "text/x-python",
   "name": "python",
   "nbconvert_exporter": "python",
   "pygments_lexer": "ipython3",
   "version": "3.8.9"
  }
 },
 "nbformat": 4,
 "nbformat_minor": 4
}