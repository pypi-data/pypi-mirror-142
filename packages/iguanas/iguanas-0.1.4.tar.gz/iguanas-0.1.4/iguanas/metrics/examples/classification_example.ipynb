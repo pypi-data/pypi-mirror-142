{
 "cells": [
  {
   "cell_type": "markdown",
   "metadata": {},
   "source": [
    "# Classification Metrics Example"
   ]
  },
  {
   "cell_type": "markdown",
   "metadata": {},
   "source": [
    "Classification metrics are used to calculate the performance of binary predictors based on a binary target. They are used extensively in other Iguanas modules. This example shows how they can be applied and how to create your own."
   ]
  },
  {
   "cell_type": "markdown",
   "metadata": {},
   "source": [
    "## Requirements"
   ]
  },
  {
   "cell_type": "markdown",
   "metadata": {},
   "source": [
    "To run, you'll need the following:\n",
    "\n",
    "* A dataset containing binary predictor columns and a binary target column."
   ]
  },
  {
   "cell_type": "markdown",
   "metadata": {},
   "source": [
    "----"
   ]
  },
  {
   "cell_type": "markdown",
   "metadata": {},
   "source": [
    "## Import packages"
   ]
  },
  {
   "cell_type": "code",
   "execution_count": 1,
   "metadata": {},
   "outputs": [],
   "source": [
    "from iguanas.metrics.classification import Precision, Recall, FScore, Revenue, Bounds\n",
    "\n",
    "import pandas as pd\n",
    "import numpy as np\n",
    "from typing import Union"
   ]
  },
  {
   "cell_type": "markdown",
   "metadata": {},
   "source": [
    "## Create data"
   ]
  },
  {
   "cell_type": "markdown",
   "metadata": {},
   "source": [
    "Let's create some dummy predictor columns and a binary target column. For this example, let's assume the dummy predictor columns represent rules that have been applied to a dataset."
   ]
  },
  {
   "cell_type": "code",
   "execution_count": 2,
   "metadata": {},
   "outputs": [],
   "source": [
    "np.random.seed(0)\n",
    "\n",
    "y_pred = pd.Series(np.random.randint(0, 2, 1000), name = 'A')\n",
    "y_preds = pd.DataFrame(np.random.randint(0, 2, (1000, 5)), columns=[i for i in 'ABCDE'])\n",
    "y = pd.Series(np.random.randint(0, 2, 1000), name = 'label')\n",
    "amounts = pd.Series(np.random.randint(0, 1000, 1000), name = 'amounts')"
   ]
  },
  {
   "cell_type": "markdown",
   "metadata": {},
   "source": [
    "----"
   ]
  },
  {
   "cell_type": "markdown",
   "metadata": {},
   "source": [
    "## Apply optimisation functions"
   ]
  },
  {
   "cell_type": "markdown",
   "metadata": {},
   "source": [
    "There are currently five classification metrics available:\n",
    "\n",
    "* Precision score\n",
    "* Recall score\n",
    "* Fbeta score\n",
    "* Revenue\n",
    "* Bounds\n",
    "\n",
    "**Note that the *FScore*, *Precision* and *Recall* classes are ~100 times faster on larger datasets compared to the same functions from Sklearn's *metrics* module. They also work with Koalas DataFrames, whereas the Sklearn functions do not.**"
   ]
  },
  {
   "cell_type": "markdown",
   "metadata": {},
   "source": [
    "### Instantiate class and run fit method"
   ]
  },
  {
   "cell_type": "markdown",
   "metadata": {},
   "source": [
    "We can run the `fit` method to calculate the optimisation metric for each column in the dataset."
   ]
  },
  {
   "cell_type": "markdown",
   "metadata": {},
   "source": [
    "#### Precision score"
   ]
  },
  {
   "cell_type": "code",
   "execution_count": 3,
   "metadata": {},
   "outputs": [],
   "source": [
    "precision = Precision()\n",
    "# Single predictor\n",
    "rule_precision = precision.fit(y_preds=y_pred, y_true=y, sample_weight=None)\n",
    "# Multiple predictors\n",
    "rule_precisions = precision.fit(y_preds=y_preds, y_true=y, sample_weight=None)"
   ]
  },
  {
   "cell_type": "markdown",
   "metadata": {},
   "source": [
    "#### Recall score"
   ]
  },
  {
   "cell_type": "code",
   "execution_count": 4,
   "metadata": {},
   "outputs": [],
   "source": [
    "recall = Recall()\n",
    "# Single predictor\n",
    "rule_recall = recall.fit(y_preds=y_pred, y_true=y, sample_weight=None)\n",
    "# Multiple predictors\n",
    "rule_recalls = recall.fit(y_preds=y_preds, y_true=y, sample_weight=None)"
   ]
  },
  {
   "cell_type": "markdown",
   "metadata": {},
   "source": [
    "#### Fbeta score (beta=1)"
   ]
  },
  {
   "cell_type": "code",
   "execution_count": 5,
   "metadata": {},
   "outputs": [],
   "source": [
    "f1 = FScore(beta=1)\n",
    "# Single predictor\n",
    "rule_f1 = f1.fit(y_preds=y_pred, y_true=y, sample_weight=None)\n",
    "# Multiple predictors\n",
    "rule_f1s = f1.fit(y_preds=y_preds, y_true=y, sample_weight=None)"
   ]
  },
  {
   "cell_type": "markdown",
   "metadata": {},
   "source": [
    "#### Revenue"
   ]
  },
  {
   "cell_type": "code",
   "execution_count": 6,
   "metadata": {},
   "outputs": [],
   "source": [
    "rev = Revenue(y_type='Fraud', chargeback_multiplier=2)\n",
    "# Single predictor\n",
    "rule_rev = rev.fit(y_preds=y_pred, y_true=y, sample_weight=amounts)\n",
    "# Multiple predictors\n",
    "rule_revs = rev.fit(y_preds=y_preds, y_true=y, sample_weight=amounts)"
   ]
  },
  {
   "cell_type": "markdown",
   "metadata": {},
   "source": [
    "#### Bounds"
   ]
  },
  {
   "cell_type": "code",
   "execution_count": 8,
   "metadata": {},
   "outputs": [],
   "source": [
    "bounds = Bounds(\n",
    "    bounds=[\n",
    "        {\n",
    "            'metric': precision.fit,\n",
    "            'operator': '>',\n",
    "            'threshold': 0.45\n",
    "        },\n",
    "        {\n",
    "            'metric': recall.fit,\n",
    "            'operator': '>',\n",
    "            'threshold': 0.5\n",
    "        }\n",
    "    ]\n",
    ")\n",
    "# Single predictor\n",
    "rule_bound = bounds.fit(y_preds=y_pred, y_true=y)\n",
    "# Multiple predictors\n",
    "rule_bounds = bounds.fit(y_preds=y_preds, y_true=y)"
   ]
  },
  {
   "cell_type": "markdown",
   "metadata": {},
   "source": [
    "### Outputs"
   ]
  },
  {
   "cell_type": "markdown",
   "metadata": {},
   "source": [
    "The `fit` method returns the optimisation metric defined by the class:"
   ]
  },
  {
   "cell_type": "code",
   "execution_count": 9,
   "metadata": {},
   "outputs": [
    {
     "data": {
      "text/plain": [
       "(0.48214285714285715,\n",
       " array([0.4875717 , 0.47109208, 0.47645951, 0.48850575, 0.4251497 ]))"
      ]
     },
     "execution_count": 9,
     "metadata": {},
     "output_type": "execute_result"
    }
   ],
   "source": [
    "rule_precision, rule_precisions"
   ]
  },
  {
   "cell_type": "code",
   "execution_count": 10,
   "metadata": {},
   "outputs": [
    {
     "data": {
      "text/plain": [
       "(0.5051975051975052,\n",
       " array([0.53014553, 0.45738046, 0.52598753, 0.53014553, 0.44282744]))"
      ]
     },
     "execution_count": 10,
     "metadata": {},
     "output_type": "execute_result"
    }
   ],
   "source": [
    "rule_recall, rule_recalls"
   ]
  },
  {
   "cell_type": "code",
   "execution_count": 11,
   "metadata": {},
   "outputs": [
    {
     "data": {
      "text/plain": [
       "(0.4934010152284264,\n",
       " array([0.50796813, 0.46413502, 0.5       , 0.50847458, 0.43380855]))"
      ]
     },
     "execution_count": 11,
     "metadata": {},
     "output_type": "execute_result"
    }
   ],
   "source": [
    "rule_f1, rule_f1s"
   ]
  },
  {
   "cell_type": "code",
   "execution_count": 12,
   "metadata": {},
   "outputs": [
    {
     "data": {
      "text/plain": [
       "(1991, array([ 15119, -14481,  11721,  25063, -74931]))"
      ]
     },
     "execution_count": 12,
     "metadata": {},
     "output_type": "execute_result"
    }
   ],
   "source": [
    "rule_rev, rule_revs"
   ]
  },
  {
   "cell_type": "code",
   "execution_count": 13,
   "metadata": {},
   "outputs": [
    {
     "data": {
      "text/plain": [
       "(0.501299373374265,\n",
       " array([0.50753581, 0.48934673, 0.50649652, 0.50753581, 0.48571075]))"
      ]
     },
     "execution_count": 13,
     "metadata": {},
     "output_type": "execute_result"
    }
   ],
   "source": [
    "rule_bound, rule_bounds"
   ]
  },
  {
   "cell_type": "markdown",
   "metadata": {},
   "source": [
    "The `fit` method can be fed into various Iguanas modules as an argument (wherever the `metric` parameter appears). For example, in the `RuleGeneratorOpt` module, you can set the metric used to optimise the rules using this methodology."
   ]
  },
  {
   "cell_type": "markdown",
   "metadata": {},
   "source": [
    "----"
   ]
  },
  {
   "cell_type": "markdown",
   "metadata": {},
   "source": [
    "## Creating your own optimisation function"
   ]
  },
  {
   "cell_type": "markdown",
   "metadata": {},
   "source": [
    "Say we want to create a class which calculates the Positive likelihood ratio (TP rate/FP rate)."
   ]
  },
  {
   "cell_type": "markdown",
   "metadata": {},
   "source": [
    "The main class structure involves having a `fit` method which has three arguments - the binary predictor(s), the binary target and any event specific weights to apply. This method should return a single numeric value."
   ]
  },
  {
   "cell_type": "code",
   "execution_count": 14,
   "metadata": {},
   "outputs": [],
   "source": [
    "class PositiveLikelihoodRatio:\n",
    "    \n",
    "    def fit(self,             \n",
    "            y_preds: Union[pd.Series, pd.DataFrame], \n",
    "            y_true: pd.Series, \n",
    "            sample_weight: pd.Series) -> float:\n",
    "        \n",
    "        def _calc_plr(y_true, y_preds):\n",
    "            # Calculate TPR\n",
    "            tpr = (y_true * y_preds).sum() / y_true.sum()\n",
    "            # Calculate FPR\n",
    "            fpr = ((1 - y_true) * y_preds).sum()/(1 - y_true).sum()\n",
    "            return 0 if tpr == 0 or fpr == 0 else tpr/fpr            \n",
    "        \n",
    "        if y_preds.ndim == 1:            \n",
    "            return _calc_plr(y_true, y_preds)\n",
    "        else:\n",
    "            plrs = np.empty(y_preds.shape[1])\n",
    "            for i, col in enumerate(y_preds.columns):                        \n",
    "                plrs[i] = _calc_plr(y_true, y_preds[col])\n",
    "            return plrs"
   ]
  },
  {
   "cell_type": "markdown",
   "metadata": {},
   "source": [
    "We can then apply the `fit` method to the dataset to check it works:"
   ]
  },
  {
   "cell_type": "code",
   "execution_count": 15,
   "metadata": {
    "tags": []
   },
   "outputs": [],
   "source": [
    "plr = PositiveLikelihoodRatio()\n",
    "# Single predictor\n",
    "rule_plr = plr.fit(y_preds=y_pred, y_true=y, sample_weight=None)\n",
    "# Multiple predictors\n",
    "rule_plrs = plr.fit(y_preds=y_preds, y_true=y, sample_weight=None)"
   ]
  },
  {
   "cell_type": "code",
   "execution_count": 16,
   "metadata": {},
   "outputs": [
    {
     "data": {
      "text/plain": [
       "(1.004588142519177,\n",
       " array([1.02666243, 0.96105448, 0.98196952, 1.0305076 , 0.79801195]))"
      ]
     },
     "execution_count": 16,
     "metadata": {},
     "output_type": "execute_result"
    }
   ],
   "source": [
    "rule_plr, rule_plrs"
   ]
  },
  {
   "cell_type": "markdown",
   "metadata": {},
   "source": [
    "Finally, after instantiating the class, we can feed the `fit` method to a relevant Iguanas module (for example, we can feed the `fit` method to the `metric` parameter in the `BayesianOptimiser` class so that rules are generated which maximise the Positive Likelihood Ratio)."
   ]
  },
  {
   "cell_type": "markdown",
   "metadata": {},
   "source": [
    "----"
   ]
  }
 ],
 "metadata": {
  "interpreter": {
   "hash": "6a5a22224d030f6805b27da964f50b3905be89918ca593f843e32c3b2a80fa84"
  },
  "kernelspec": {
   "display_name": "Python 3 (ipykernel)",
   "language": "python",
   "name": "python3"
  },
  "language_info": {
   "codemirror_mode": {
    "name": "ipython",
    "version": 3
   },
   "file_extension": ".py",
   "mimetype": "text/x-python",
   "name": "python",
   "nbconvert_exporter": "python",
   "pygments_lexer": "ipython3",
   "version": "3.8.9"
  }
 },
 "nbformat": 4,
 "nbformat_minor": 4
}
