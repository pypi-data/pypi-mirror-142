{
 "cells": [
  {
   "cell_type": "markdown",
   "source": [
    "# Rule-Based System (RBS) Optimiser Example"
   ],
   "metadata": {}
  },
  {
   "cell_type": "markdown",
   "source": [
    "The RBS Optimiser is used to optimise which rules are leveraged to generate decisions as part of an RBS Pipeline.\n",
    "\n",
    "An RBS Pipeline allows a user to configure a logical flow for decisioning events. Each stage in the pipeline consists of a set of rules which are linked to a decision. The decision that is applied to each event is dictated by the rule(s) that trigger first.\n",
    "\n",
    "For example, in the case of approving and rejecting transactions for a e-commerce transaction use case, you might have 3 approve rules and 3 reject rules. These rules could be used in an RBS Pipeline to approve and reject transactions like so:\n",
    "\n",
    "1. If any approve rules trigger, approve the transaction.\n",
    "2. If no approve rules trigger, but any reject rules trigger, reject the transaction.\n",
    "3. If no rules trigger, approve any remaining transactions.\n",
    "\n",
    "This example shows how we can create and optimise this RBS Pipeline."
   ],
   "metadata": {}
  },
  {
   "cell_type": "markdown",
   "source": [
    "## Requirements"
   ],
   "metadata": {}
  },
  {
   "cell_type": "markdown",
   "source": [
    "To run, you'll need the following:\n",
    "\n",
    "* A set of rules that you want to use in the RBS (in this example, we'll generate these).\n",
    "* A labelled, processed dataset (nulls imputed, categorical features encoded)."
   ],
   "metadata": {}
  },
  {
   "cell_type": "markdown",
   "source": [
    "----"
   ],
   "metadata": {}
  },
  {
   "cell_type": "markdown",
   "source": [
    "## Import packages"
   ],
   "metadata": {}
  },
  {
   "cell_type": "code",
   "execution_count": 1,
   "source": [
    "from iguanas.rule_generation import RuleGeneratorDT\n",
    "from iguanas.rbs import RBSPipeline, RBSOptimiser\n",
    "from iguanas.metrics.classification import FScore\n",
    "\n",
    "import pandas as pd\n",
    "from sklearn.ensemble import RandomForestClassifier\n",
    "from sklearn.metrics import confusion_matrix, ConfusionMatrixDisplay, classification_report"
   ],
   "outputs": [],
   "metadata": {}
  },
  {
   "cell_type": "markdown",
   "source": [
    "## Read in data"
   ],
   "metadata": {}
  },
  {
   "cell_type": "markdown",
   "source": [
    "Let's read in some labelled, processed dummy data:"
   ],
   "metadata": {}
  },
  {
   "cell_type": "code",
   "execution_count": 2,
   "source": [
    "X_train = pd.read_csv(\n",
    "    'dummy_data/X_train.csv', \n",
    "    index_col='eid'\n",
    ")\n",
    "y_train = pd.read_csv(\n",
    "    'dummy_data/y_train.csv', \n",
    "    index_col='eid'\n",
    ").squeeze()\n",
    "X_test = pd.read_csv(\n",
    "    'dummy_data/X_test.csv', \n",
    "    index_col='eid'\n",
    ")\n",
    "y_test = pd.read_csv(\n",
    "    'dummy_data/y_test.csv', \n",
    "    index_col='eid'\n",
    ").squeeze()"
   ],
   "outputs": [],
   "metadata": {}
  },
  {
   "cell_type": "markdown",
   "source": [
    "----"
   ],
   "metadata": {}
  },
  {
   "cell_type": "markdown",
   "source": [
    "## Generate rules"
   ],
   "metadata": {}
  },
  {
   "cell_type": "markdown",
   "source": [
    "Let's first generate some rules (both for approving and rejecting transactions) that we'll use later in our RBS Pipeline.\n",
    "\n",
    "**Note:** in this dataset, positive cases in the target column refers to a fraudulent transaction, so we'll need to flip `y` when generating approve rules."
   ],
   "metadata": {}
  },
  {
   "cell_type": "markdown",
   "source": [
    "### Reject rules"
   ],
   "metadata": {}
  },
  {
   "cell_type": "code",
   "execution_count": 3,
   "source": [
    "fs = FScore(beta=1)"
   ],
   "outputs": [],
   "metadata": {}
  },
  {
   "cell_type": "code",
   "execution_count": 4,
   "source": [
    "params = {\n",
    "    'n_total_conditions': 4,\n",
    "    'metric': fs.fit,\n",
    "    'tree_ensemble': RandomForestClassifier(n_estimators=5, random_state=0, bootstrap=False),\n",
    "    'precision_threshold': 0,\n",
    "    'num_cores': 1,\n",
    "    'target_feat_corr_types': 'Infer',\n",
    "    'verbose': 0,\n",
    "    'rule_name_prefix': 'RejectRule'\n",
    "}"
   ],
   "outputs": [],
   "metadata": {}
  },
  {
   "cell_type": "code",
   "execution_count": 5,
   "source": [
    "rg_reject = RuleGeneratorDT(**params)"
   ],
   "outputs": [],
   "metadata": {}
  },
  {
   "cell_type": "code",
   "execution_count": 6,
   "source": [
    "X_rules_reject = rg_reject.fit(\n",
    "    X=X_train, \n",
    "    y=y_train, \n",
    "    sample_weight=None\n",
    ")"
   ],
   "outputs": [],
   "metadata": {
    "scrolled": true
   }
  },
  {
   "cell_type": "markdown",
   "source": [
    "### Approve rules"
   ],
   "metadata": {}
  },
  {
   "cell_type": "code",
   "execution_count": 7,
   "source": [
    "params = {\n",
    "    'n_total_conditions': 4,\n",
    "    'metric': fs.fit,\n",
    "    'tree_ensemble': RandomForestClassifier(n_estimators=2, random_state=0, bootstrap=False),\n",
    "    'precision_threshold': 0,\n",
    "    'num_cores': 1,\n",
    "    'target_feat_corr_types': 'Infer',\n",
    "    'verbose': 0,\n",
    "    'rule_name_prefix': 'ApproveRule'\n",
    "}"
   ],
   "outputs": [],
   "metadata": {}
  },
  {
   "cell_type": "code",
   "execution_count": 8,
   "source": [
    "rg_approve = RuleGeneratorDT(**params)"
   ],
   "outputs": [],
   "metadata": {}
  },
  {
   "cell_type": "code",
   "execution_count": 9,
   "source": [
    "X_rules_approve = rg_approve.fit(\n",
    "    X=X_train, \n",
    "    y=(1-y_train), # We flip y here so non-fraudulent transactions become the target\n",
    "    sample_weight=None\n",
    ")"
   ],
   "outputs": [],
   "metadata": {}
  },
  {
   "cell_type": "markdown",
   "source": [
    "Now let's combine the binary columns of the approve and reject rules into one dataframe:"
   ],
   "metadata": {}
  },
  {
   "cell_type": "code",
   "execution_count": 10,
   "source": [
    "X_rules = pd.concat([X_rules_reject, X_rules_approve], axis=1)"
   ],
   "outputs": [],
   "metadata": {}
  },
  {
   "cell_type": "code",
   "execution_count": 11,
   "source": [
    "X_rules.head()"
   ],
   "outputs": [
    {
     "output_type": "execute_result",
     "data": {
      "text/plain": [
       "                     RejectRule_0  RejectRule_1  RejectRule_2  RejectRule_3  \\\n",
       "eid                                                                           \n",
       "867-8837095-9305559             0             0             0             0   \n",
       "974-5306287-3527394             0             0             0             0   \n",
       "584-0112844-9158928             0             0             0             0   \n",
       "956-4190732-7014837             0             0             0             0   \n",
       "349-7005645-8862067             0             0             0             0   \n",
       "\n",
       "                     RejectRule_4  RejectRule_5  RejectRule_6  RejectRule_7  \\\n",
       "eid                                                                           \n",
       "867-8837095-9305559             0             0             0             0   \n",
       "974-5306287-3527394             0             0             0             0   \n",
       "584-0112844-9158928             0             0             0             0   \n",
       "956-4190732-7014837             0             0             0             0   \n",
       "349-7005645-8862067             0             0             0             0   \n",
       "\n",
       "                     RejectRule_8  RejectRule_9  ...  RejectRule_11  \\\n",
       "eid                                              ...                  \n",
       "867-8837095-9305559             0             0  ...              0   \n",
       "974-5306287-3527394             0             0  ...              0   \n",
       "584-0112844-9158928             0             0  ...              0   \n",
       "956-4190732-7014837             0             0  ...              0   \n",
       "349-7005645-8862067             0             0  ...              0   \n",
       "\n",
       "                     RejectRule_12  RejectRule_13  RejectRule_14  \\\n",
       "eid                                                                \n",
       "867-8837095-9305559              0              0              0   \n",
       "974-5306287-3527394              0              0              0   \n",
       "584-0112844-9158928              0              0              0   \n",
       "956-4190732-7014837              0              0              0   \n",
       "349-7005645-8862067              0              0              0   \n",
       "\n",
       "                     ApproveRule_0  ApproveRule_1  ApproveRule_2  \\\n",
       "eid                                                                \n",
       "867-8837095-9305559              1              1              1   \n",
       "974-5306287-3527394              1              1              1   \n",
       "584-0112844-9158928              1              1              1   \n",
       "956-4190732-7014837              1              1              1   \n",
       "349-7005645-8862067              1              1              1   \n",
       "\n",
       "                     ApproveRule_3  ApproveRule_4  ApproveRule_5  \n",
       "eid                                                               \n",
       "867-8837095-9305559              1              1              1  \n",
       "974-5306287-3527394              1              1              1  \n",
       "584-0112844-9158928              1              1              1  \n",
       "956-4190732-7014837              1              1              1  \n",
       "349-7005645-8862067              1              1              1  \n",
       "\n",
       "[5 rows x 21 columns]"
      ],
      "text/html": [
       "<div>\n",
       "<style scoped>\n",
       "    .dataframe tbody tr th:only-of-type {\n",
       "        vertical-align: middle;\n",
       "    }\n",
       "\n",
       "    .dataframe tbody tr th {\n",
       "        vertical-align: top;\n",
       "    }\n",
       "\n",
       "    .dataframe thead th {\n",
       "        text-align: right;\n",
       "    }\n",
       "</style>\n",
       "<table border=\"1\" class=\"dataframe\">\n",
       "  <thead>\n",
       "    <tr style=\"text-align: right;\">\n",
       "      <th></th>\n",
       "      <th>RejectRule_0</th>\n",
       "      <th>RejectRule_1</th>\n",
       "      <th>RejectRule_2</th>\n",
       "      <th>RejectRule_3</th>\n",
       "      <th>RejectRule_4</th>\n",
       "      <th>RejectRule_5</th>\n",
       "      <th>RejectRule_6</th>\n",
       "      <th>RejectRule_7</th>\n",
       "      <th>RejectRule_8</th>\n",
       "      <th>RejectRule_9</th>\n",
       "      <th>...</th>\n",
       "      <th>RejectRule_11</th>\n",
       "      <th>RejectRule_12</th>\n",
       "      <th>RejectRule_13</th>\n",
       "      <th>RejectRule_14</th>\n",
       "      <th>ApproveRule_0</th>\n",
       "      <th>ApproveRule_1</th>\n",
       "      <th>ApproveRule_2</th>\n",
       "      <th>ApproveRule_3</th>\n",
       "      <th>ApproveRule_4</th>\n",
       "      <th>ApproveRule_5</th>\n",
       "    </tr>\n",
       "    <tr>\n",
       "      <th>eid</th>\n",
       "      <th></th>\n",
       "      <th></th>\n",
       "      <th></th>\n",
       "      <th></th>\n",
       "      <th></th>\n",
       "      <th></th>\n",
       "      <th></th>\n",
       "      <th></th>\n",
       "      <th></th>\n",
       "      <th></th>\n",
       "      <th></th>\n",
       "      <th></th>\n",
       "      <th></th>\n",
       "      <th></th>\n",
       "      <th></th>\n",
       "      <th></th>\n",
       "      <th></th>\n",
       "      <th></th>\n",
       "      <th></th>\n",
       "      <th></th>\n",
       "      <th></th>\n",
       "    </tr>\n",
       "  </thead>\n",
       "  <tbody>\n",
       "    <tr>\n",
       "      <th>867-8837095-9305559</th>\n",
       "      <td>0</td>\n",
       "      <td>0</td>\n",
       "      <td>0</td>\n",
       "      <td>0</td>\n",
       "      <td>0</td>\n",
       "      <td>0</td>\n",
       "      <td>0</td>\n",
       "      <td>0</td>\n",
       "      <td>0</td>\n",
       "      <td>0</td>\n",
       "      <td>...</td>\n",
       "      <td>0</td>\n",
       "      <td>0</td>\n",
       "      <td>0</td>\n",
       "      <td>0</td>\n",
       "      <td>1</td>\n",
       "      <td>1</td>\n",
       "      <td>1</td>\n",
       "      <td>1</td>\n",
       "      <td>1</td>\n",
       "      <td>1</td>\n",
       "    </tr>\n",
       "    <tr>\n",
       "      <th>974-5306287-3527394</th>\n",
       "      <td>0</td>\n",
       "      <td>0</td>\n",
       "      <td>0</td>\n",
       "      <td>0</td>\n",
       "      <td>0</td>\n",
       "      <td>0</td>\n",
       "      <td>0</td>\n",
       "      <td>0</td>\n",
       "      <td>0</td>\n",
       "      <td>0</td>\n",
       "      <td>...</td>\n",
       "      <td>0</td>\n",
       "      <td>0</td>\n",
       "      <td>0</td>\n",
       "      <td>0</td>\n",
       "      <td>1</td>\n",
       "      <td>1</td>\n",
       "      <td>1</td>\n",
       "      <td>1</td>\n",
       "      <td>1</td>\n",
       "      <td>1</td>\n",
       "    </tr>\n",
       "    <tr>\n",
       "      <th>584-0112844-9158928</th>\n",
       "      <td>0</td>\n",
       "      <td>0</td>\n",
       "      <td>0</td>\n",
       "      <td>0</td>\n",
       "      <td>0</td>\n",
       "      <td>0</td>\n",
       "      <td>0</td>\n",
       "      <td>0</td>\n",
       "      <td>0</td>\n",
       "      <td>0</td>\n",
       "      <td>...</td>\n",
       "      <td>0</td>\n",
       "      <td>0</td>\n",
       "      <td>0</td>\n",
       "      <td>0</td>\n",
       "      <td>1</td>\n",
       "      <td>1</td>\n",
       "      <td>1</td>\n",
       "      <td>1</td>\n",
       "      <td>1</td>\n",
       "      <td>1</td>\n",
       "    </tr>\n",
       "    <tr>\n",
       "      <th>956-4190732-7014837</th>\n",
       "      <td>0</td>\n",
       "      <td>0</td>\n",
       "      <td>0</td>\n",
       "      <td>0</td>\n",
       "      <td>0</td>\n",
       "      <td>0</td>\n",
       "      <td>0</td>\n",
       "      <td>0</td>\n",
       "      <td>0</td>\n",
       "      <td>0</td>\n",
       "      <td>...</td>\n",
       "      <td>0</td>\n",
       "      <td>0</td>\n",
       "      <td>0</td>\n",
       "      <td>0</td>\n",
       "      <td>1</td>\n",
       "      <td>1</td>\n",
       "      <td>1</td>\n",
       "      <td>1</td>\n",
       "      <td>1</td>\n",
       "      <td>1</td>\n",
       "    </tr>\n",
       "    <tr>\n",
       "      <th>349-7005645-8862067</th>\n",
       "      <td>0</td>\n",
       "      <td>0</td>\n",
       "      <td>0</td>\n",
       "      <td>0</td>\n",
       "      <td>0</td>\n",
       "      <td>0</td>\n",
       "      <td>0</td>\n",
       "      <td>0</td>\n",
       "      <td>0</td>\n",
       "      <td>0</td>\n",
       "      <td>...</td>\n",
       "      <td>0</td>\n",
       "      <td>0</td>\n",
       "      <td>0</td>\n",
       "      <td>0</td>\n",
       "      <td>1</td>\n",
       "      <td>1</td>\n",
       "      <td>1</td>\n",
       "      <td>1</td>\n",
       "      <td>1</td>\n",
       "      <td>1</td>\n",
       "    </tr>\n",
       "  </tbody>\n",
       "</table>\n",
       "<p>5 rows × 21 columns</p>\n",
       "</div>"
      ]
     },
     "metadata": {},
     "execution_count": 11
    }
   ],
   "metadata": {}
  },
  {
   "cell_type": "code",
   "execution_count": 12,
   "source": [
    "X_rules_reject.shape[1], X_rules_approve.shape[1]"
   ],
   "outputs": [
    {
     "output_type": "execute_result",
     "data": {
      "text/plain": [
       "(15, 6)"
      ]
     },
     "metadata": {},
     "execution_count": 12
    }
   ],
   "metadata": {}
  },
  {
   "cell_type": "markdown",
   "source": [
    "## Setting up the RBS Pipeline"
   ],
   "metadata": {}
  },
  {
   "cell_type": "markdown",
   "source": [
    "Now, let's set up our RBS Pipeline using the rules we've generated. To reiterate our approach:\n",
    "\n",
    "1. If any approve rules trigger, approve the transaction.\n",
    "2. If no approve rules trigger, but any reject rules trigger, reject the transaction.\n",
    "3. If no rules trigger, approve any remaining transactions.\n",
    "\n",
    "To set up the pipeline using the logic above, we first need to create the `config` parameter. This is just a list which outlines the stages of the pipeline. Each stage should be defined using a tuple of two elements: \n",
    "\n",
    "1. The first element should be an integer which corresponds to the decision made at that stage (either `0` or `1`)\n",
    "2. The second element should be a list that dictates which rules should trigger for that decision to be made.\n",
    "\n",
    "In our example, the `config` will be:"
   ],
   "metadata": {}
  },
  {
   "cell_type": "code",
   "execution_count": 13,
   "source": [
    "config = [\n",
    "    (0, X_rules_approve.columns.tolist()),\n",
    "    (1, X_rules_reject.columns.tolist()),    \n",
    "]"
   ],
   "outputs": [],
   "metadata": {}
  },
  {
   "cell_type": "markdown",
   "source": [
    "Here, the first stage is configured via the tuple in the first element of the list. This says to apply a decision of `0` (i.e. approve) to transactions where the approve rules have triggered. The second stage is configured via the tuple in the second element of the list. This says to apply a decision of `1` (i.e. reject) to transactions where the reject rules have triggered (**and no approve rules have triggered**).\n",
    "\n",
    "We also need to specify the final decision to be made if no rules are triggered - this is set via the `final_decision` parameter. In our case this should be `0`, as we want to approve any remaining transactions:"
   ],
   "metadata": {}
  },
  {
   "cell_type": "code",
   "execution_count": 14,
   "source": [
    "final_decision = 0"
   ],
   "outputs": [],
   "metadata": {}
  },
  {
   "cell_type": "markdown",
   "source": [
    "With these parameters configured, we can now create our RBS Pipeline by instantiating the `RBSPipeline` class:"
   ],
   "metadata": {}
  },
  {
   "cell_type": "code",
   "execution_count": 15,
   "source": [
    "rbsp = RBSPipeline(\n",
    "    config=config,\n",
    "    final_decision=final_decision\n",
    ")"
   ],
   "outputs": [],
   "metadata": {}
  },
  {
   "cell_type": "markdown",
   "source": [
    "We can then apply the pipeline to the dataset using the `predict` method:"
   ],
   "metadata": {}
  },
  {
   "cell_type": "code",
   "execution_count": 16,
   "source": [
    "y_pred_init = rbsp.predict(\n",
    "    X_rules=X_rules\n",
    ")"
   ],
   "outputs": [],
   "metadata": {}
  },
  {
   "cell_type": "markdown",
   "source": [
    "### Outputs"
   ],
   "metadata": {}
  },
  {
   "cell_type": "markdown",
   "source": [
    "The `predict` method returns the prediction of the pipeline by applying the pipeline to the given dataset."
   ],
   "metadata": {}
  },
  {
   "cell_type": "markdown",
   "source": [
    "We can use Sklearn's *classification_report* and *confusion_matrix* functions to generate some performance metrics for the pipeline:"
   ],
   "metadata": {}
  },
  {
   "cell_type": "code",
   "execution_count": 17,
   "source": [
    "print(\n",
    "    classification_report(\n",
    "        y_true=y_train, \n",
    "        y_pred=y_pred_init, \n",
    "        digits=4\n",
    "    )\n",
    ")"
   ],
   "outputs": [
    {
     "output_type": "stream",
     "name": "stdout",
     "text": [
      "              precision    recall  f1-score   support\n",
      "\n",
      "         0.0     0.9748    1.0000    0.9872      8651\n",
      "         1.0     1.0000    0.0782    0.1450       243\n",
      "\n",
      "    accuracy                         0.9748      8894\n",
      "   macro avg     0.9874    0.5391    0.5661      8894\n",
      "weighted avg     0.9755    0.9748    0.9642      8894\n",
      "\n"
     ]
    }
   ],
   "metadata": {}
  },
  {
   "cell_type": "code",
   "execution_count": 18,
   "source": [
    "cm = ConfusionMatrixDisplay(\n",
    "    confusion_matrix(\n",
    "        y_true=y_train, \n",
    "        y_pred=y_pred_init\n",
    "    )\n",
    ")\n",
    "cm.plot()"
   ],
   "outputs": [
    {
     "output_type": "execute_result",
     "data": {
      "text/plain": [
       "<sklearn.metrics._plot.confusion_matrix.ConfusionMatrixDisplay at 0x7fb1d1f2b160>"
      ]
     },
     "metadata": {},
     "execution_count": 18
    },
    {
     "output_type": "display_data",
     "data": {
      "text/plain": [
       "<Figure size 432x288 with 2 Axes>"
      ],
      "image/png": "[encoded data removed]"
     },
     "metadata": {
      "needs_background": "light"
     }
    }
   ],
   "metadata": {}
  },
  {
   "cell_type": "markdown",
   "source": [
    "## Optimising the RBS Pipeline"
   ],
   "metadata": {}
  },
  {
   "cell_type": "markdown",
   "source": [
    "Now that we have our basic RBS Pipeline set up, we can optimise it using the RBS Optimiser. Here, we just pass the instatiated pipeline class to the `pipeline` parameter in the `RBSOptimiser` class:"
   ],
   "metadata": {}
  },
  {
   "cell_type": "code",
   "execution_count": 19,
   "source": [
    "rbso = RBSOptimiser(\n",
    "    pipeline=rbsp, \n",
    "    metric=fs.fit,\n",
    "    n_iter=60, \n",
    "    verbose=1\n",
    ")"
   ],
   "outputs": [],
   "metadata": {}
  },
  {
   "cell_type": "markdown",
   "source": [
    "Then we run the `fit_predict` method to optimise the pipeline using the given dataset, then apply it to the dataset:"
   ],
   "metadata": {}
  },
  {
   "cell_type": "code",
   "execution_count": 20,
   "source": [
    "y_pred_opt = rbso.fit_predict(\n",
    "    X_rules=X_rules, \n",
    "    y=y_train\n",
    ")"
   ],
   "outputs": [
    {
     "output_type": "stream",
     "name": "stdout",
     "text": [
      "100%|████████████████████████████████████████████████████████████████████████████████████████████████████████████████████████████████████████████████████████████████████████████████████████████████████████████████████████████████████| 60/60 [00:01<00:00, 43.68trial/s, best loss: -0.9959016393442623]\n"
     ]
    }
   ],
   "metadata": {}
  },
  {
   "cell_type": "markdown",
   "source": [
    "### Outputs"
   ],
   "metadata": {}
  },
  {
   "cell_type": "markdown",
   "source": [
    "The `fit_predict` method optimises the pipeline and returns the prediction of the optimised pipeline by applying it to the given dataset. See the `Attributes` section in the class docstring for a description of each attribute generated:"
   ],
   "metadata": {}
  },
  {
   "cell_type": "code",
   "execution_count": 21,
   "source": [
    "rbso.config"
   ],
   "outputs": [
    {
     "output_type": "execute_result",
     "data": {
      "text/plain": [
       "[(0, ['ApproveRule_0']),\n",
       " (1, ['RejectRule_8', 'RejectRule_9', 'RejectRule_13'])]"
      ]
     },
     "metadata": {},
     "execution_count": 21
    }
   ],
   "metadata": {}
  },
  {
   "cell_type": "markdown",
   "source": [
    "We can use Sklearn's *classification_report* and *confusion_matrix* functions to generate some performance metrics for the pipeline:"
   ],
   "metadata": {}
  },
  {
   "cell_type": "code",
   "execution_count": 22,
   "source": [
    "print(\n",
    "    classification_report(\n",
    "        y_true=y_train, \n",
    "        y_pred=y_pred_opt, \n",
    "        digits=4\n",
    "    )\n",
    ")"
   ],
   "outputs": [
    {
     "output_type": "stream",
     "name": "stdout",
     "text": [
      "              precision    recall  f1-score   support\n",
      "\n",
      "         0.0     1.0000    0.9998    0.9999      8651\n",
      "         1.0     0.9918    1.0000    0.9959       243\n",
      "\n",
      "    accuracy                         0.9998      8894\n",
      "   macro avg     0.9959    0.9999    0.9979      8894\n",
      "weighted avg     0.9998    0.9998    0.9998      8894\n",
      "\n"
     ]
    }
   ],
   "metadata": {}
  },
  {
   "cell_type": "code",
   "execution_count": 23,
   "source": [
    "cm = ConfusionMatrixDisplay(\n",
    "    confusion_matrix(\n",
    "        y_true=y_train, \n",
    "        y_pred=y_pred_opt\n",
    "    )\n",
    ")\n",
    "cm.plot()"
   ],
   "outputs": [
    {
     "output_type": "execute_result",
     "data": {
      "text/plain": [
       "<sklearn.metrics._plot.confusion_matrix.ConfusionMatrixDisplay at 0x7fb1f843f160>"
      ]
     },
     "metadata": {},
     "execution_count": 23
    },
    {
     "output_type": "display_data",
     "data": {
      "text/plain": [
       "<Figure size 432x288 with 2 Axes>"
      ],
      "image/png": "[encoded data removed]"
     },
     "metadata": {
      "needs_background": "light"
     }
    }
   ],
   "metadata": {}
  },
  {
   "cell_type": "markdown",
   "source": [
    "By comparing these performance metrics to those of the original pipeline, we can see that the RBS Optimiser has indeed  improved the performance of the original RBS Pipeline:"
   ],
   "metadata": {}
  },
  {
   "cell_type": "code",
   "execution_count": 24,
   "source": [
    "print(f'Original RBS Pipeline F1 score: {fs.fit(y_pred_init, y_train)}')\n",
    "print(f'Optimised RBS Pipeline F1 score: {fs.fit(y_pred_opt, y_train)}')"
   ],
   "outputs": [
    {
     "output_type": "stream",
     "name": "stdout",
     "text": [
      "Original RBS Pipeline F1 score: 0.14503816793893132\n",
      "Optimised RBS Pipeline F1 score: 0.9959016393442623\n"
     ]
    }
   ],
   "metadata": {}
  },
  {
   "cell_type": "markdown",
   "source": [
    "----"
   ],
   "metadata": {}
  },
  {
   "cell_type": "markdown",
   "source": [
    "## Optimising the RBS Pipeline (without a `config`)"
   ],
   "metadata": {}
  },
  {
   "cell_type": "markdown",
   "source": [
    "In the previous example, we instantiated a pipeline with a `config` before optimising. \n",
    "\n",
    "However, if we don't know what structure the `config` should have, or don't have any requirements for its structure, we can use the RBS Optimiser to generate a new `config` from scratch, which will optimise the overall performance of the RBS Pipeline.\n",
    "\n",
    "To do this, we follow a similar process as before - **the only difference being that we instantiate the RBS Pipeline with an empty dictionary for the** `config` **parameter**:"
   ],
   "metadata": {}
  },
  {
   "cell_type": "code",
   "execution_count": 25,
   "source": [
    "rbsp = RBSPipeline(\n",
    "    config=[], # Empty config\n",
    "    final_decision=final_decision\n",
    ")"
   ],
   "outputs": [],
   "metadata": {}
  },
  {
   "cell_type": "markdown",
   "source": [
    "We feed this pipeline into the RBS Optimiser as before, but this time provide an extra parameter - `rule_types` - which is just a dictionary showing which decision (`0` or `1`) should be linked to each set of rules:"
   ],
   "metadata": {}
  },
  {
   "cell_type": "code",
   "execution_count": 26,
   "source": [
    "rbso = RBSOptimiser(\n",
    "    pipeline=rbsp, \n",
    "    metric=fs.fit,\n",
    "    n_iter=15, \n",
    "    pos_pred_rules=X_rules_reject.columns.tolist(),\n",
    "    neg_pred_rules=X_rules_approve.columns.tolist(),\n",
    "    verbose=1\n",
    ")"
   ],
   "outputs": [],
   "metadata": {}
  },
  {
   "cell_type": "markdown",
   "source": [
    "Then we run the `fit_predict` method to optimise the pipeline using the given dataset, then apply it to the dataset:"
   ],
   "metadata": {}
  },
  {
   "cell_type": "code",
   "execution_count": 27,
   "source": [
    "y_pred_opt = rbso.fit_predict(\n",
    "    X_rules=X_rules,\n",
    "    y=y_train\n",
    ")"
   ],
   "outputs": [
    {
     "output_type": "stream",
     "name": "stdout",
     "text": [
      "100%|████████████████████████████████████████████████████████████████████████████████████████████████████████████████████████████████████████████████████████████████████████████████████████████████████████████████████████████████████| 15/15 [00:00<00:00, 16.41trial/s, best loss: -0.9959016393442623]\n"
     ]
    }
   ],
   "metadata": {}
  },
  {
   "cell_type": "markdown",
   "source": [
    "### Outputs"
   ],
   "metadata": {}
  },
  {
   "cell_type": "markdown",
   "source": [
    "The `fit_predict` method optimises the pipeline and returns the prediction of the optimised pipeline by applying it to the given dataset. See the `Attributes` section in the class docstring for a description of each attribute generated:"
   ],
   "metadata": {}
  },
  {
   "cell_type": "code",
   "execution_count": 28,
   "source": [
    "rbso.config"
   ],
   "outputs": [
    {
     "output_type": "execute_result",
     "data": {
      "text/plain": [
       "[(0, ['ApproveRule_0', 'ApproveRule_1']),\n",
       " (1, ['RejectRule_4', 'RejectRule_8', 'RejectRule_13']),\n",
       " (0, ['ApproveRule_3']),\n",
       " (1, ['RejectRule_14', 'RejectRule_7', 'RejectRule_1']),\n",
       " (0, ['ApproveRule_2']),\n",
       " (1, ['RejectRule_6'])]"
      ]
     },
     "metadata": {},
     "execution_count": 28
    }
   ],
   "metadata": {}
  },
  {
   "cell_type": "markdown",
   "source": [
    "We can use Sklearn's *classification_report* and *confusion_matrix* functions to generate some performance metrics for the pipeline:"
   ],
   "metadata": {}
  },
  {
   "cell_type": "code",
   "execution_count": 29,
   "source": [
    "print(\n",
    "    classification_report(\n",
    "        y_true=y_train, \n",
    "        y_pred=y_pred_opt, \n",
    "        digits=4\n",
    "    )\n",
    ")"
   ],
   "outputs": [
    {
     "output_type": "stream",
     "name": "stdout",
     "text": [
      "              precision    recall  f1-score   support\n",
      "\n",
      "         0.0     1.0000    0.9998    0.9999      8651\n",
      "         1.0     0.9918    1.0000    0.9959       243\n",
      "\n",
      "    accuracy                         0.9998      8894\n",
      "   macro avg     0.9959    0.9999    0.9979      8894\n",
      "weighted avg     0.9998    0.9998    0.9998      8894\n",
      "\n"
     ]
    }
   ],
   "metadata": {}
  },
  {
   "cell_type": "code",
   "execution_count": 30,
   "source": [
    "cm = ConfusionMatrixDisplay(\n",
    "    confusion_matrix(\n",
    "        y_true=y_train, \n",
    "        y_pred=y_pred_opt\n",
    "    )\n",
    ")\n",
    "cm.plot()"
   ],
   "outputs": [
    {
     "output_type": "execute_result",
     "data": {
      "text/plain": [
       "<sklearn.metrics._plot.confusion_matrix.ConfusionMatrixDisplay at 0x7fb211340280>"
      ]
     },
     "metadata": {},
     "execution_count": 30
    },
    {
     "output_type": "display_data",
     "data": {
      "text/plain": [
       "<Figure size 432x288 with 2 Axes>"
      ],
      "image/png": "[encoded data removed]"
     },
     "metadata": {
      "needs_background": "light"
     }
    }
   ],
   "metadata": {}
  },
  {
   "cell_type": "markdown",
   "source": [
    "---"
   ],
   "metadata": {}
  }
 ],
 "metadata": {
  "kernelspec": {
   "name": "python3",
   "display_name": "Python 3.8.9 64-bit ('iguanas_os_dev': venv)"
  },
  "language_info": {
   "codemirror_mode": {
    "name": "ipython",
    "version": 3
   },
   "file_extension": ".py",
   "mimetype": "text/x-python",
   "name": "python",
   "nbconvert_exporter": "python",
   "pygments_lexer": "ipython3",
   "version": "3.8.9"
  },
  "interpreter": {
   "hash": "6a5a22224d030f6805b27da964f50b3905be89918ca593f843e32c3b2a80fa84"
  }
 },
 "nbformat": 4,
 "nbformat_minor": 4
}