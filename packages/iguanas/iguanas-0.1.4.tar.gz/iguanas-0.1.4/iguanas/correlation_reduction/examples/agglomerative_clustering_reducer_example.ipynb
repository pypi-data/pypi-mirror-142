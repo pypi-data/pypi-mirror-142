{
 "cells": [
  {
   "cell_type": "markdown",
   "metadata": {},
   "source": [
    "# AgglomerativeClusteringReducer Example"
   ]
  },
  {
   "cell_type": "markdown",
   "metadata": {},
   "source": [
    "The `AgglomerativeClusteringReducer` class can be used to remove correlated rules from a dataset. It can also be used to remove correlated features from a rule set."
   ]
  },
  {
   "cell_type": "markdown",
   "metadata": {},
   "source": [
    "## Requirements"
   ]
  },
  {
   "cell_type": "markdown",
   "metadata": {},
   "source": [
    "To run, you'll need the following:\n",
    "\n",
    "* A dataset or rule set (in the case of a rule set, you need to provide the binary columns of the rules, which show, for every row in the data, whether or not each rule has triggered)."
   ]
  },
  {
   "cell_type": "markdown",
   "metadata": {},
   "source": [
    "----"
   ]
  },
  {
   "cell_type": "markdown",
   "metadata": {},
   "source": [
    "## Import packages"
   ]
  },
  {
   "cell_type": "code",
   "execution_count": 2,
   "metadata": {},
   "outputs": [],
   "source": [
    "from iguanas.correlation_reduction import AgglomerativeClusteringReducer\n",
    "from iguanas.metrics.pairwise import CosineSimilarity\n",
    "\n",
    "import pandas as pd"
   ]
  },
  {
   "cell_type": "markdown",
   "metadata": {},
   "source": [
    "## Read in data"
   ]
  },
  {
   "cell_type": "markdown",
   "metadata": {},
   "source": [
    "Let's read in some dummy data."
   ]
  },
  {
   "cell_type": "code",
   "execution_count": 3,
   "metadata": {},
   "outputs": [],
   "source": [
    "X_train = pd.read_csv(\n",
    "    'dummy_data/X_train.csv', \n",
    "    index_col='eid'\n",
    ")\n",
    "X_test = pd.read_csv(\n",
    "    'dummy_data/X_test.csv', \n",
    "    index_col='eid'\n",
    ")"
   ]
  },
  {
   "cell_type": "markdown",
   "metadata": {},
   "source": [
    "----"
   ]
  },
  {
   "cell_type": "markdown",
   "metadata": {},
   "source": [
    "## Find correlated features"
   ]
  },
  {
   "cell_type": "markdown",
   "metadata": {},
   "source": [
    "### Set up class parameters"
   ]
  },
  {
   "cell_type": "markdown",
   "metadata": {},
   "source": [
    "Now we can set our class parameters. Here we're using the cosine similarity as the similarity metric (you can choose a different function from the *metrics.pairwise* module, or create your own - see the *pairwise.ipynb* example notebook for more information).\n",
    "\n",
    "**Please see the class docstring for more information on each parameter.**"
   ]
  },
  {
   "cell_type": "code",
   "execution_count": 4,
   "metadata": {},
   "outputs": [],
   "source": [
    "cs = CosineSimilarity()"
   ]
  },
  {
   "cell_type": "code",
   "execution_count": 5,
   "metadata": {},
   "outputs": [],
   "source": [
    "params = {\n",
    "    'threshold': 0.75,\n",
    "    'strategy': 'bottom_up',\n",
    "    'similarity_function': cs.fit,\n",
    "    'metric': None,\n",
    "}"
   ]
  },
  {
   "cell_type": "markdown",
   "metadata": {},
   "source": [
    "### Instantiate class and run fit method"
   ]
  },
  {
   "cell_type": "markdown",
   "metadata": {},
   "source": [
    "Once the parameters have been set, we can run the `.fit` method to identify the columns that should be kept."
   ]
  },
  {
   "cell_type": "code",
   "execution_count": 6,
   "metadata": {},
   "outputs": [],
   "source": [
    "agg = AgglomerativeClusteringReducer(**params)\n",
    "agg.fit(X=X_train)"
   ]
  },
  {
   "cell_type": "markdown",
   "metadata": {},
   "source": [
    "### Outputs"
   ]
  },
  {
   "cell_type": "markdown",
   "metadata": {},
   "source": [
    "The `fit` method does not return anything. See the `Attributes` section in the class docstring for a description of each attribute generated:"
   ]
  },
  {
   "cell_type": "code",
   "execution_count": 7,
   "metadata": {},
   "outputs": [
    {
     "data": {
      "text/plain": [
       "['account_number_num_fraud_transactions_per_account_number_7day',\n",
       " 'account_number_num_order_items_per_account_number_lifetime',\n",
       " 'account_number_avg_order_total_per_account_number_30day',\n",
       " 'account_number_num_distinct_transaction_per_account_number_7day',\n",
       " 'is_existing_user_0',\n",
       " 'status_Pending',\n",
       " 'is_billing_shipping_city_same_0',\n",
       " 'num_order_items_IsNull',\n",
       " 'order_total_IsNull']"
      ]
     },
     "execution_count": 7,
     "metadata": {},
     "output_type": "execute_result"
    }
   ],
   "source": [
    "agg.columns_to_keep"
   ]
  },
  {
   "cell_type": "markdown",
   "metadata": {},
   "source": [
    "----"
   ]
  },
  {
   "cell_type": "markdown",
   "metadata": {},
   "source": [
    "## Transform the dataset (or another dataset)"
   ]
  },
  {
   "cell_type": "markdown",
   "metadata": {},
   "source": [
    "Use the `transform` method to reduce the original dataset (or a separate dataset) by removing the correlated columns."
   ]
  },
  {
   "cell_type": "code",
   "execution_count": 8,
   "metadata": {},
   "outputs": [],
   "source": [
    "X_train_reduced = agg.transform(X_train)"
   ]
  },
  {
   "cell_type": "code",
   "execution_count": 9,
   "metadata": {},
   "outputs": [
    {
     "data": {
      "text/plain": [
       "((8894, 32), (8894, 9))"
      ]
     },
     "execution_count": 9,
     "metadata": {},
     "output_type": "execute_result"
    }
   ],
   "source": [
    "X_train.shape, X_train_reduced.shape "
   ]
  },
  {
   "cell_type": "code",
   "execution_count": 10,
   "metadata": {},
   "outputs": [],
   "source": [
    "X_test_reduced = agg.transform(X_test)"
   ]
  },
  {
   "cell_type": "code",
   "execution_count": 11,
   "metadata": {},
   "outputs": [
    {
     "data": {
      "text/plain": [
       "((4382, 34), (4382, 9))"
      ]
     },
     "execution_count": 11,
     "metadata": {},
     "output_type": "execute_result"
    }
   ],
   "source": [
    "X_test.shape, X_test_reduced.shape "
   ]
  },
  {
   "cell_type": "markdown",
   "metadata": {},
   "source": [
    "### Outputs"
   ]
  },
  {
   "cell_type": "markdown",
   "metadata": {},
   "source": [
    "The `transform` method returns the original dataset with the correlated columns removed."
   ]
  },
  {
   "cell_type": "code",
   "execution_count": 12,
   "metadata": {},
   "outputs": [
    {
     "data": {
      "text/html": [
       "<div>\n",
       "<style scoped>\n",
       "    .dataframe tbody tr th:only-of-type {\n",
       "        vertical-align: middle;\n",
       "    }\n",
       "\n",
       "    .dataframe tbody tr th {\n",
       "        vertical-align: top;\n",
       "    }\n",
       "\n",
       "    .dataframe thead th {\n",
       "        text-align: right;\n",
       "    }\n",
       "</style>\n",
       "<table border=\"1\" class=\"dataframe\">\n",
       "  <thead>\n",
       "    <tr style=\"text-align: right;\">\n",
       "      <th></th>\n",
       "      <th>account_number_num_fraud_transactions_per_account_number_7day</th>\n",
       "      <th>account_number_num_order_items_per_account_number_lifetime</th>\n",
       "      <th>account_number_avg_order_total_per_account_number_30day</th>\n",
       "      <th>account_number_num_distinct_transaction_per_account_number_7day</th>\n",
       "      <th>is_existing_user_0</th>\n",
       "      <th>status_Pending</th>\n",
       "      <th>is_billing_shipping_city_same_0</th>\n",
       "      <th>num_order_items_IsNull</th>\n",
       "      <th>order_total_IsNull</th>\n",
       "    </tr>\n",
       "    <tr>\n",
       "      <th>eid</th>\n",
       "      <th></th>\n",
       "      <th></th>\n",
       "      <th></th>\n",
       "      <th></th>\n",
       "      <th></th>\n",
       "      <th></th>\n",
       "      <th></th>\n",
       "      <th></th>\n",
       "      <th></th>\n",
       "    </tr>\n",
       "  </thead>\n",
       "  <tbody>\n",
       "    <tr>\n",
       "      <th>867-8837095-9305559</th>\n",
       "      <td>0</td>\n",
       "      <td>0</td>\n",
       "      <td>0.0</td>\n",
       "      <td>1</td>\n",
       "      <td>0</td>\n",
       "      <td>0</td>\n",
       "      <td>0</td>\n",
       "      <td>0</td>\n",
       "      <td>1</td>\n",
       "    </tr>\n",
       "    <tr>\n",
       "      <th>974-5306287-3527394</th>\n",
       "      <td>0</td>\n",
       "      <td>0</td>\n",
       "      <td>0.0</td>\n",
       "      <td>1</td>\n",
       "      <td>0</td>\n",
       "      <td>0</td>\n",
       "      <td>0</td>\n",
       "      <td>0</td>\n",
       "      <td>1</td>\n",
       "    </tr>\n",
       "    <tr>\n",
       "      <th>584-0112844-9158928</th>\n",
       "      <td>0</td>\n",
       "      <td>0</td>\n",
       "      <td>0.0</td>\n",
       "      <td>1</td>\n",
       "      <td>0</td>\n",
       "      <td>0</td>\n",
       "      <td>0</td>\n",
       "      <td>0</td>\n",
       "      <td>1</td>\n",
       "    </tr>\n",
       "    <tr>\n",
       "      <th>956-4190732-7014837</th>\n",
       "      <td>0</td>\n",
       "      <td>0</td>\n",
       "      <td>0.0</td>\n",
       "      <td>1</td>\n",
       "      <td>0</td>\n",
       "      <td>0</td>\n",
       "      <td>0</td>\n",
       "      <td>0</td>\n",
       "      <td>1</td>\n",
       "    </tr>\n",
       "    <tr>\n",
       "      <th>349-7005645-8862067</th>\n",
       "      <td>0</td>\n",
       "      <td>0</td>\n",
       "      <td>0.0</td>\n",
       "      <td>1</td>\n",
       "      <td>0</td>\n",
       "      <td>0</td>\n",
       "      <td>0</td>\n",
       "      <td>0</td>\n",
       "      <td>1</td>\n",
       "    </tr>\n",
       "  </tbody>\n",
       "</table>\n",
       "</div>"
      ],
      "text/plain": [
       "                     account_number_num_fraud_transactions_per_account_number_7day  \\\n",
       "eid                                                                                  \n",
       "867-8837095-9305559                                                  0               \n",
       "974-5306287-3527394                                                  0               \n",
       "584-0112844-9158928                                                  0               \n",
       "956-4190732-7014837                                                  0               \n",
       "349-7005645-8862067                                                  0               \n",
       "\n",
       "                     account_number_num_order_items_per_account_number_lifetime  \\\n",
       "eid                                                                               \n",
       "867-8837095-9305559                                                  0            \n",
       "974-5306287-3527394                                                  0            \n",
       "584-0112844-9158928                                                  0            \n",
       "956-4190732-7014837                                                  0            \n",
       "349-7005645-8862067                                                  0            \n",
       "\n",
       "                     account_number_avg_order_total_per_account_number_30day  \\\n",
       "eid                                                                            \n",
       "867-8837095-9305559                                                0.0         \n",
       "974-5306287-3527394                                                0.0         \n",
       "584-0112844-9158928                                                0.0         \n",
       "956-4190732-7014837                                                0.0         \n",
       "349-7005645-8862067                                                0.0         \n",
       "\n",
       "                     account_number_num_distinct_transaction_per_account_number_7day  \\\n",
       "eid                                                                                    \n",
       "867-8837095-9305559                                                  1                 \n",
       "974-5306287-3527394                                                  1                 \n",
       "584-0112844-9158928                                                  1                 \n",
       "956-4190732-7014837                                                  1                 \n",
       "349-7005645-8862067                                                  1                 \n",
       "\n",
       "                     is_existing_user_0  status_Pending  \\\n",
       "eid                                                       \n",
       "867-8837095-9305559                   0               0   \n",
       "974-5306287-3527394                   0               0   \n",
       "584-0112844-9158928                   0               0   \n",
       "956-4190732-7014837                   0               0   \n",
       "349-7005645-8862067                   0               0   \n",
       "\n",
       "                     is_billing_shipping_city_same_0  num_order_items_IsNull  \\\n",
       "eid                                                                            \n",
       "867-8837095-9305559                                0                       0   \n",
       "974-5306287-3527394                                0                       0   \n",
       "584-0112844-9158928                                0                       0   \n",
       "956-4190732-7014837                                0                       0   \n",
       "349-7005645-8862067                                0                       0   \n",
       "\n",
       "                     order_total_IsNull  \n",
       "eid                                      \n",
       "867-8837095-9305559                   1  \n",
       "974-5306287-3527394                   1  \n",
       "584-0112844-9158928                   1  \n",
       "956-4190732-7014837                   1  \n",
       "349-7005645-8862067                   1  "
      ]
     },
     "execution_count": 12,
     "metadata": {},
     "output_type": "execute_result"
    }
   ],
   "source": [
    "X_train_reduced.head()"
   ]
  },
  {
   "cell_type": "code",
   "execution_count": 13,
   "metadata": {},
   "outputs": [
    {
     "data": {
      "text/html": [
       "<div>\n",
       "<style scoped>\n",
       "    .dataframe tbody tr th:only-of-type {\n",
       "        vertical-align: middle;\n",
       "    }\n",
       "\n",
       "    .dataframe tbody tr th {\n",
       "        vertical-align: top;\n",
       "    }\n",
       "\n",
       "    .dataframe thead th {\n",
       "        text-align: right;\n",
       "    }\n",
       "</style>\n",
       "<table border=\"1\" class=\"dataframe\">\n",
       "  <thead>\n",
       "    <tr style=\"text-align: right;\">\n",
       "      <th></th>\n",
       "      <th>account_number_num_fraud_transactions_per_account_number_7day</th>\n",
       "      <th>account_number_num_order_items_per_account_number_lifetime</th>\n",
       "      <th>account_number_avg_order_total_per_account_number_30day</th>\n",
       "      <th>account_number_num_distinct_transaction_per_account_number_7day</th>\n",
       "      <th>is_existing_user_0</th>\n",
       "      <th>status_Pending</th>\n",
       "      <th>is_billing_shipping_city_same_0</th>\n",
       "      <th>num_order_items_IsNull</th>\n",
       "      <th>order_total_IsNull</th>\n",
       "    </tr>\n",
       "    <tr>\n",
       "      <th>eid</th>\n",
       "      <th></th>\n",
       "      <th></th>\n",
       "      <th></th>\n",
       "      <th></th>\n",
       "      <th></th>\n",
       "      <th></th>\n",
       "      <th></th>\n",
       "      <th></th>\n",
       "      <th></th>\n",
       "    </tr>\n",
       "  </thead>\n",
       "  <tbody>\n",
       "    <tr>\n",
       "      <th>975-8351797-7122581</th>\n",
       "      <td>0</td>\n",
       "      <td>2</td>\n",
       "      <td>29.00</td>\n",
       "      <td>1</td>\n",
       "      <td>1</td>\n",
       "      <td>0</td>\n",
       "      <td>0</td>\n",
       "      <td>0</td>\n",
       "      <td>0</td>\n",
       "    </tr>\n",
       "    <tr>\n",
       "      <th>785-6259585-7858053</th>\n",
       "      <td>0</td>\n",
       "      <td>0</td>\n",
       "      <td>0.00</td>\n",
       "      <td>1</td>\n",
       "      <td>0</td>\n",
       "      <td>0</td>\n",
       "      <td>0</td>\n",
       "      <td>0</td>\n",
       "      <td>1</td>\n",
       "    </tr>\n",
       "    <tr>\n",
       "      <th>057-4039373-1790681</th>\n",
       "      <td>0</td>\n",
       "      <td>2</td>\n",
       "      <td>192.95</td>\n",
       "      <td>1</td>\n",
       "      <td>0</td>\n",
       "      <td>0</td>\n",
       "      <td>0</td>\n",
       "      <td>0</td>\n",
       "      <td>0</td>\n",
       "    </tr>\n",
       "    <tr>\n",
       "      <th>095-5263240-3834186</th>\n",
       "      <td>0</td>\n",
       "      <td>0</td>\n",
       "      <td>0.00</td>\n",
       "      <td>1</td>\n",
       "      <td>0</td>\n",
       "      <td>0</td>\n",
       "      <td>0</td>\n",
       "      <td>0</td>\n",
       "      <td>1</td>\n",
       "    </tr>\n",
       "    <tr>\n",
       "      <th>980-3802574-0009480</th>\n",
       "      <td>0</td>\n",
       "      <td>2</td>\n",
       "      <td>9.00</td>\n",
       "      <td>1</td>\n",
       "      <td>0</td>\n",
       "      <td>0</td>\n",
       "      <td>0</td>\n",
       "      <td>0</td>\n",
       "      <td>0</td>\n",
       "    </tr>\n",
       "  </tbody>\n",
       "</table>\n",
       "</div>"
      ],
      "text/plain": [
       "                     account_number_num_fraud_transactions_per_account_number_7day  \\\n",
       "eid                                                                                  \n",
       "975-8351797-7122581                                                  0               \n",
       "785-6259585-7858053                                                  0               \n",
       "057-4039373-1790681                                                  0               \n",
       "095-5263240-3834186                                                  0               \n",
       "980-3802574-0009480                                                  0               \n",
       "\n",
       "                     account_number_num_order_items_per_account_number_lifetime  \\\n",
       "eid                                                                               \n",
       "975-8351797-7122581                                                  2            \n",
       "785-6259585-7858053                                                  0            \n",
       "057-4039373-1790681                                                  2            \n",
       "095-5263240-3834186                                                  0            \n",
       "980-3802574-0009480                                                  2            \n",
       "\n",
       "                     account_number_avg_order_total_per_account_number_30day  \\\n",
       "eid                                                                            \n",
       "975-8351797-7122581                                              29.00         \n",
       "785-6259585-7858053                                               0.00         \n",
       "057-4039373-1790681                                             192.95         \n",
       "095-5263240-3834186                                               0.00         \n",
       "980-3802574-0009480                                               9.00         \n",
       "\n",
       "                     account_number_num_distinct_transaction_per_account_number_7day  \\\n",
       "eid                                                                                    \n",
       "975-8351797-7122581                                                  1                 \n",
       "785-6259585-7858053                                                  1                 \n",
       "057-4039373-1790681                                                  1                 \n",
       "095-5263240-3834186                                                  1                 \n",
       "980-3802574-0009480                                                  1                 \n",
       "\n",
       "                     is_existing_user_0  status_Pending  \\\n",
       "eid                                                       \n",
       "975-8351797-7122581                   1               0   \n",
       "785-6259585-7858053                   0               0   \n",
       "057-4039373-1790681                   0               0   \n",
       "095-5263240-3834186                   0               0   \n",
       "980-3802574-0009480                   0               0   \n",
       "\n",
       "                     is_billing_shipping_city_same_0  num_order_items_IsNull  \\\n",
       "eid                                                                            \n",
       "975-8351797-7122581                                0                       0   \n",
       "785-6259585-7858053                                0                       0   \n",
       "057-4039373-1790681                                0                       0   \n",
       "095-5263240-3834186                                0                       0   \n",
       "980-3802574-0009480                                0                       0   \n",
       "\n",
       "                     order_total_IsNull  \n",
       "eid                                      \n",
       "975-8351797-7122581                   0  \n",
       "785-6259585-7858053                   1  \n",
       "057-4039373-1790681                   0  \n",
       "095-5263240-3834186                   1  \n",
       "980-3802574-0009480                   0  "
      ]
     },
     "execution_count": 13,
     "metadata": {},
     "output_type": "execute_result"
    }
   ],
   "source": [
    "X_test_reduced.head()"
   ]
  },
  {
   "cell_type": "markdown",
   "metadata": {},
   "source": [
    "---"
   ]
  },
  {
   "cell_type": "markdown",
   "metadata": {},
   "source": [
    "## Find correlated features and transform the dataset (in one step)"
   ]
  },
  {
   "cell_type": "markdown",
   "metadata": {},
   "source": [
    "You can also use the `fit_transform` method to identify the columns that should be kept, then remove the remaining correlated columns, all using the given dataset."
   ]
  },
  {
   "cell_type": "code",
   "execution_count": 14,
   "metadata": {},
   "outputs": [],
   "source": [
    "agg = AgglomerativeClusteringReducer(**params)\n",
    "X_train_reduced = agg.fit_transform(X=X_train)"
   ]
  },
  {
   "cell_type": "code",
   "execution_count": 15,
   "metadata": {},
   "outputs": [
    {
     "data": {
      "text/html": [
       "<div>\n",
       "<style scoped>\n",
       "    .dataframe tbody tr th:only-of-type {\n",
       "        vertical-align: middle;\n",
       "    }\n",
       "\n",
       "    .dataframe tbody tr th {\n",
       "        vertical-align: top;\n",
       "    }\n",
       "\n",
       "    .dataframe thead th {\n",
       "        text-align: right;\n",
       "    }\n",
       "</style>\n",
       "<table border=\"1\" class=\"dataframe\">\n",
       "  <thead>\n",
       "    <tr style=\"text-align: right;\">\n",
       "      <th></th>\n",
       "      <th>account_number_num_fraud_transactions_per_account_number_7day</th>\n",
       "      <th>account_number_num_order_items_per_account_number_lifetime</th>\n",
       "      <th>account_number_avg_order_total_per_account_number_30day</th>\n",
       "      <th>account_number_num_distinct_transaction_per_account_number_7day</th>\n",
       "      <th>is_existing_user_0</th>\n",
       "      <th>status_Pending</th>\n",
       "      <th>is_billing_shipping_city_same_0</th>\n",
       "      <th>num_order_items_IsNull</th>\n",
       "      <th>order_total_IsNull</th>\n",
       "    </tr>\n",
       "    <tr>\n",
       "      <th>eid</th>\n",
       "      <th></th>\n",
       "      <th></th>\n",
       "      <th></th>\n",
       "      <th></th>\n",
       "      <th></th>\n",
       "      <th></th>\n",
       "      <th></th>\n",
       "      <th></th>\n",
       "      <th></th>\n",
       "    </tr>\n",
       "  </thead>\n",
       "  <tbody>\n",
       "    <tr>\n",
       "      <th>867-8837095-9305559</th>\n",
       "      <td>0</td>\n",
       "      <td>0</td>\n",
       "      <td>0.0</td>\n",
       "      <td>1</td>\n",
       "      <td>0</td>\n",
       "      <td>0</td>\n",
       "      <td>0</td>\n",
       "      <td>0</td>\n",
       "      <td>1</td>\n",
       "    </tr>\n",
       "    <tr>\n",
       "      <th>974-5306287-3527394</th>\n",
       "      <td>0</td>\n",
       "      <td>0</td>\n",
       "      <td>0.0</td>\n",
       "      <td>1</td>\n",
       "      <td>0</td>\n",
       "      <td>0</td>\n",
       "      <td>0</td>\n",
       "      <td>0</td>\n",
       "      <td>1</td>\n",
       "    </tr>\n",
       "    <tr>\n",
       "      <th>584-0112844-9158928</th>\n",
       "      <td>0</td>\n",
       "      <td>0</td>\n",
       "      <td>0.0</td>\n",
       "      <td>1</td>\n",
       "      <td>0</td>\n",
       "      <td>0</td>\n",
       "      <td>0</td>\n",
       "      <td>0</td>\n",
       "      <td>1</td>\n",
       "    </tr>\n",
       "    <tr>\n",
       "      <th>956-4190732-7014837</th>\n",
       "      <td>0</td>\n",
       "      <td>0</td>\n",
       "      <td>0.0</td>\n",
       "      <td>1</td>\n",
       "      <td>0</td>\n",
       "      <td>0</td>\n",
       "      <td>0</td>\n",
       "      <td>0</td>\n",
       "      <td>1</td>\n",
       "    </tr>\n",
       "    <tr>\n",
       "      <th>349-7005645-8862067</th>\n",
       "      <td>0</td>\n",
       "      <td>0</td>\n",
       "      <td>0.0</td>\n",
       "      <td>1</td>\n",
       "      <td>0</td>\n",
       "      <td>0</td>\n",
       "      <td>0</td>\n",
       "      <td>0</td>\n",
       "      <td>1</td>\n",
       "    </tr>\n",
       "  </tbody>\n",
       "</table>\n",
       "</div>"
      ],
      "text/plain": [
       "                     account_number_num_fraud_transactions_per_account_number_7day  \\\n",
       "eid                                                                                  \n",
       "867-8837095-9305559                                                  0               \n",
       "974-5306287-3527394                                                  0               \n",
       "584-0112844-9158928                                                  0               \n",
       "956-4190732-7014837                                                  0               \n",
       "349-7005645-8862067                                                  0               \n",
       "\n",
       "                     account_number_num_order_items_per_account_number_lifetime  \\\n",
       "eid                                                                               \n",
       "867-8837095-9305559                                                  0            \n",
       "974-5306287-3527394                                                  0            \n",
       "584-0112844-9158928                                                  0            \n",
       "956-4190732-7014837                                                  0            \n",
       "349-7005645-8862067                                                  0            \n",
       "\n",
       "                     account_number_avg_order_total_per_account_number_30day  \\\n",
       "eid                                                                            \n",
       "867-8837095-9305559                                                0.0         \n",
       "974-5306287-3527394                                                0.0         \n",
       "584-0112844-9158928                                                0.0         \n",
       "956-4190732-7014837                                                0.0         \n",
       "349-7005645-8862067                                                0.0         \n",
       "\n",
       "                     account_number_num_distinct_transaction_per_account_number_7day  \\\n",
       "eid                                                                                    \n",
       "867-8837095-9305559                                                  1                 \n",
       "974-5306287-3527394                                                  1                 \n",
       "584-0112844-9158928                                                  1                 \n",
       "956-4190732-7014837                                                  1                 \n",
       "349-7005645-8862067                                                  1                 \n",
       "\n",
       "                     is_existing_user_0  status_Pending  \\\n",
       "eid                                                       \n",
       "867-8837095-9305559                   0               0   \n",
       "974-5306287-3527394                   0               0   \n",
       "584-0112844-9158928                   0               0   \n",
       "956-4190732-7014837                   0               0   \n",
       "349-7005645-8862067                   0               0   \n",
       "\n",
       "                     is_billing_shipping_city_same_0  num_order_items_IsNull  \\\n",
       "eid                                                                            \n",
       "867-8837095-9305559                                0                       0   \n",
       "974-5306287-3527394                                0                       0   \n",
       "584-0112844-9158928                                0                       0   \n",
       "956-4190732-7014837                                0                       0   \n",
       "349-7005645-8862067                                0                       0   \n",
       "\n",
       "                     order_total_IsNull  \n",
       "eid                                      \n",
       "867-8837095-9305559                   1  \n",
       "974-5306287-3527394                   1  \n",
       "584-0112844-9158928                   1  \n",
       "956-4190732-7014837                   1  \n",
       "349-7005645-8862067                   1  "
      ]
     },
     "execution_count": 15,
     "metadata": {},
     "output_type": "execute_result"
    }
   ],
   "source": [
    "X_train_reduced.head()"
   ]
  },
  {
   "cell_type": "code",
   "execution_count": 16,
   "metadata": {},
   "outputs": [
    {
     "data": {
      "text/plain": [
       "((8894, 32), (8894, 9))"
      ]
     },
     "execution_count": 16,
     "metadata": {},
     "output_type": "execute_result"
    }
   ],
   "source": [
    "X_train.shape, X_train_reduced.shape"
   ]
  },
  {
   "cell_type": "markdown",
   "metadata": {},
   "source": [
    "----"
   ]
  }
 ],
 "metadata": {
  "interpreter": {
   "hash": "6a5a22224d030f6805b27da964f50b3905be89918ca593f843e32c3b2a80fa84"
  },
  "kernelspec": {
   "display_name": "Python 3 (ipykernel)",
   "language": "python",
   "name": "python3"
  },
  "language_info": {
   "codemirror_mode": {
    "name": "ipython",
    "version": 3
   },
   "file_extension": ".py",
   "mimetype": "text/x-python",
   "name": "python",
   "nbconvert_exporter": "python",
   "pygments_lexer": "ipython3",
   "version": "3.8.9"
  }
 },
 "nbformat": 4,
 "nbformat_minor": 4
}
