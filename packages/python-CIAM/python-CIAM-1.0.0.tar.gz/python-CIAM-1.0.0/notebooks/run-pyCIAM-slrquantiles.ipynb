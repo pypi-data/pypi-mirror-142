{
 "cells": [
  {
   "cell_type": "markdown",
   "metadata": {
    "tags": []
   },
   "source": [
    "# Run pyCIAM"
   ]
  },
  {
   "cell_type": "code",
   "execution_count": 1,
   "metadata": {},
   "outputs": [],
   "source": [
    "%load_ext autoreload\n",
    "%autoreload 2"
   ]
  },
  {
   "cell_type": "code",
   "execution_count": 2,
   "metadata": {},
   "outputs": [
    {
     "name": "stderr",
     "output_type": "stream",
     "text": [
      "/srv/conda/envs/notebook/lib/python3.9/site-packages/dask_gateway/client.py:21: FutureWarning: format_bytes is deprecated and will be removed in a future release. Please use dask.utils.format_bytes instead.\n",
      "  from distributed.utils import LoopRunner, format_bytes\n"
     ]
    }
   ],
   "source": [
    "import distributed as dd\n",
    "import numpy as np\n",
    "import pandas as pd\n",
    "import xarray as xr\n",
    "from dask_gateway import Gateway\n",
    "from pyCIAM.constants import CASE_DICT, CASES, COSTTYPES\n",
    "from pyCIAM.io import (\n",
    "    check_finished_zarr_workflow,\n",
    "    create_template_dataarray,\n",
    "    load_ciam_inputs,\n",
    "    prep_sliiders,\n",
    "    save_to_zarr_region,\n",
    ")\n",
    "from pyCIAM.run import calc_costs_all_adapt\n",
    "from shared import (\n",
    "    AUTHOR,\n",
    "    CONTACT,\n",
    "    FS,\n",
    "    HISTORY,\n",
    "    PATH_PARAMS,\n",
    "    PATH_QUANTILE_RES,\n",
    "    PATH_REFA,\n",
    "    PATH_SLIIDERS_ECON,\n",
    "    PATH_SLIIDERS_SLR_QUANTILES,\n",
    "    PATH_SURGE_LOOKUP,\n",
    "    QUANTILES,\n",
    "    upload_pkg,\n",
    ")"
   ]
  },
  {
   "cell_type": "code",
   "execution_count": 3,
   "metadata": {
    "tags": [
     "parameters"
    ]
   },
   "outputs": [],
   "source": [
    "TMPPATH = FS.get_mapper(\"rhg-data-scratch/pyCIAM_results_quantiles_prechunked.zarr\")\n",
    "\n",
    "N_WORKERS = 500\n",
    "SEG_CHUNKSIZE = 3\n",
    "\n",
    "DESCRIPTION = \"Projected coastal damages from pyCIAM, using quantiles of SLR scenarios.\""
   ]
  },
  {
   "cell_type": "code",
   "execution_count": 4,
   "metadata": {
    "tags": []
   },
   "outputs": [
    {
     "data": {
      "application/vnd.jupyter.widget-view+json": {
       "model_id": "f8bdc00792134c2493effab370f40b3f",
       "version_major": 2,
       "version_minor": 0
      },
      "text/plain": [
       "VBox(children=(HTML(value='<h2>GatewayCluster</h2>'), HBox(children=(HTML(value='\\n<div>\\n<style scoped>\\n    …"
      ]
     },
     "metadata": {},
     "output_type": "display_data"
    }
   ],
   "source": [
    "gateway = Gateway()\n",
    "cluster = gateway.new_cluster(\n",
    "    idle_timeout=3600,\n",
    "    profile=\"micro\",\n",
    "    env_items={\n",
    "        \"DASK_DISTRIBUTED__SCHEDULER__ALLOWED_FAILURES\": \"10\",\n",
    "        \"DASK_DISTRIBUTED__WORKER__MEMORY__TARGET\": \"0.95\",\n",
    "        \"DASK_DISTRIBUTED__WORKER__MEMORY__SPILL\": \"0.95\",\n",
    "        \"DASK_DISTRIBUTED__WORKER__MEMORY__PAUSE\": \"0.95\",\n",
    "        \"DASK_DISTRIBUTED__WORKER__MEMORY__TERMINATE\": \"0.99\",\n",
    "    },\n",
    ")\n",
    "client = cluster.get_client()\n",
    "cluster.scale(N_WORKERS)\n",
    "\n",
    "client.upload_file(\"shared.py\")\n",
    "upload_pkg(client, \"../pyCIAM\")\n",
    "\n",
    "cluster"
   ]
  },
  {
   "cell_type": "markdown",
   "metadata": {},
   "source": [
    "## Save Template Zarr"
   ]
  },
  {
   "cell_type": "code",
   "execution_count": 5,
   "metadata": {},
   "outputs": [],
   "source": [
    "# get coord values from input data\n",
    "params = pd.read_json(PATH_PARAMS)[\"values\"]\n",
    "ciam_in = xr.open_zarr(PATH_SLIIDERS_ECON, chunks=None)\n",
    "\n",
    "# set up coords and lengths\n",
    "coords = {\n",
    "    \"scenario\": np.concatenate(\n",
    "        ([\"ncc\"], xr.open_zarr(PATH_SLIIDERS_SLR_QUANTILES).scenario.values)\n",
    "    ),\n",
    "    \"quantile\": QUANTILES,\n",
    "    \"iam\": ciam_in.iam.values,\n",
    "    \"ssp\": ciam_in.ssp.values,\n",
    "    \"year\": ciam_in.year.values,\n",
    "    \"seg_adm\": ciam_in.seg_adm.values,\n",
    "    \"costtype\": COSTTYPES,\n",
    "    \"case\": CASES,\n",
    "}\n",
    "\n",
    "lens = {k: len(v) for k, v in coords.items()}\n",
    "\n",
    "chunks = {\"seg_adm\": 1, \"case\": len(coords[\"case\"]) - 1}\n",
    "chunks = {k: -1 if k not in chunks else chunks[k] for k in coords}\n",
    "\n",
    "# create arrays\n",
    "cost_dims = [\n",
    "    \"case\",\n",
    "    \"costtype\",\n",
    "    \"seg_adm\",\n",
    "    \"scenario\",\n",
    "    \"quantile\",\n",
    "    \"year\",\n",
    "    \"ssp\",\n",
    "    \"iam\",\n",
    "]\n",
    "refA_dims = [\"case\", \"seg_adm\", \"quantile\"]\n",
    "npv_dims = [\"ssp\", \"iam\", \"case\", \"seg_adm\", \"quantile\"]\n",
    "\n",
    "out_ds = create_template_dataarray(cost_dims, coords, chunks).to_dataset(name=\"costs\")\n",
    "out_ds[\"npv\"] = out_ds.costs.isel(year=0, costtype=0, drop=True).astype(\"float64\")\n",
    "out_ds[\"optimal_case\"] = out_ds.npv.isel(case=0, drop=True).astype(\"uint8\")\n",
    "\n",
    "# add attrs\n",
    "out_ds.attrs.update(\n",
    "    {\n",
    "        \"description\": DESCRIPTION,\n",
    "        \"author\": AUTHOR,\n",
    "        \"contact\": CONTACT,\n",
    "        \"history\": HISTORY,\n",
    "        \"updated\": pd.Timestamp.now(tz=\"US/Pacific\").strftime(\"%c\"),\n",
    "        \"planning_period_start_years\": params.at_start,\n",
    "    }\n",
    ")\n",
    "out_ds.costs.attrs.update(\n",
    "    {\n",
    "        \"long_name\": \"Costs\",\n",
    "        \"description\": \"Cost (by cost type) incurred in a given time period\",\n",
    "        \"units\": \"2019 USD\",\n",
    "    }\n",
    ")\n",
    "out_ds.npv.attrs.update(\n",
    "    {\n",
    "        \"long_name\": \"Net Present Value\",\n",
    "        \"description\": (\n",
    "            \"Calculated using 4% discount and inclusive of initial adaptation.\"\n",
    "        ),\n",
    "    }\n",
    ")\n",
    "out_ds.optimal_case.attrs.update(\n",
    "    {\n",
    "        \"long_name\": \"Lowest Cost Adaptation Approach\",\n",
    "        \"description\": \"Adaptation approach chosen by each segment\",\n",
    "        \"data_dictionary\": str(CASE_DICT),\n",
    "    }\n",
    ")"
   ]
  },
  {
   "cell_type": "code",
   "execution_count": 6,
   "metadata": {
    "tags": []
   },
   "outputs": [
    {
     "data": {
      "text/plain": [
       "Delayed('_finalize_store-f0224880-2cd0-4934-8ca0-46900db87ed7')"
      ]
     },
     "execution_count": 6,
     "metadata": {},
     "output_type": "execute_result"
    }
   ],
   "source": [
    "# save\n",
    "out_ds.to_zarr(TMPPATH, compute=False, mode=\"w\")"
   ]
  },
  {
   "cell_type": "markdown",
   "metadata": {},
   "source": [
    "## Define wrapper functions"
   ]
  },
  {
   "cell_type": "code",
   "execution_count": 7,
   "metadata": {},
   "outputs": [],
   "source": [
    "def calc_all_cases(\n",
    "    seg_adms,\n",
    "    check=True,\n",
    "):\n",
    "    if check_finished_zarr_workflow(\n",
    "        finalstore=TMPPATH,\n",
    "        varname=\"costs\",\n",
    "        final_selector={\"seg_adm\": seg_adms, \"case\": CASES[:-1]},\n",
    "        check_temp=False,\n",
    "        check_final=check,\n",
    "    ):\n",
    "        return None\n",
    "\n",
    "    segs = [\"_\".join(seg_adm.split(\"_\")[:2]) for seg_adm in seg_adms]\n",
    "\n",
    "    inputs, slr, surge = load_ciam_inputs(\n",
    "        PATH_SLIIDERS_ECON,\n",
    "        PATH_SLIIDERS_SLR_QUANTILES,\n",
    "        params,\n",
    "        seg_adms,\n",
    "        seg_var=\"seg_adm\",\n",
    "        surge_lookup_store=PATH_SURGE_LOOKUP,\n",
    "    )\n",
    "\n",
    "    slr = slr.unstack().rename(mc_sample_id=\"quantile\")\n",
    "\n",
    "    # get initial adaptation height\n",
    "    refA = (\n",
    "        xr.open_zarr(PATH_REFA, chunks=None)\n",
    "        .refA.sel(seg=segs, movefactor=inputs.movefactor)\n",
    "        .drop_vars([\"case\", \"movefactor\"])\n",
    "    )\n",
    "    refA[\"seg\"] = seg_adms\n",
    "\n",
    "    out = (\n",
    "        calc_costs_all_adapt(\n",
    "            inputs, slr, surge_lookup=surge, elev_chunksize=None, min_R_noadapt=refA\n",
    "        )\n",
    "        .to_dataset(name=\"costs\")\n",
    "        .rename(seg=\"seg_adm\")\n",
    "    )\n",
    "\n",
    "    out[\"npv\"] = (\n",
    "        (out.costs.sum(\"costtype\") * inputs.dfact)\n",
    "        .sel(year=slice(inputs.npv_start, None))\n",
    "        .sum(\"year\")\n",
    "    )\n",
    "\n",
    "    save_to_zarr_region(out, TMPPATH)\n",
    "    return None\n",
    "\n",
    "\n",
    "def optimize_case(seg_adm, *wait_futs, check=True):\n",
    "    # use last fpath to check if this task has already been run\n",
    "    if check and check_finished_zarr_workflow(\n",
    "        finalstore=TMPPATH,\n",
    "        varname=\"costs\",\n",
    "        final_selector={\"seg_adm\": seg_adm, \"case\": CASES[-1]},\n",
    "        check_temp=False,\n",
    "        check_final=check,\n",
    "    ):\n",
    "        return None\n",
    "\n",
    "    seg = \"_\".join(seg_adm.split(\"_\")[:2])\n",
    "    with xr.open_zarr(PATH_SLIIDERS_ECON, chunks=None) as ds:\n",
    "        all_segs = ds.seg.load()\n",
    "\n",
    "    this_seg_adms = all_segs.seg_adm.isel(seg_adm=all_segs.seg == seg).values\n",
    "\n",
    "    opt_case = (\n",
    "        xr.open_zarr(TMPPATH, chunks=None)\n",
    "        .npv.sel(seg_adm=this_seg_adms)\n",
    "        .drop_sel(case=\"optimalfixed\")\n",
    "        .sum(\"seg_adm\")\n",
    "        .idxmin(\"case\")\n",
    "    )\n",
    "    opt_case_ser = opt_case.to_series()\n",
    "    opt_val = (\n",
    "        pd.Series(\n",
    "            pd.Series(CASE_DICT).loc[opt_case_ser].values,\n",
    "            index=opt_case_ser.index,\n",
    "        )\n",
    "        .to_xarray()\n",
    "        .astype(\"uint8\")\n",
    "    )\n",
    "\n",
    "    dfact = prep_sliiders(\n",
    "        PATH_SLIIDERS_ECON, seg_adm, constants=params, seg_var=\"seg_adm\"\n",
    "    ).dfact\n",
    "\n",
    "    out = (\n",
    "        xr.open_zarr(TMPPATH, chunks=None)[[\"costs\"]]\n",
    "        .sel(seg_adm=[seg_adm])\n",
    "        .sel(case=opt_case, drop=True)\n",
    "        .expand_dims(case=[\"optimalfixed\"])\n",
    "    )\n",
    "    out[\"optimal_case\"] = opt_val.expand_dims(seg_adm=[seg_adm])\n",
    "    out[\"npv\"] = (\n",
    "        (out.costs.sum(\"costtype\") * dfact)\n",
    "        .sel(year=slice(params.npv_start, None))\n",
    "        .sum(\"year\")\n",
    "    )\n",
    "\n",
    "    save_to_zarr_region(out, TMPPATH)\n",
    "    return None"
   ]
  },
  {
   "cell_type": "markdown",
   "metadata": {},
   "source": [
    "## Calculate initial adaptation"
   ]
  },
  {
   "cell_type": "code",
   "execution_count": 8,
   "metadata": {},
   "outputs": [],
   "source": [
    "# get groups for running pyCIAM\n",
    "groups = [\n",
    "    ciam_in.seg_adm.isel(seg_adm=slice(i, i + SEG_CHUNKSIZE)).values\n",
    "    for i in np.arange(0, len(ciam_in.seg_adm), SEG_CHUNKSIZE)\n",
    "]\n",
    "\n",
    "# get groups for aggregating seg-adms up to segs\n",
    "most_segadm = ciam_in.seg.groupby(ciam_in.seg).count().max().item()\n",
    "i = 0\n",
    "agg_groups = []\n",
    "while i < len(ciam_in.seg):\n",
    "    this_group = ciam_in.isel(seg_adm=slice(i, i + most_segadm))\n",
    "    if len(np.unique(this_group.seg)) == 1:\n",
    "        i += most_segadm\n",
    "    else:\n",
    "        this_group = this_group.isel(\n",
    "            seg_adm=this_group.seg != this_group.seg.isel(seg_adm=-1, drop=True)\n",
    "        )\n",
    "        i += len(this_group.seg_adm)\n",
    "\n",
    "    agg_groups.append(this_group.seg_adm.values)\n",
    "\n",
    "groups_ser = (\n",
    "    pd.Series(groups)\n",
    "    .explode()\n",
    "    .reset_index()\n",
    "    .rename(columns={\"index\": \"group_id\", 0: \"seg_adm\"})\n",
    "    .set_index(\"seg_adm\")\n",
    "    .group_id\n",
    ")"
   ]
  },
  {
   "cell_type": "markdown",
   "metadata": {
    "tags": []
   },
   "source": [
    "## Run 1st stage (estimate costs for each adaptation type)"
   ]
  },
  {
   "cell_type": "code",
   "execution_count": 9,
   "metadata": {},
   "outputs": [],
   "source": [
    "futs = np.array(client.map(calc_all_cases, groups, check=True))"
   ]
  },
  {
   "cell_type": "markdown",
   "metadata": {
    "tags": []
   },
   "source": [
    "## Add optimal case data"
   ]
  },
  {
   "cell_type": "code",
   "execution_count": 10,
   "metadata": {
    "tags": []
   },
   "outputs": [],
   "source": [
    "seg_adms = ciam_in.seg_adm.values\n",
    "seg_adm_ser = pd.Series(seg_adms)\n",
    "seg_adm_ser.index = seg_adm_ser.str.split(\"_\").apply(lambda x: \"_\".join(x[:2]))\n",
    "seg_grps = seg_adm_ser.groupby(seg_adm_ser.index).apply(list)\n",
    "precurser_futs = (\n",
    "    seg_adm_ser.to_frame(\"seg_adm\")\n",
    "    .join(seg_grps.rename(\"seg_group\"))\n",
    "    .set_index(\"seg_adm\")\n",
    "    .seg_group.explode()\n",
    "    .to_frame()\n",
    "    .join(groups_ser, on=\"seg_group\")\n",
    "    .groupby(\"seg_adm\")\n",
    "    .group_id.apply(set)\n",
    "    .apply(list)\n",
    "    .apply(lambda x: futs[x])\n",
    ")"
   ]
  },
  {
   "cell_type": "code",
   "execution_count": 11,
   "metadata": {
    "tags": []
   },
   "outputs": [],
   "source": [
    "futs = precurser_futs.reset_index(drop=False).apply(\n",
    "    lambda row: client.submit(optimize_case, row.seg_adm, *row.group_id), axis=1\n",
    ")"
   ]
  },
  {
   "cell_type": "markdown",
   "metadata": {
    "tags": []
   },
   "source": [
    "## Rechunk and save"
   ]
  },
  {
   "cell_type": "code",
   "execution_count": 12,
   "metadata": {
    "tags": []
   },
   "outputs": [],
   "source": [
    "_ = dd.wait(futs.tolist())"
   ]
  },
  {
   "cell_type": "code",
   "execution_count": 13,
   "metadata": {},
   "outputs": [],
   "source": [
    "out = (\n",
    "    xr.open_zarr(TMPPATH, chunks={\"case\": -1, \"seg_adm\": 10})\n",
    "    .chunk({\"year\": 10})\n",
    "    .persist()\n",
    ")\n",
    "for v in out.data_vars:\n",
    "    out[v].encoding.clear()\n",
    "\n",
    "out[\"npv\"] = out.npv.astype(\"float32\")\n",
    "\n",
    "for k, v in out.coords.items():\n",
    "    if v.dtype == object:\n",
    "        out[k] = v.astype(\"unicode\")"
   ]
  },
  {
   "cell_type": "code",
   "execution_count": 14,
   "metadata": {
    "tags": []
   },
   "outputs": [
    {
     "data": {
      "text/plain": [
       "<xarray.backends.zarr.ZarrStore at 0x7ff324d1ec80>"
      ]
     },
     "execution_count": 14,
     "metadata": {},
     "output_type": "execute_result"
    }
   ],
   "source": [
    "out.to_zarr(PATH_QUANTILE_RES, mode=\"w\")"
   ]
  },
  {
   "cell_type": "markdown",
   "metadata": {},
   "source": [
    "### Shut down cluster"
   ]
  },
  {
   "cell_type": "code",
   "execution_count": 15,
   "metadata": {},
   "outputs": [
    {
     "data": {
      "text/plain": [
       "(None, None)"
      ]
     },
     "execution_count": 15,
     "metadata": {},
     "output_type": "execute_result"
    }
   ],
   "source": [
    "cluster.close(), client.close()"
   ]
  },
  {
   "cell_type": "code",
   "execution_count": 16,
   "metadata": {},
   "outputs": [],
   "source": [
    "TMPPATH.clear()"
   ]
  }
 ],
 "metadata": {
  "kernelspec": {
   "display_name": "Python 3 (ipykernel)",
   "language": "python",
   "name": "python3"
  },
  "language_info": {
   "codemirror_mode": {
    "name": "ipython",
    "version": 3
   },
   "file_extension": ".py",
   "mimetype": "text/x-python",
   "name": "python",
   "nbconvert_exporter": "python",
   "pygments_lexer": "ipython3",
   "version": "3.9.10"
  },
  "widgets": {
   "application/vnd.jupyter.widget-state+json": {
    "state": {
     "011b5a8774c1453692280d1628baa0ac": {
      "model_module": "@jupyter-widgets/controls",
      "model_module_version": "1.5.0",
      "model_name": "HTMLModel",
      "state": {
       "layout": "IPY_MODEL_dfcdda89cf4943168d4285eb6981e99f",
       "style": "IPY_MODEL_eb2e55fcddd14b4ea147ce0b246259ad",
       "value": "\n<div>\n<style scoped>\n    .dataframe tbody tr th:only-of-type {\n        vertical-align: middle;\n    }\n\n    .dataframe tbody tr th {\n        vertical-align: top;\n    }\n\n    .dataframe thead th {\n        text-align: right;\n    }\n</style>\n<table style=\"text-align: right;\">\n    <tr><th>Workers</th> <td>500</td></tr>\n    <tr><th>Cores</th> <td>500</td></tr>\n    <tr><th>Memory</th> <td>3.17 TiB</td></tr>\n</table>\n</div>\n"
      }
     },
     "022d9269f16e413fa0e58ebbace857d5": {
      "model_module": "@jupyter-widgets/controls",
      "model_module_version": "1.5.0",
      "model_name": "HBoxModel",
      "state": {
       "children": [
        "IPY_MODEL_011b5a8774c1453692280d1628baa0ac",
        "IPY_MODEL_c52e689ee125456d896ba263b1f432c1"
       ],
       "layout": "IPY_MODEL_5842f51e74744ee58fcbd8534eec96b4"
      }
     },
     "09c33086573847e1a053eca947bea843": {
      "model_module": "@jupyter-widgets/controls",
      "model_module_version": "1.5.0",
      "model_name": "HBoxModel",
      "state": {
       "children": [
        "IPY_MODEL_e54fbe6e4ccc42e5b98b16d1bff578a6",
        "IPY_MODEL_6fb163185c0e4915843a57edbf983445"
       ],
       "layout": "IPY_MODEL_3a936eef930e47eca265e01ffcf39069"
      }
     },
     "0a141b1ceb8b4689a5a5be3c97494bac": {
      "model_module": "@jupyter-widgets/base",
      "model_module_version": "1.2.0",
      "model_name": "LayoutModel",
      "state": {}
     },
     "0f1c2409e5494f53a4a200a89c2c00c7": {
      "model_module": "@jupyter-widgets/controls",
      "model_module_version": "1.5.0",
      "model_name": "ButtonModel",
      "state": {
       "description": "Adapt",
       "layout": "IPY_MODEL_e4f273ef2ef54ffa98a608985873a34a",
       "style": "IPY_MODEL_ab55ca9642334ff69925f4c40495d99e"
      }
     },
     "10437cf6c94d4e95b2ddc6c92adb86b6": {
      "model_module": "@jupyter-widgets/controls",
      "model_module_version": "1.5.0",
      "model_name": "DescriptionStyleModel",
      "state": {
       "description_width": ""
      }
     },
     "278eeda693984b28a70a906b61dbd36d": {
      "model_module": "@jupyter-widgets/base",
      "model_module_version": "1.2.0",
      "model_name": "LayoutModel",
      "state": {}
     },
     "2897f8b9a81a49479761e85a5143f7d9": {
      "model_module": "@jupyter-widgets/controls",
      "model_module_version": "1.5.0",
      "model_name": "DescriptionStyleModel",
      "state": {
       "description_width": ""
      }
     },
     "3066e5dc3b294e6598b9153e1144fa5c": {
      "model_module": "@jupyter-widgets/controls",
      "model_module_version": "1.5.0",
      "model_name": "HTMLModel",
      "state": {
       "layout": "IPY_MODEL_4fc63e4a600d47e78d461da11b1134a8",
       "style": "IPY_MODEL_52f23f7d0e484444bbfece9ce37bcb42",
       "value": "<p><b>Dashboard: </b><a href=\"/services/dask-gateway/clusters/daskhub-dev.1e5b2232619e40ef9afab3138cc7dac0/status\" target=\"_blank\">/services/dask-gateway/clusters/daskhub-dev.1e5b2232619e40ef9afab3138cc7dac0/status</a></p>\n"
      }
     },
     "3a936eef930e47eca265e01ffcf39069": {
      "model_module": "@jupyter-widgets/base",
      "model_module_version": "1.2.0",
      "model_name": "LayoutModel",
      "state": {}
     },
     "4fc63e4a600d47e78d461da11b1134a8": {
      "model_module": "@jupyter-widgets/base",
      "model_module_version": "1.2.0",
      "model_name": "LayoutModel",
      "state": {}
     },
     "52f23f7d0e484444bbfece9ce37bcb42": {
      "model_module": "@jupyter-widgets/controls",
      "model_module_version": "1.5.0",
      "model_name": "DescriptionStyleModel",
      "state": {
       "description_width": ""
      }
     },
     "5631d826324c45ba9ac3084f2d4d32b8": {
      "model_module": "@jupyter-widgets/controls",
      "model_module_version": "1.5.0",
      "model_name": "HBoxModel",
      "state": {
       "children": [
        "IPY_MODEL_b2f47c7caf554375b78f7914e12dc25a",
        "IPY_MODEL_f619de2e0f634b5e885a31b7cc3686eb",
        "IPY_MODEL_0f1c2409e5494f53a4a200a89c2c00c7"
       ],
       "layout": "IPY_MODEL_0a141b1ceb8b4689a5a5be3c97494bac"
      }
     },
     "5842f51e74744ee58fcbd8534eec96b4": {
      "model_module": "@jupyter-widgets/base",
      "model_module_version": "1.2.0",
      "model_name": "LayoutModel",
      "state": {}
     },
     "5a884acf873a4d6c977bfe2201493d44": {
      "model_module": "@jupyter-widgets/controls",
      "model_module_version": "1.5.0",
      "model_name": "HTMLModel",
      "state": {
       "layout": "IPY_MODEL_278eeda693984b28a70a906b61dbd36d",
       "style": "IPY_MODEL_67b2e0e5afd2479199f7ae385a4b9590",
       "value": "<p><b>Name: </b>daskhub-dev.1e5b2232619e40ef9afab3138cc7dac0</p>"
      }
     },
     "67b2e0e5afd2479199f7ae385a4b9590": {
      "model_module": "@jupyter-widgets/controls",
      "model_module_version": "1.5.0",
      "model_name": "DescriptionStyleModel",
      "state": {
       "description_width": ""
      }
     },
     "6fb163185c0e4915843a57edbf983445": {
      "model_module": "@jupyter-widgets/controls",
      "model_module_version": "1.5.0",
      "model_name": "ButtonModel",
      "state": {
       "description": "Scale",
       "layout": "IPY_MODEL_e4f273ef2ef54ffa98a608985873a34a",
       "style": "IPY_MODEL_d311b3d9ce0742b4a9ac86d404cfd2c2"
      }
     },
     "8a668372602c4916a0073e9303a41486": {
      "model_module": "@jupyter-widgets/controls",
      "model_module_version": "1.5.0",
      "model_name": "DescriptionStyleModel",
      "state": {
       "description_width": ""
      }
     },
     "ab55ca9642334ff69925f4c40495d99e": {
      "model_module": "@jupyter-widgets/controls",
      "model_module_version": "1.5.0",
      "model_name": "ButtonStyleModel",
      "state": {}
     },
     "af48596eb2f143a697b8c4009c5d7535": {
      "model_module": "@jupyter-widgets/base",
      "model_module_version": "1.2.0",
      "model_name": "LayoutModel",
      "state": {}
     },
     "b2f47c7caf554375b78f7914e12dc25a": {
      "model_module": "@jupyter-widgets/controls",
      "model_module_version": "1.5.0",
      "model_name": "IntTextModel",
      "state": {
       "description": "Minimum",
       "layout": "IPY_MODEL_e4f273ef2ef54ffa98a608985873a34a",
       "step": 1,
       "style": "IPY_MODEL_2897f8b9a81a49479761e85a5143f7d9"
      }
     },
     "b871964617ec4be28d736041b7c0b2e3": {
      "model_module": "@jupyter-widgets/base",
      "model_module_version": "1.2.0",
      "model_name": "LayoutModel",
      "state": {}
     },
     "c52e689ee125456d896ba263b1f432c1": {
      "model_module": "@jupyter-widgets/controls",
      "model_module_version": "1.5.0",
      "model_name": "AccordionModel",
      "state": {
       "_titles": {
        "0": "Manual Scaling",
        "1": "Adaptive Scaling"
       },
       "children": [
        "IPY_MODEL_09c33086573847e1a053eca947bea843",
        "IPY_MODEL_5631d826324c45ba9ac3084f2d4d32b8"
       ],
       "layout": "IPY_MODEL_f5eb68bff2144f1080765ab3a4622ad8",
       "selected_index": null
      }
     },
     "d311b3d9ce0742b4a9ac86d404cfd2c2": {
      "model_module": "@jupyter-widgets/controls",
      "model_module_version": "1.5.0",
      "model_name": "ButtonStyleModel",
      "state": {}
     },
     "dfcdda89cf4943168d4285eb6981e99f": {
      "model_module": "@jupyter-widgets/base",
      "model_module_version": "1.2.0",
      "model_name": "LayoutModel",
      "state": {
       "min_width": "150px"
      }
     },
     "e4f273ef2ef54ffa98a608985873a34a": {
      "model_module": "@jupyter-widgets/base",
      "model_module_version": "1.2.0",
      "model_name": "LayoutModel",
      "state": {
       "width": "150px"
      }
     },
     "e54fbe6e4ccc42e5b98b16d1bff578a6": {
      "model_module": "@jupyter-widgets/controls",
      "model_module_version": "1.5.0",
      "model_name": "IntTextModel",
      "state": {
       "description": "Workers",
       "layout": "IPY_MODEL_e4f273ef2ef54ffa98a608985873a34a",
       "step": 1,
       "style": "IPY_MODEL_10437cf6c94d4e95b2ddc6c92adb86b6"
      }
     },
     "eb2e55fcddd14b4ea147ce0b246259ad": {
      "model_module": "@jupyter-widgets/controls",
      "model_module_version": "1.5.0",
      "model_name": "DescriptionStyleModel",
      "state": {
       "description_width": ""
      }
     },
     "effb05c29f34459db30b0e8a2b63db84": {
      "model_module": "@jupyter-widgets/controls",
      "model_module_version": "1.5.0",
      "model_name": "DescriptionStyleModel",
      "state": {
       "description_width": ""
      }
     },
     "f3e52569c23148319ae88e796fe8696e": {
      "model_module": "@jupyter-widgets/controls",
      "model_module_version": "1.5.0",
      "model_name": "HTMLModel",
      "state": {
       "layout": "IPY_MODEL_af48596eb2f143a697b8c4009c5d7535",
       "style": "IPY_MODEL_effb05c29f34459db30b0e8a2b63db84",
       "value": "<h2>GatewayCluster</h2>"
      }
     },
     "f5eb68bff2144f1080765ab3a4622ad8": {
      "model_module": "@jupyter-widgets/base",
      "model_module_version": "1.2.0",
      "model_name": "LayoutModel",
      "state": {
       "min_width": "500px"
      }
     },
     "f619de2e0f634b5e885a31b7cc3686eb": {
      "model_module": "@jupyter-widgets/controls",
      "model_module_version": "1.5.0",
      "model_name": "IntTextModel",
      "state": {
       "description": "Maximum",
       "layout": "IPY_MODEL_e4f273ef2ef54ffa98a608985873a34a",
       "step": 1,
       "style": "IPY_MODEL_8a668372602c4916a0073e9303a41486"
      }
     },
     "f8bdc00792134c2493effab370f40b3f": {
      "model_module": "@jupyter-widgets/controls",
      "model_module_version": "1.5.0",
      "model_name": "VBoxModel",
      "state": {
       "children": [
        "IPY_MODEL_f3e52569c23148319ae88e796fe8696e",
        "IPY_MODEL_022d9269f16e413fa0e58ebbace857d5",
        "IPY_MODEL_5a884acf873a4d6c977bfe2201493d44",
        "IPY_MODEL_3066e5dc3b294e6598b9153e1144fa5c"
       ],
       "layout": "IPY_MODEL_b871964617ec4be28d736041b7c0b2e3"
      }
     }
    },
    "version_major": 2,
    "version_minor": 0
   }
  }
 },
 "nbformat": 4,
 "nbformat_minor": 4
}
