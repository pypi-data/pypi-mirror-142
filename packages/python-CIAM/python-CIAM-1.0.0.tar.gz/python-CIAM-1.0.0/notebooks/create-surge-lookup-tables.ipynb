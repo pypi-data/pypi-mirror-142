{
 "cells": [
  {
   "cell_type": "markdown",
   "id": "5468498c-bfaa-408b-ae36-841b16a69a3e",
   "metadata": {},
   "source": [
    "# Create pyCIAM Storm Costs Lookup Table"
   ]
  },
  {
   "cell_type": "markdown",
   "id": "f6bee218-9782-40bf-8772-d2288235d1b1",
   "metadata": {},
   "source": [
    "Calculating the storm costs in a CIAM model involves a numerical integration over both elevation and the quantiles of storm surge at each segment-ADM1 location. This is too computationally intensive to run for all seg-ADMs for each year for all SLR trajectories, especially when using pyCIAM to run a Monte Carlo analysis across tens of thousands of SLR trajectories. Instead, we build a lookup table indexed by seg-ADM, LSLR, adaptation type (retreat vs. protect), cost type (mortality vs. capital loss), and `rhdiff` (the difference between the retreat/protect height and lslr). This is similar to how it is treated in the original CIAM model except that:\n",
    "\n",
    "1. We use a lookup table rather than a parameterized exponential function of `rhdiff` and `lslr`\n",
    "2. We account for elevational heterogeneity in population and capital when evaluating our costs in retreat scenarios. The original CIAM included `lslr` in their exponential function only for the protect adaptation type, while for `noAdaptation` and `retreat`, the function was only of `rhdiff`."
   ]
  },
  {
   "cell_type": "code",
   "execution_count": 1,
   "id": "40be5461-d797-4522-940f-cee7ddec7a49",
   "metadata": {},
   "outputs": [],
   "source": [
    "%load_ext autoreload\n",
    "%autoreload 2"
   ]
  },
  {
   "cell_type": "markdown",
   "id": "8590679c-89af-4eb6-a105-752fbb51440a",
   "metadata": {},
   "source": [
    "## Setup"
   ]
  },
  {
   "cell_type": "code",
   "execution_count": 2,
   "id": "afd03880-8e46-4d81-867d-bfb6505ea788",
   "metadata": {},
   "outputs": [
    {
     "name": "stderr",
     "output_type": "stream",
     "text": [
      "/srv/conda/envs/notebook/lib/python3.9/site-packages/dask_gateway/client.py:21: FutureWarning: format_bytes is deprecated and will be removed in a future release. Please use dask.utils.format_bytes instead.\n",
      "  from distributed.utils import LoopRunner, format_bytes\n"
     ]
    }
   ],
   "source": [
    "import distributed as dd\n",
    "import pandas as pd\n",
    "from dask_gateway import Gateway\n",
    "from pyCIAM.surge.lookup import create_surge_lookup\n",
    "from pyCIAM.surge import damage_funcs\n",
    "from shared import (\n",
    "    PATH_PARAMS,\n",
    "    PATH_SLIIDERS_ECON,\n",
    "    PATH_SLIIDERS_ECON_SEG,\n",
    "    PATH_SLIIDERS_SLR_QUANTILES,\n",
    "    PATH_SURGE_LOOKUP,\n",
    "    PATH_SURGE_LOOKUP_SEG,\n",
    "    upload_pkg,\n",
    ")"
   ]
  },
  {
   "cell_type": "code",
   "execution_count": 5,
   "id": "47979c48-7fff-49b4-b445-ea6bf746fa37",
   "metadata": {},
   "outputs": [],
   "source": [
    "N_WORKERS = 700\n",
    "SEG_CHUNKSIZE = 4\n",
    "\n",
    "PARAMS = pd.read_json(PATH_PARAMS)[\"values\"]"
   ]
  },
  {
   "cell_type": "code",
   "execution_count": null,
   "id": "6104bced",
   "metadata": {},
   "outputs": [],
   "source": [
    "DMF_I = getattr(damage_funcs, PARAMS.dmf + \"_i\")\n",
    "DDF_I = getattr(damage_funcs, PARAMS.ddf + \"_i\")"
   ]
  },
  {
   "cell_type": "code",
   "execution_count": 6,
   "id": "dbb04b4a-14b8-4403-ad33-88bfe71bd8fc",
   "metadata": {},
   "outputs": [
    {
     "data": {
      "application/vnd.jupyter.widget-view+json": {
       "model_id": "311f83b0bda44765970e04b71b3b1afa",
       "version_major": 2,
       "version_minor": 0
      },
      "text/plain": [
       "VBox(children=(HTML(value='<h2>GatewayCluster</h2>'), HBox(children=(HTML(value='\\n<div>\\n<style scoped>\\n    …"
      ]
     },
     "metadata": {},
     "output_type": "display_data"
    }
   ],
   "source": [
    "gateway = Gateway()\n",
    "cluster = gateway.new_cluster(\n",
    "    idle_timeout=3600,\n",
    "    profile=\"micro\",\n",
    "    env_items={\n",
    "        \"DASK_DISTRIBUTED__WORKER__MEMORY__TARGET\": \"0.95\",\n",
    "        \"DASK_DISTRIBUTED__WORKER__MEMORY__SPILL\": \"0.95\",\n",
    "        \"DASK_DISTRIBUTED__WORKER__MEMORY__PAUSE\": \"0.95\",\n",
    "        \"DASK_DISTRIBUTED__WORKER__MEMORY__TERMINATE\": \"0.99\",\n",
    "    },\n",
    ")\n",
    "client = cluster.get_client()\n",
    "cluster.scale(N_WORKERS)\n",
    "\n",
    "client.upload_file(\"shared.py\")\n",
    "upload_pkg(client, \"../pyCIAM\")\n",
    "\n",
    "cluster"
   ]
  },
  {
   "cell_type": "markdown",
   "id": "8cd85123-c954-41a4-9c50-13dbbbba8c97",
   "metadata": {},
   "source": [
    "## Run surge damage calculations for each combo"
   ]
  },
  {
   "cell_type": "code",
   "execution_count": 7,
   "id": "9f38b3fa-c329-428e-b331-96c45e7c6828",
   "metadata": {},
   "outputs": [],
   "source": [
    "client.wait_for_workers(N_WORKERS * 0.75)"
   ]
  },
  {
   "cell_type": "code",
   "execution_count": 8,
   "id": "1e823775-0d12-4e52-93d1-7e3586913e65",
   "metadata": {
    "tags": []
   },
   "outputs": [],
   "source": [
    "futs = create_surge_lookup(\n",
    "    PATH_SLIIDERS_ECON,\n",
    "    PATH_SLIIDERS_SLR_QUANTILES,\n",
    "    PATH_SURGE_LOOKUP,\n",
    "    \"seg_adm\",\n",
    "    PARAMS.at_start,\n",
    "    PARAMS.n_interp_pts_lslr,\n",
    "    PARAMS.n_interp_pts_rhdiff,\n",
    "    DDF_I,\n",
    "    DMF_I,\n",
    "    PARAMS.floodmortality,\n",
    "    client,\n",
    "    client_kwargs={\"batch_size\": N_WORKERS},\n",
    "    template_save_kwargs={\"force_overwrite\": True},\n",
    "    seg_chunksize=4,\n",
    ")"
   ]
  },
  {
   "cell_type": "code",
   "execution_count": 9,
   "id": "f2ab586e-e091-4ea9-9429-e411adcf400f",
   "metadata": {},
   "outputs": [],
   "source": [
    "futs_seg = create_surge_lookup(\n",
    "    PATH_SLIIDERS_ECON_SEG,\n",
    "    PATH_SLIIDERS_SLR_QUANTILES,\n",
    "    PATH_SURGE_LOOKUP_SEG,\n",
    "    \"seg\",\n",
    "    PARAMS.at_start,\n",
    "    PARAMS.n_interp_pts_lslr,\n",
    "    PARAMS.n_interp_pts_rhdiff,\n",
    "    DDF_I,\n",
    "    DMF_I,\n",
    "    PARAMS.floodmortality,\n",
    "    client,\n",
    "    client_kwargs={\"batch_size\": N_WORKERS},\n",
    "    template_save_kwargs={\"force_overwrite\": True},\n",
    "    seg_chunksize=4,\n",
    ")"
   ]
  },
  {
   "cell_type": "markdown",
   "id": "ab098b05-e797-43c2-94f5-59cdc13ee40e",
   "metadata": {},
   "source": [
    "## Close"
   ]
  },
  {
   "cell_type": "code",
   "execution_count": 10,
   "id": "f941a509-7035-4105-8b79-88a97e759737",
   "metadata": {},
   "outputs": [
    {
     "data": {
      "text/plain": [
       "(None, None)"
      ]
     },
     "execution_count": 10,
     "metadata": {},
     "output_type": "execute_result"
    }
   ],
   "source": [
    "# ensure completion and close cluster\n",
    "dd.wait(futs + futs_seg)\n",
    "cluster.close(), client.close()"
   ]
  }
 ],
 "metadata": {
  "kernelspec": {
   "display_name": "Python 3 (ipykernel)",
   "language": "python",
   "name": "python3"
  },
  "language_info": {
   "codemirror_mode": {
    "name": "ipython",
    "version": 3
   },
   "file_extension": ".py",
   "mimetype": "text/x-python",
   "name": "python",
   "nbconvert_exporter": "python",
   "pygments_lexer": "ipython3",
   "version": "3.9.10"
  },
  "widgets": {
   "application/vnd.jupyter.widget-state+json": {
    "state": {
     "0b1fe027bb3f424b9480247b1114d6bb": {
      "model_module": "@jupyter-widgets/base",
      "model_module_version": "1.2.0",
      "model_name": "LayoutModel",
      "state": {
       "min_width": "500px"
      }
     },
     "0cf27a2b14df4835a5b1c1db127109d1": {
      "model_module": "@jupyter-widgets/controls",
      "model_module_version": "1.5.0",
      "model_name": "DescriptionStyleModel",
      "state": {
       "description_width": ""
      }
     },
     "189d55e801d649509af4140430e01a76": {
      "model_module": "@jupyter-widgets/controls",
      "model_module_version": "1.5.0",
      "model_name": "DescriptionStyleModel",
      "state": {
       "description_width": ""
      }
     },
     "1ad63d01b5834be1bef36951c2ec001f": {
      "model_module": "@jupyter-widgets/base",
      "model_module_version": "1.2.0",
      "model_name": "LayoutModel",
      "state": {}
     },
     "2668fb969b4b43c6bcb8b6116a796f4a": {
      "model_module": "@jupyter-widgets/base",
      "model_module_version": "1.2.0",
      "model_name": "LayoutModel",
      "state": {}
     },
     "287ee6df366d489b8fcb1f23eed99080": {
      "model_module": "@jupyter-widgets/controls",
      "model_module_version": "1.5.0",
      "model_name": "DescriptionStyleModel",
      "state": {
       "description_width": ""
      }
     },
     "292b5c9f64d8493dab55627e6ed2c1b0": {
      "model_module": "@jupyter-widgets/controls",
      "model_module_version": "1.5.0",
      "model_name": "HBoxModel",
      "state": {
       "children": [
        "IPY_MODEL_fd0993cc20314e8fa1d9a2f4bd35ebd1",
        "IPY_MODEL_a020432ce10a4ffda02b1dbbc278bebb"
       ],
       "layout": "IPY_MODEL_310408d15c66451b95080ef4ae17593e"
      }
     },
     "310408d15c66451b95080ef4ae17593e": {
      "model_module": "@jupyter-widgets/base",
      "model_module_version": "1.2.0",
      "model_name": "LayoutModel",
      "state": {}
     },
     "311f83b0bda44765970e04b71b3b1afa": {
      "model_module": "@jupyter-widgets/controls",
      "model_module_version": "1.5.0",
      "model_name": "VBoxModel",
      "state": {
       "children": [
        "IPY_MODEL_cc08a57068a1443d9ecdfca500870317",
        "IPY_MODEL_292b5c9f64d8493dab55627e6ed2c1b0",
        "IPY_MODEL_ef5adfe988514db79f33192100c6d589",
        "IPY_MODEL_e7610ac249134a0e9e8678e708e9be2a"
       ],
       "layout": "IPY_MODEL_1ad63d01b5834be1bef36951c2ec001f"
      }
     },
     "320039bc23074d9686377bfd21b104d7": {
      "model_module": "@jupyter-widgets/controls",
      "model_module_version": "1.5.0",
      "model_name": "IntTextModel",
      "state": {
       "description": "Maximum",
       "layout": "IPY_MODEL_4a8a27ce57e840c9b557743cb739f17b",
       "step": 1,
       "style": "IPY_MODEL_189d55e801d649509af4140430e01a76"
      }
     },
     "3958b66318204b8cbdb8d9a537080a45": {
      "model_module": "@jupyter-widgets/base",
      "model_module_version": "1.2.0",
      "model_name": "LayoutModel",
      "state": {}
     },
     "403be48abc014935a6c1aa4a714255a3": {
      "model_module": "@jupyter-widgets/base",
      "model_module_version": "1.2.0",
      "model_name": "LayoutModel",
      "state": {
       "min_width": "150px"
      }
     },
     "4630998fdef44168877d1e4a31b77686": {
      "model_module": "@jupyter-widgets/controls",
      "model_module_version": "1.5.0",
      "model_name": "ButtonStyleModel",
      "state": {}
     },
     "4a4836b546184de5aecf5d0d8833897a": {
      "model_module": "@jupyter-widgets/controls",
      "model_module_version": "1.5.0",
      "model_name": "ButtonStyleModel",
      "state": {}
     },
     "4a8a27ce57e840c9b557743cb739f17b": {
      "model_module": "@jupyter-widgets/base",
      "model_module_version": "1.2.0",
      "model_name": "LayoutModel",
      "state": {
       "width": "150px"
      }
     },
     "521546e2468c47e7b3afaa348787a6fd": {
      "model_module": "@jupyter-widgets/controls",
      "model_module_version": "1.5.0",
      "model_name": "DescriptionStyleModel",
      "state": {
       "description_width": ""
      }
     },
     "67f4867319aa4d5d876fe3ce867728f0": {
      "model_module": "@jupyter-widgets/controls",
      "model_module_version": "1.5.0",
      "model_name": "DescriptionStyleModel",
      "state": {
       "description_width": ""
      }
     },
     "6d4b611cf2664f6f8171a56cede9197d": {
      "model_module": "@jupyter-widgets/controls",
      "model_module_version": "1.5.0",
      "model_name": "HBoxModel",
      "state": {
       "children": [
        "IPY_MODEL_80c0ca7d058b4fd885a89e52eb90fb02",
        "IPY_MODEL_db202e47cd574c4592cb0d6ad00de0f1"
       ],
       "layout": "IPY_MODEL_d93bfb845dbd40f6830f170b56dd4e90"
      }
     },
     "80c0ca7d058b4fd885a89e52eb90fb02": {
      "model_module": "@jupyter-widgets/controls",
      "model_module_version": "1.5.0",
      "model_name": "IntTextModel",
      "state": {
       "description": "Workers",
       "layout": "IPY_MODEL_4a8a27ce57e840c9b557743cb739f17b",
       "step": 1,
       "style": "IPY_MODEL_872c08d5b5f7456aab21a9bd12f3389b"
      }
     },
     "872c08d5b5f7456aab21a9bd12f3389b": {
      "model_module": "@jupyter-widgets/controls",
      "model_module_version": "1.5.0",
      "model_name": "DescriptionStyleModel",
      "state": {
       "description_width": ""
      }
     },
     "89e7b3ed4f2844f5886c82c886765180": {
      "model_module": "@jupyter-widgets/controls",
      "model_module_version": "1.5.0",
      "model_name": "ButtonModel",
      "state": {
       "description": "Adapt",
       "layout": "IPY_MODEL_4a8a27ce57e840c9b557743cb739f17b",
       "style": "IPY_MODEL_4a4836b546184de5aecf5d0d8833897a"
      }
     },
     "9b5c311d07474c24a271d8d02c09931f": {
      "model_module": "@jupyter-widgets/controls",
      "model_module_version": "1.5.0",
      "model_name": "DescriptionStyleModel",
      "state": {
       "description_width": ""
      }
     },
     "a020432ce10a4ffda02b1dbbc278bebb": {
      "model_module": "@jupyter-widgets/controls",
      "model_module_version": "1.5.0",
      "model_name": "AccordionModel",
      "state": {
       "_titles": {
        "0": "Manual Scaling",
        "1": "Adaptive Scaling"
       },
       "children": [
        "IPY_MODEL_6d4b611cf2664f6f8171a56cede9197d",
        "IPY_MODEL_cd23bd06b9c345a4b228b3424c83c583"
       ],
       "layout": "IPY_MODEL_0b1fe027bb3f424b9480247b1114d6bb",
       "selected_index": null
      }
     },
     "c068fd9d3eb94c11b62f1e3e8ef618c1": {
      "model_module": "@jupyter-widgets/base",
      "model_module_version": "1.2.0",
      "model_name": "LayoutModel",
      "state": {}
     },
     "cc08a57068a1443d9ecdfca500870317": {
      "model_module": "@jupyter-widgets/controls",
      "model_module_version": "1.5.0",
      "model_name": "HTMLModel",
      "state": {
       "layout": "IPY_MODEL_c068fd9d3eb94c11b62f1e3e8ef618c1",
       "style": "IPY_MODEL_67f4867319aa4d5d876fe3ce867728f0",
       "value": "<h2>GatewayCluster</h2>"
      }
     },
     "ccc33306138e4b1a872f461623bd8f55": {
      "model_module": "@jupyter-widgets/controls",
      "model_module_version": "1.5.0",
      "model_name": "IntTextModel",
      "state": {
       "description": "Minimum",
       "layout": "IPY_MODEL_4a8a27ce57e840c9b557743cb739f17b",
       "step": 1,
       "style": "IPY_MODEL_521546e2468c47e7b3afaa348787a6fd"
      }
     },
     "cd23bd06b9c345a4b228b3424c83c583": {
      "model_module": "@jupyter-widgets/controls",
      "model_module_version": "1.5.0",
      "model_name": "HBoxModel",
      "state": {
       "children": [
        "IPY_MODEL_ccc33306138e4b1a872f461623bd8f55",
        "IPY_MODEL_320039bc23074d9686377bfd21b104d7",
        "IPY_MODEL_89e7b3ed4f2844f5886c82c886765180"
       ],
       "layout": "IPY_MODEL_f1bb39c6c97543e9817035d7e27aa83f"
      }
     },
     "d93bfb845dbd40f6830f170b56dd4e90": {
      "model_module": "@jupyter-widgets/base",
      "model_module_version": "1.2.0",
      "model_name": "LayoutModel",
      "state": {}
     },
     "db202e47cd574c4592cb0d6ad00de0f1": {
      "model_module": "@jupyter-widgets/controls",
      "model_module_version": "1.5.0",
      "model_name": "ButtonModel",
      "state": {
       "description": "Scale",
       "layout": "IPY_MODEL_4a8a27ce57e840c9b557743cb739f17b",
       "style": "IPY_MODEL_4630998fdef44168877d1e4a31b77686"
      }
     },
     "e7610ac249134a0e9e8678e708e9be2a": {
      "model_module": "@jupyter-widgets/controls",
      "model_module_version": "1.5.0",
      "model_name": "HTMLModel",
      "state": {
       "layout": "IPY_MODEL_3958b66318204b8cbdb8d9a537080a45",
       "style": "IPY_MODEL_9b5c311d07474c24a271d8d02c09931f",
       "value": "<p><b>Dashboard: </b><a href=\"/services/dask-gateway/clusters/daskhub-dev.dfa982e25614464499d4a0f47a936d78/status\" target=\"_blank\">/services/dask-gateway/clusters/daskhub-dev.dfa982e25614464499d4a0f47a936d78/status</a></p>\n"
      }
     },
     "ef5adfe988514db79f33192100c6d589": {
      "model_module": "@jupyter-widgets/controls",
      "model_module_version": "1.5.0",
      "model_name": "HTMLModel",
      "state": {
       "layout": "IPY_MODEL_2668fb969b4b43c6bcb8b6116a796f4a",
       "style": "IPY_MODEL_287ee6df366d489b8fcb1f23eed99080",
       "value": "<p><b>Name: </b>daskhub-dev.dfa982e25614464499d4a0f47a936d78</p>"
      }
     },
     "f1bb39c6c97543e9817035d7e27aa83f": {
      "model_module": "@jupyter-widgets/base",
      "model_module_version": "1.2.0",
      "model_name": "LayoutModel",
      "state": {}
     },
     "fd0993cc20314e8fa1d9a2f4bd35ebd1": {
      "model_module": "@jupyter-widgets/controls",
      "model_module_version": "1.5.0",
      "model_name": "HTMLModel",
      "state": {
       "layout": "IPY_MODEL_403be48abc014935a6c1aa4a714255a3",
       "style": "IPY_MODEL_0cf27a2b14df4835a5b1c1db127109d1",
       "value": "\n<div>\n<style scoped>\n    .dataframe tbody tr th:only-of-type {\n        vertical-align: middle;\n    }\n\n    .dataframe tbody tr th {\n        vertical-align: top;\n    }\n\n    .dataframe thead th {\n        text-align: right;\n    }\n</style>\n<table style=\"text-align: right;\">\n    <tr><th>Workers</th> <td>693</td></tr>\n    <tr><th>Cores</th> <td>693</td></tr>\n    <tr><th>Memory</th> <td>4.40 TiB</td></tr>\n</table>\n</div>\n"
      }
     }
    },
    "version_major": 2,
    "version_minor": 0
   }
  }
 },
 "nbformat": 4,
 "nbformat_minor": 5
}
