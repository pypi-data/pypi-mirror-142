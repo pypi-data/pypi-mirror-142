{
 "cells": [
  {
   "cell_type": "code",
   "execution_count": null,
   "metadata": {},
   "outputs": [],
   "source": [
    "%load_ext autoreload\n",
    "%autoreload 2\n",
    "import pudl\n",
    "from pudl import constants as pc\n",
    "import pathlib\n",
    "import yaml\n",
    "import sqlalchemy as sa\n",
    "from pudl.etl import * \n",
    "import logging\n",
    "import sys\n",
    "import pathlib\n",
    "import copy"
   ]
  },
  {
   "cell_type": "code",
   "execution_count": null,
   "metadata": {},
   "outputs": [],
   "source": [
    "logger = logging.getLogger()\n",
    "logger.setLevel(logging.INFO)\n",
    "handler = logging.StreamHandler(stream=sys.stdout)\n",
    "formatter = logging.Formatter('%(message)s')\n",
    "handler.setFormatter(formatter)\n",
    "logger.handlers = [handler]"
   ]
  },
  {
   "cell_type": "code",
   "execution_count": null,
   "metadata": {},
   "outputs": [],
   "source": [
    "settings_file_name= 'etl_example.yml'\n",
    "clobber=True\n",
    "pudl_settings = pudl.workspace.setup.get_defaults()\n",
    "with open(pathlib.Path(pudl_settings['settings_dir'],\n",
    "                       settings_file_name),\n",
    "          \"r\") as f:\n",
    "    settings_file = yaml.safe_load(f)\n",
    "    datapkg_bundle_settings = settings_file['datapkg_bundle_settings']\n",
    "# validate the settings from the settings file.\n",
    "validated_bundle_settings = validate_params(datapkg_bundle_settings)"
   ]
  },
  {
   "cell_type": "code",
   "execution_count": null,
   "metadata": {},
   "outputs": [],
   "source": [
    "# THIS IS ASSUMING THE PKG W/ EIA IS THE FIRST ONE!\n",
    "# also, if you don't want to deal w/ the settings file..\n",
    "# you can just edit your eia_inputs below\n",
    "datapkg_settings = validated_bundle_settings[0]\n",
    "etl_params = datapkg_settings['datasets'][1]['eia']\n",
    "eia_inputs = pudl.etl._validate_params_eia(etl_params)\n",
    "eia923_tables = eia_inputs['eia923_tables']\n",
    "eia923_years = eia_inputs['eia923_years']\n",
    "eia860_tables = eia_inputs['eia860_tables']\n",
    "eia860_years = eia_inputs['eia860_years']\n",
    "sandbox = True"
   ]
  },
  {
   "cell_type": "code",
   "execution_count": null,
   "metadata": {},
   "outputs": [],
   "source": [
    "ds = pudl.workspace.datastore.Datastore(\n",
    "    Path(pudl_settings[\"pudl_in\"]),\n",
    "    sandbox=sandbox)\n",
    "# Extract EIA forms 923, 860\n",
    "eia923_raw_dfs = pudl.extract.eia923.Extractor(ds).extract(year=eia923_years)\n",
    "eia860_raw_dfs = pudl.extract.eia860.Extractor(ds).extract(year=eia860_years)\n",
    "\n",
    "# Transform EIA forms 923, 860\n",
    "eia860_transformed_dfs = pudl.transform.eia860.transform(\n",
    "    eia860_raw_dfs, eia860_tables=eia860_tables)\n",
    "eia923_transformed_dfs = pudl.transform.eia923.transform(\n",
    "    eia923_raw_dfs, eia923_tables=eia923_tables)"
   ]
  },
  {
   "cell_type": "code",
   "execution_count": null,
   "metadata": {},
   "outputs": [],
   "source": [
    "# create an eia transformed dfs dictionary\n",
    "eia_transformed_dfs = copy.deepcopy(eia860_transformed_dfs)\n",
    "eia_transformed_dfs.update(copy.deepcopy(eia923_transformed_dfs))\n",
    "# convert types..\n",
    "eia_transformed_dfs = pudl.helpers.convert_dfs_dict_dtypes(\n",
    "    eia_transformed_dfs, 'eia')"
   ]
  },
  {
   "cell_type": "code",
   "execution_count": null,
   "metadata": {},
   "outputs": [],
   "source": [
    "# we want to investigate the harvesting of the plants in this case...\n",
    "entity = 'plants'\n",
    "# create the empty entities df to fill up\n",
    "entities_dfs = {}\n",
    "entities_dfs, eia_transformed_dfs, col_dfs = pudl.transform.eia._harvesting(\n",
    "    entity, eia_transformed_dfs, entities_dfs,debug=True)"
   ]
  },
  {
   "cell_type": "code",
   "execution_count": null,
   "metadata": {},
   "outputs": [],
   "source": [
    "bac = col_dfs['balancing_authority_code']"
   ]
  },
  {
   "cell_type": "code",
   "execution_count": null,
   "metadata": {},
   "outputs": [],
   "source": [
    "bac"
   ]
  }
 ],
 "metadata": {
  "kernelspec": {
   "display_name": "Python 3",
   "language": "python",
   "name": "python3"
  },
  "language_info": {
   "codemirror_mode": {
    "name": "ipython",
    "version": 3
   },
   "file_extension": ".py",
   "mimetype": "text/x-python",
   "name": "python",
   "nbconvert_exporter": "python",
   "pygments_lexer": "ipython3",
   "version": "3.8.5"
  }
 },
 "nbformat": 4,
 "nbformat_minor": 4
}
