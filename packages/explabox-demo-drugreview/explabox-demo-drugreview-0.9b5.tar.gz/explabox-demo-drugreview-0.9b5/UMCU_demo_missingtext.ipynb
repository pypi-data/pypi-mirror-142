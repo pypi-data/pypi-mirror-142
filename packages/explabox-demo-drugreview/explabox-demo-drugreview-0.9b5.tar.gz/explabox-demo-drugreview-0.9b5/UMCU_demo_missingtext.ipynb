{
 "cells": [
  {
   "cell_type": "markdown",
   "id": "5dbd777c",
   "metadata": {},
   "source": [
    "<p style='color: #D20D0D; font-weight: 600;'>IMPORTANT!</p>\n",
    "\n",
    "Make sure to download the files from [git.science.uu.nl/m.j.robeer/explabox-demo-drugreview](https://git.science.uu.nl/m.j.robeer/explabox-demo-drugreview), unzip them and run `pip3 install .` in the folder where you unpacked the demo files.\n",
    "\n",
    "---\n",
    "\n",
    "## Explabox Demo: Drug Review Classification"
   ]
  },
  {
   "cell_type": "code",
   "execution_count": null,
   "id": "e8333e64",
   "metadata": {},
   "outputs": [],
   "source": [
    "from explabox_demo_drugreview import model, dataset_file"
   ]
  },
  {
   "cell_type": "code",
   "execution_count": null,
   "id": "d847bfb1",
   "metadata": {},
   "outputs": [],
   "source": [
    "from explabox import import_data\n",
    "data = import_data(dataset_file, data_cols='review', label_cols='rating')"
   ]
  },
  {
   "cell_type": "code",
   "execution_count": null,
   "id": "0fb934c9",
   "metadata": {},
   "outputs": [],
   "source": [
    "from explabox import Explabox\n",
    "\n",
    "box = Explabox(data=data,\n",
    "               model=model,\n",
    "               splits={'train': 'drugsComTrain.tsv', 'test': 'drugsComTest.tsv'})"
   ]
  },
  {
   "cell_type": "code",
   "execution_count": null,
   "id": "74ba8d1c",
   "metadata": {},
   "outputs": [],
   "source": [
    "box.examine()"
   ]
  },
  {
   "cell_type": "code",
   "execution_count": null,
   "id": "a4c8b366",
   "metadata": {},
   "outputs": [],
   "source": [
    "box.examine.wrongly_classified()"
   ]
  },
  {
   "cell_type": "code",
   "execution_count": null,
   "id": "79c089d0",
   "metadata": {},
   "outputs": [],
   "source": [
    "box.expose.compare_metric(perturbation='upper')"
   ]
  },
  {
   "cell_type": "code",
   "execution_count": null,
   "id": "d8ff0c24",
   "metadata": {},
   "outputs": [],
   "source": [
    "box.explore()"
   ]
  },
  {
   "cell_type": "code",
   "execution_count": null,
   "id": "3f11ecaa",
   "metadata": {},
   "outputs": [],
   "source": [
    "box.explain.prototypes_criticisms(n_prototypes=3, n_criticisms=1)"
   ]
  },
  {
   "cell_type": "code",
   "execution_count": null,
   "id": "85c999a9",
   "metadata": {},
   "outputs": [],
   "source": [
    "box.explain.prototypes(n=5, method='kmedoids')"
   ]
  },
  {
   "cell_type": "code",
   "execution_count": null,
   "id": "8b7f92f4",
   "metadata": {},
   "outputs": [],
   "source": [
    "box.explain.token_frequency(splits='train', explain_model=False, labelwise=True)"
   ]
  },
  {
   "cell_type": "code",
   "execution_count": null,
   "id": "ce5d273b",
   "metadata": {},
   "outputs": [],
   "source": [
    "box.explain.token_information(k=100)"
   ]
  },
  {
   "cell_type": "code",
   "execution_count": null,
   "id": "567b7d83",
   "metadata": {},
   "outputs": [],
   "source": [
    "box.explain.explain_prediction('Hate this medicine so much!')"
   ]
  },
  {
   "cell_type": "code",
   "execution_count": null,
   "id": "e24aee9c",
   "metadata": {},
   "outputs": [],
   "source": [
    "box.examine.wrongly_classified()"
   ]
  },
  {
   "cell_type": "code",
   "execution_count": null,
   "id": "47014c13",
   "metadata": {},
   "outputs": [],
   "source": [
    "box.expose.input_space('all', min_length=0, max_length=6000)"
   ]
  },
  {
   "cell_type": "code",
   "execution_count": null,
   "id": "635215a5",
   "metadata": {},
   "outputs": [],
   "source": [
    "box.expose.invariance('My friend {name} {loves|likes} this medicine. It is amazing!',\n",
    "                      expectation='positive',\n",
    "                      n=10)"
   ]
  },
  {
   "cell_type": "code",
   "execution_count": null,
   "id": "7c0306db",
   "metadata": {},
   "outputs": [],
   "source": [
    "box.expose.invariance('My friend {first_name} {hates|dislikes} this medicine. It is{| not} terrible!',\n",
    "                      expectation='negative',\n",
    "                      n=2)"
   ]
  },
  {
   "cell_type": "code",
   "execution_count": null,
   "id": "4f956a9c",
   "metadata": {},
   "outputs": [],
   "source": [
    "box.expose.mean_score('My friend {first_name} from {city} {hates|dislikes} this medicine!',\n",
    "                      selected_labels='negative')"
   ]
  }
 ],
 "metadata": {
  "kernelspec": {
   "display_name": "Python 3",
   "language": "python",
   "name": "python3"
  },
  "language_info": {
   "codemirror_mode": {
    "name": "ipython",
    "version": 3
   },
   "file_extension": ".py",
   "mimetype": "text/x-python",
   "name": "python",
   "nbconvert_exporter": "python",
   "pygments_lexer": "ipython3",
   "version": "3.9.9"
  }
 },
 "nbformat": 4,
 "nbformat_minor": 5
}
